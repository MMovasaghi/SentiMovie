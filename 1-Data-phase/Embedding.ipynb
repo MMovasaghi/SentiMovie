{
  "cells": [
    {
      "attachments": {},
      "cell_type": "markdown",
      "metadata": {},
      "source": [
        "<h5 style=\"direction:rtl;\" align=\"center\">بسم الله الرحمن الرحیم</h5>\n",
        "<br>\n",
        "<h4 style=\"direction:rtl;\" align=\"center\">دانشگاه صنعتی شریف - بهار ۱۴۰۲</h4>\n",
        "<h4 style=\"direction:rtl;\" align=\"center\">دانشکده مهندسی کامپیوتر</h4>\n",
        "<h3 style=\"direction:rtl;\" align=\"center\">فاز اول پروژه درس سامانه‌های یادگیری ماشین</h3>\n",
        "<hr>\n",
        "<div><h2 style=\"direction:rtl;\" align=\"center\">قسمت استخراج امبدینگ برای دادگان نمونه</h2><div>\n",
        "<hr>\n",
        "<h4 style=\"direction:rtl;\" align=\"center\">اعضای گروه: محمدحسین موثقی‌نیا، مهدی منوچهری، حمید مهتدی جعفری</h4>"
      ]
    },
    {
      "cell_type": "code",
      "execution_count": null,
      "metadata": {
        "colab": {
          "base_uri": "https://localhost:8080/"
        },
        "id": "F7sMTlB-mEiN",
        "outputId": "e232880b-569d-4a61-85d1-064a6fc9f052"
      },
      "outputs": [
        {
          "name": "stdout",
          "output_type": "stream",
          "text": [
            "Looking in indexes: https://pypi.org/simple, https://us-python.pkg.dev/colab-wheels/public/simple/\n",
            "Requirement already satisfied: transformers in /usr/local/lib/python3.9/dist-packages (4.28.1)\n",
            "Requirement already satisfied: filelock in /usr/local/lib/python3.9/dist-packages (from transformers) (3.11.0)\n",
            "Requirement already satisfied: pyyaml>=5.1 in /usr/local/lib/python3.9/dist-packages (from transformers) (6.0)\n",
            "Requirement already satisfied: packaging>=20.0 in /usr/local/lib/python3.9/dist-packages (from transformers) (23.0)\n",
            "Requirement already satisfied: numpy>=1.17 in /usr/local/lib/python3.9/dist-packages (from transformers) (1.22.4)\n",
            "Requirement already satisfied: requests in /usr/local/lib/python3.9/dist-packages (from transformers) (2.27.1)\n",
            "Requirement already satisfied: tokenizers!=0.11.3,<0.14,>=0.11.1 in /usr/local/lib/python3.9/dist-packages (from transformers) (0.13.3)\n",
            "Requirement already satisfied: huggingface-hub<1.0,>=0.11.0 in /usr/local/lib/python3.9/dist-packages (from transformers) (0.13.4)\n",
            "Requirement already satisfied: tqdm>=4.27 in /usr/local/lib/python3.9/dist-packages (from transformers) (4.65.0)\n",
            "Requirement already satisfied: regex!=2019.12.17 in /usr/local/lib/python3.9/dist-packages (from transformers) (2022.10.31)\n",
            "Requirement already satisfied: typing-extensions>=3.7.4.3 in /usr/local/lib/python3.9/dist-packages (from huggingface-hub<1.0,>=0.11.0->transformers) (4.5.0)\n",
            "Requirement already satisfied: idna<4,>=2.5 in /usr/local/lib/python3.9/dist-packages (from requests->transformers) (3.4)\n",
            "Requirement already satisfied: charset-normalizer~=2.0.0 in /usr/local/lib/python3.9/dist-packages (from requests->transformers) (2.0.12)\n",
            "Requirement already satisfied: certifi>=2017.4.17 in /usr/local/lib/python3.9/dist-packages (from requests->transformers) (2022.12.7)\n",
            "Requirement already satisfied: urllib3<1.27,>=1.21.1 in /usr/local/lib/python3.9/dist-packages (from requests->transformers) (1.26.15)\n"
          ]
        }
      ],
      "source": [
        "!pip install transformers"
      ]
    },
    {
      "cell_type": "code",
      "execution_count": 1,
      "metadata": {
        "id": "lX_far-MmHGZ"
      },
      "outputs": [],
      "source": [
        "import pandas as pd\n",
        "from tqdm import tqdm\n",
        "import numpy as np\n",
        "from transformers import AutoConfig, AutoTokenizer, AutoModel\n",
        "from transformers import BertTokenizer, BertModel\n",
        "import torch\n",
        "import nltk\n",
        "from sklearn.feature_extraction.text import TfidfVectorizer\n",
        "import re\n",
        "pd.options.mode.chained_assignment = None"
      ]
    },
    {
      "cell_type": "code",
      "execution_count": null,
      "metadata": {
        "colab": {
          "base_uri": "https://localhost:8080/"
        },
        "id": "t8FyEiHmmLZ1",
        "outputId": "558b0829-63d9-4502-d75a-aa6d3857d5e4"
      },
      "outputs": [
        {
          "name": "stderr",
          "output_type": "stream",
          "text": [
            "Some weights of the model checkpoint at bert-base-uncased were not used when initializing BertModel: ['cls.predictions.transform.LayerNorm.bias', 'cls.predictions.decoder.weight', 'cls.predictions.transform.dense.bias', 'cls.seq_relationship.bias', 'cls.predictions.bias', 'cls.predictions.transform.LayerNorm.weight', 'cls.predictions.transform.dense.weight', 'cls.seq_relationship.weight']\n",
            "- This IS expected if you are initializing BertModel from the checkpoint of a model trained on another task or with another architecture (e.g. initializing a BertForSequenceClassification model from a BertForPreTraining model).\n",
            "- This IS NOT expected if you are initializing BertModel from the checkpoint of a model that you expect to be exactly identical (initializing a BertForSequenceClassification model from a BertForSequenceClassification model).\n"
          ]
        }
      ],
      "source": [
        "tokenizer = BertTokenizer.from_pretrained('bert-base-uncased')\n",
        "model = BertModel.from_pretrained(\"bert-base-uncased\")"
      ]
    },
    {
      "cell_type": "markdown",
      "metadata": {
        "id": "3lmrPUx2iHkn"
      },
      "source": [
        "<div style=\"direction:rtl;\">در این قسمت دیتا به گوگل درایو اضافه شده است. اگر میخواهید کد اجرا کنید لطفا ادرس را درست کنید.</div>"
      ]
    },
    {
      "cell_type": "code",
      "execution_count": null,
      "metadata": {
        "colab": {
          "base_uri": "https://localhost:8080/"
        },
        "id": "hP_s_xtvubpZ",
        "outputId": "05348a03-f357-4134-a981-72e1b271434c"
      },
      "outputs": [
        {
          "name": "stdout",
          "output_type": "stream",
          "text": [
            "Drive already mounted at /content/drive; to attempt to forcibly remount, call drive.mount(\"/content/drive\", force_remount=True).\n"
          ]
        }
      ],
      "source": [
        "# Import data address \n",
        "from google.colab import drive\n",
        "drive.mount('/content/drive')\n",
        "fresh_sample = pd.read_csv('/content/drive/MyDrive/mlops/mlops_part_1_progect/fresh_sample.csv')\n",
        "rotten_sample = pd.read_csv('/content/drive/MyDrive/mlops/mlops_part_1_progect/rotten_sample.csv')"
      ]
    },
    {
      "attachments": {},
      "cell_type": "markdown",
      "metadata": {},
      "source": [
        "## Bert Embedding"
      ]
    },
    {
      "cell_type": "code",
      "execution_count": null,
      "metadata": {
        "colab": {
          "base_uri": "https://localhost:8080/"
        },
        "id": "4m4a8qesvZzE",
        "outputId": "eef0411d-c68d-4429-9c63-9626a359117c"
      },
      "outputs": [
        {
          "name": "stdout",
          "output_type": "stream",
          "text": [
            "Encoding review content for fresh sample\n"
          ]
        },
        {
          "name": "stderr",
          "output_type": "stream",
          "text": [
            "100%|██████████| 100/100 [00:24<00:00,  4.06it/s]\n"
          ]
        },
        {
          "name": "stdout",
          "output_type": "stream",
          "text": [
            "Encoding review content for rotten_sample\n"
          ]
        },
        {
          "name": "stderr",
          "output_type": "stream",
          "text": [
            "100%|██████████| 100/100 [00:16<00:00,  5.99it/s]\n"
          ]
        }
      ],
      "source": [
        "print('Encoding review content for fresh sample')\n",
        "title_encoding = []\n",
        "model.eval()\n",
        "for text in tqdm(fresh_sample[\"review_content\"]):\n",
        "    encoded_input = tokenizer(text, return_tensors='pt')\n",
        "    output = model(**encoded_input)\n",
        "    title_encoding.append(output.pooler_output[0].detach().numpy())\n",
        "\n",
        "title_encoding = [t.astype('float64') for t in title_encoding]\n",
        "fresh_sample.insert(loc=11, column='review_content_bert_embedding', value=title_encoding)\n",
        "\n",
        "\n",
        "print('Encoding review content for rotten_sample')\n",
        "title_encoding = []\n",
        "model.eval()\n",
        "for text in tqdm(rotten_sample[\"review_content\"]):\n",
        "    encoded_input = tokenizer(text, return_tensors='pt')\n",
        "    output = model(**encoded_input)\n",
        "    title_encoding.append(output.pooler_output[0].detach().numpy())\n",
        "\n",
        "title_encoding = [t.astype('float64') for t in title_encoding]\n",
        "rotten_sample.insert(loc=11, column='review_content_bert_embedding', value=title_encoding)"
      ]
    },
    {
      "cell_type": "code",
      "execution_count": null,
      "metadata": {
        "id": "GVR07-2FeuL3"
      },
      "outputs": [],
      "source": [
        "rotten_sample = rotten_sample[[\"rotten_tomatoes_link\",\"review_type\", \"review_content\", \"review_content_bert_embedding\"]]\n",
        "fresh_sample = fresh_sample[[\"rotten_tomatoes_link\",\"review_type\", \"review_content\", \"review_content_bert_embedding\"]]"
      ]
    },
    {
      "attachments": {},
      "cell_type": "markdown",
      "metadata": {},
      "source": [
        "## Tf-idf embedding"
      ]
    },
    {
      "cell_type": "code",
      "execution_count": 14,
      "metadata": {
        "colab": {
          "base_uri": "https://localhost:8080/",
          "height": 641
        },
        "id": "WZQeoqNBHMoS",
        "outputId": "0f0f71bf-c145-473e-cbaa-fd57526ac400"
      },
      "outputs": [
        {
          "data": {
            "text/html": [
              "\n",
              "  <div id=\"df-11bf6e87-ffd4-4af7-bcdf-d16e33798e10\">\n",
              "    <div class=\"colab-df-container\">\n",
              "      <div>\n",
              "<style scoped>\n",
              "    .dataframe tbody tr th:only-of-type {\n",
              "        vertical-align: middle;\n",
              "    }\n",
              "\n",
              "    .dataframe tbody tr th {\n",
              "        vertical-align: top;\n",
              "    }\n",
              "\n",
              "    .dataframe thead th {\n",
              "        text-align: right;\n",
              "    }\n",
              "</style>\n",
              "<table border=\"1\" class=\"dataframe\">\n",
              "  <thead>\n",
              "    <tr style=\"text-align: right;\">\n",
              "      <th></th>\n",
              "      <th>rotten_tomatoes_link</th>\n",
              "      <th>review_type</th>\n",
              "      <th>review_content</th>\n",
              "      <th>review_content_bert_embedding</th>\n",
              "    </tr>\n",
              "  </thead>\n",
              "  <tbody>\n",
              "    <tr>\n",
              "      <th>0</th>\n",
              "      <td>m/official_secrets</td>\n",
              "      <td>Fresh</td>\n",
              "      <td>Like the whistleblower at its center, \"Officia...</td>\n",
              "      <td>[-0.89845914 -0.51225573 -0.85514754  0.692905...</td>\n",
              "    </tr>\n",
              "    <tr>\n",
              "      <th>1</th>\n",
              "      <td>m/blue_is_the_warmest_color</td>\n",
              "      <td>Fresh</td>\n",
              "      <td>The film is like a tough exam that everybody a...</td>\n",
              "      <td>[-8.55783403e-01 -4.74810183e-01 -9.47439671e-...</td>\n",
              "    </tr>\n",
              "    <tr>\n",
              "      <th>2</th>\n",
              "      <td>m/hardball</td>\n",
              "      <td>Fresh</td>\n",
              "      <td>Hardball is striking in its portrayals of just...</td>\n",
              "      <td>[-0.74963385 -0.61064798 -0.96854866  0.668219...</td>\n",
              "    </tr>\n",
              "    <tr>\n",
              "      <th>3</th>\n",
              "      <td>m/pay_2_play_democracys_high_stakes</td>\n",
              "      <td>Fresh</td>\n",
              "      <td>Persuasive and frightening. It's much more ill...</td>\n",
              "      <td>[-0.88150346 -0.34318769 -0.88624769  0.780279...</td>\n",
              "    </tr>\n",
              "    <tr>\n",
              "      <th>4</th>\n",
              "      <td>m/aviator</td>\n",
              "      <td>Fresh</td>\n",
              "      <td>Charts three decades in the life of Howard Hug...</td>\n",
              "      <td>[-8.70814800e-01 -5.33839822e-01 -9.48109627e-...</td>\n",
              "    </tr>\n",
              "    <tr>\n",
              "      <th>...</th>\n",
              "      <td>...</td>\n",
              "      <td>...</td>\n",
              "      <td>...</td>\n",
              "      <td>...</td>\n",
              "    </tr>\n",
              "    <tr>\n",
              "      <th>195</th>\n",
              "      <td>m/i_am_woman</td>\n",
              "      <td>Rotten</td>\n",
              "      <td>'I Am Woman' is a pleasant way to spend a coup...</td>\n",
              "      <td>[-0.79942435 -0.50456363 -0.93217558  0.699359...</td>\n",
              "    </tr>\n",
              "    <tr>\n",
              "      <th>196</th>\n",
              "      <td>m/trolls_world_tour</td>\n",
              "      <td>Rotten</td>\n",
              "      <td>It's a shadow of its predecessor, a regurgitat...</td>\n",
              "      <td>[-0.80640453 -0.33984238 -0.90188742  0.726704...</td>\n",
              "    </tr>\n",
              "    <tr>\n",
              "      <th>197</th>\n",
              "      <td>m/love_happens</td>\n",
              "      <td>Rotten</td>\n",
              "      <td>Some may wonder why Jennifer Aniston keeps tak...</td>\n",
              "      <td>[-0.79218954 -0.53846771 -0.96729058  0.689828...</td>\n",
              "    </tr>\n",
              "    <tr>\n",
              "      <th>198</th>\n",
              "      <td>m/notebook</td>\n",
              "      <td>Rotten</td>\n",
              "      <td>It's all sweet and gooey and absolutely predic...</td>\n",
              "      <td>[-7.59331882e-01 -2.72824109e-01 -8.80044341e-...</td>\n",
              "    </tr>\n",
              "    <tr>\n",
              "      <th>199</th>\n",
              "      <td>m/the_baytown_outlaws</td>\n",
              "      <td>Rotten</td>\n",
              "      <td>In all seriousness, I'm not sure whether to re...</td>\n",
              "      <td>[-7.71319091e-01 -4.25308436e-01 -9.34534669e-...</td>\n",
              "    </tr>\n",
              "  </tbody>\n",
              "</table>\n",
              "<p>200 rows × 4 columns</p>\n",
              "</div>\n",
              "      <button class=\"colab-df-convert\" onclick=\"convertToInteractive('df-11bf6e87-ffd4-4af7-bcdf-d16e33798e10')\"\n",
              "              title=\"Convert this dataframe to an interactive table.\"\n",
              "              style=\"display:none;\">\n",
              "        \n",
              "  <svg xmlns=\"http://www.w3.org/2000/svg\" height=\"24px\"viewBox=\"0 0 24 24\"\n",
              "       width=\"24px\">\n",
              "    <path d=\"M0 0h24v24H0V0z\" fill=\"none\"/>\n",
              "    <path d=\"M18.56 5.44l.94 2.06.94-2.06 2.06-.94-2.06-.94-.94-2.06-.94 2.06-2.06.94zm-11 1L8.5 8.5l.94-2.06 2.06-.94-2.06-.94L8.5 2.5l-.94 2.06-2.06.94zm10 10l.94 2.06.94-2.06 2.06-.94-2.06-.94-.94-2.06-.94 2.06-2.06.94z\"/><path d=\"M17.41 7.96l-1.37-1.37c-.4-.4-.92-.59-1.43-.59-.52 0-1.04.2-1.43.59L10.3 9.45l-7.72 7.72c-.78.78-.78 2.05 0 2.83L4 21.41c.39.39.9.59 1.41.59.51 0 1.02-.2 1.41-.59l7.78-7.78 2.81-2.81c.8-.78.8-2.07 0-2.86zM5.41 20L4 18.59l7.72-7.72 1.47 1.35L5.41 20z\"/>\n",
              "  </svg>\n",
              "      </button>\n",
              "      \n",
              "  <style>\n",
              "    .colab-df-container {\n",
              "      display:flex;\n",
              "      flex-wrap:wrap;\n",
              "      gap: 12px;\n",
              "    }\n",
              "\n",
              "    .colab-df-convert {\n",
              "      background-color: #E8F0FE;\n",
              "      border: none;\n",
              "      border-radius: 50%;\n",
              "      cursor: pointer;\n",
              "      display: none;\n",
              "      fill: #1967D2;\n",
              "      height: 32px;\n",
              "      padding: 0 0 0 0;\n",
              "      width: 32px;\n",
              "    }\n",
              "\n",
              "    .colab-df-convert:hover {\n",
              "      background-color: #E2EBFA;\n",
              "      box-shadow: 0px 1px 2px rgba(60, 64, 67, 0.3), 0px 1px 3px 1px rgba(60, 64, 67, 0.15);\n",
              "      fill: #174EA6;\n",
              "    }\n",
              "\n",
              "    [theme=dark] .colab-df-convert {\n",
              "      background-color: #3B4455;\n",
              "      fill: #D2E3FC;\n",
              "    }\n",
              "\n",
              "    [theme=dark] .colab-df-convert:hover {\n",
              "      background-color: #434B5C;\n",
              "      box-shadow: 0px 1px 3px 1px rgba(0, 0, 0, 0.15);\n",
              "      filter: drop-shadow(0px 1px 2px rgba(0, 0, 0, 0.3));\n",
              "      fill: #FFFFFF;\n",
              "    }\n",
              "  </style>\n",
              "\n",
              "      <script>\n",
              "        const buttonEl =\n",
              "          document.querySelector('#df-11bf6e87-ffd4-4af7-bcdf-d16e33798e10 button.colab-df-convert');\n",
              "        buttonEl.style.display =\n",
              "          google.colab.kernel.accessAllowed ? 'block' : 'none';\n",
              "\n",
              "        async function convertToInteractive(key) {\n",
              "          const element = document.querySelector('#df-11bf6e87-ffd4-4af7-bcdf-d16e33798e10');\n",
              "          const dataTable =\n",
              "            await google.colab.kernel.invokeFunction('convertToInteractive',\n",
              "                                                     [key], {});\n",
              "          if (!dataTable) return;\n",
              "\n",
              "          const docLinkHtml = 'Like what you see? Visit the ' +\n",
              "            '<a target=\"_blank\" href=https://colab.research.google.com/notebooks/data_table.ipynb>data table notebook</a>'\n",
              "            + ' to learn more about interactive tables.';\n",
              "          element.innerHTML = '';\n",
              "          dataTable['output_type'] = 'display_data';\n",
              "          await google.colab.output.renderOutput(dataTable, element);\n",
              "          const docLink = document.createElement('div');\n",
              "          docLink.innerHTML = docLinkHtml;\n",
              "          element.appendChild(docLink);\n",
              "        }\n",
              "      </script>\n",
              "    </div>\n",
              "  </div>\n",
              "  "
            ],
            "text/plain": [
              "                    rotten_tomatoes_link review_type  \\\n",
              "0                     m/official_secrets       Fresh   \n",
              "1            m/blue_is_the_warmest_color       Fresh   \n",
              "2                             m/hardball       Fresh   \n",
              "3    m/pay_2_play_democracys_high_stakes       Fresh   \n",
              "4                              m/aviator       Fresh   \n",
              "..                                   ...         ...   \n",
              "195                         m/i_am_woman      Rotten   \n",
              "196                  m/trolls_world_tour      Rotten   \n",
              "197                       m/love_happens      Rotten   \n",
              "198                           m/notebook      Rotten   \n",
              "199                m/the_baytown_outlaws      Rotten   \n",
              "\n",
              "                                        review_content  \\\n",
              "0    Like the whistleblower at its center, \"Officia...   \n",
              "1    The film is like a tough exam that everybody a...   \n",
              "2    Hardball is striking in its portrayals of just...   \n",
              "3    Persuasive and frightening. It's much more ill...   \n",
              "4    Charts three decades in the life of Howard Hug...   \n",
              "..                                                 ...   \n",
              "195  'I Am Woman' is a pleasant way to spend a coup...   \n",
              "196  It's a shadow of its predecessor, a regurgitat...   \n",
              "197  Some may wonder why Jennifer Aniston keeps tak...   \n",
              "198  It's all sweet and gooey and absolutely predic...   \n",
              "199  In all seriousness, I'm not sure whether to re...   \n",
              "\n",
              "                         review_content_bert_embedding  \n",
              "0    [-0.89845914 -0.51225573 -0.85514754  0.692905...  \n",
              "1    [-8.55783403e-01 -4.74810183e-01 -9.47439671e-...  \n",
              "2    [-0.74963385 -0.61064798 -0.96854866  0.668219...  \n",
              "3    [-0.88150346 -0.34318769 -0.88624769  0.780279...  \n",
              "4    [-8.70814800e-01 -5.33839822e-01 -9.48109627e-...  \n",
              "..                                                 ...  \n",
              "195  [-0.79942435 -0.50456363 -0.93217558  0.699359...  \n",
              "196  [-0.80640453 -0.33984238 -0.90188742  0.726704...  \n",
              "197  [-0.79218954 -0.53846771 -0.96729058  0.689828...  \n",
              "198  [-7.59331882e-01 -2.72824109e-01 -8.80044341e-...  \n",
              "199  [-7.71319091e-01 -4.25308436e-01 -9.34534669e-...  \n",
              "\n",
              "[200 rows x 4 columns]"
            ]
          },
          "execution_count": 14,
          "metadata": {},
          "output_type": "execute_result"
        }
      ],
      "source": [
        "all_data = pd.concat([fresh_sample, rotten_sample])\n",
        "all_data.reset_index(drop=True, inplace=True)\n",
        "all_data"
      ]
    },
    {
      "cell_type": "code",
      "execution_count": 21,
      "metadata": {
        "id": "aBw6AghRFti0"
      },
      "outputs": [],
      "source": [
        "comments = list(all_data['review_content'])\n",
        "vectorizer = TfidfVectorizer(analyzer=\"char\", ngram_range=(2,7), dtype=np.float32)\n",
        "output = vectorizer.fit_transform(comments).toarray()\n",
        "all_data['review_content_tf_idf_embedding'] = [t for t in output]"
      ]
    },
    {
      "cell_type": "code",
      "execution_count": 31,
      "metadata": {
        "id": "r6V9TBRTII0z"
      },
      "outputs": [],
      "source": [
        "all_data.to_json('sample_embedding.json')"
      ]
    }
  ],
  "metadata": {
    "colab": {
      "provenance": []
    },
    "kernelspec": {
      "display_name": "Python 3",
      "name": "python3"
    },
    "language_info": {
      "name": "python"
    }
  },
  "nbformat": 4,
  "nbformat_minor": 0
}
