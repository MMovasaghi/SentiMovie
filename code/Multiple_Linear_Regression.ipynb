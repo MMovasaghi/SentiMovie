{
 "cells": [
  {
   "cell_type": "code",
   "execution_count": 1,
   "id": "598c9e21",
   "metadata": {},
   "outputs": [],
   "source": [
    "import pandas as pd\n",
    "import numpy as np\n",
    "import matplotlib.pyplot as plt\n",
    "import seaborn as sns\n"
   ]
  },
  {
   "cell_type": "code",
   "execution_count": 2,
   "id": "cac9654b",
   "metadata": {},
   "outputs": [],
   "source": [
    "df = pd.read_csv('sampled_data_with_IMDB_Score.csv')"
   ]
  },
  {
   "cell_type": "code",
   "execution_count": 5,
   "id": "00d26671",
   "metadata": {},
   "outputs": [],
   "source": [
    "#Setting the value for X and Y\n",
    "x = df[['tomatometer_rating', 'audience_rating']]\n",
    "y = df['IMDB_score']"
   ]
  },
  {
   "cell_type": "code",
   "execution_count": 8,
   "id": "b23e9f85",
   "metadata": {},
   "outputs": [],
   "source": [
    "#Splitting the dataset\n",
    "from sklearn.model_selection import train_test_split\n",
    "x_train, x_test, y_train, y_test = train_test_split(x, y, test_size = 0.2, random_state = 100)"
   ]
  },
  {
   "cell_type": "code",
   "execution_count": 10,
   "id": "4755b2ce",
   "metadata": {},
   "outputs": [
    {
     "data": {
      "text/plain": [
       "LinearRegression()"
      ]
     },
     "execution_count": 10,
     "metadata": {},
     "output_type": "execute_result"
    }
   ],
   "source": [
    "#Fitting the Multiple Linear Regression model\n",
    "from sklearn.linear_model import LinearRegression\n",
    "mlr = LinearRegression()  \n",
    "mlr.fit(x_train, y_train)"
   ]
  },
  {
   "cell_type": "code",
   "execution_count": 11,
   "id": "df2ad290",
   "metadata": {},
   "outputs": [
    {
     "name": "stdout",
     "output_type": "stream",
     "text": [
      "Intercept:  4.000201569637845\n",
      "Coefficients:\n"
     ]
    },
    {
     "data": {
      "text/plain": [
       "[('tomatometer_rating', 0.009650805390047645),\n",
       " ('audience_rating', 0.02868513837624001)]"
      ]
     },
     "execution_count": 11,
     "metadata": {},
     "output_type": "execute_result"
    }
   ],
   "source": [
    "#Intercept and Coefficient\n",
    "print(\"Intercept: \", mlr.intercept_)\n",
    "print(\"Coefficients:\")\n",
    "list(zip(x, mlr.coef_))"
   ]
  },
  {
   "cell_type": "markdown",
   "id": "39a747a9",
   "metadata": {},
   "source": [
    "Regression Equation: IMDB_score = 4.0002015 + (0.00965080 * tomatometer_rating) + (0.028685* audience_rating)+ e"
   ]
  },
  {
   "cell_type": "markdown",
   "id": "c0e6cce0",
   "metadata": {},
   "source": [
    "\n",
    "\n"
   ]
  },
  {
   "cell_type": "markdown",
   "id": "3efbf6cf",
   "metadata": {},
   "source": [
    "Prediction on the test set"
   ]
  },
  {
   "cell_type": "code",
   "execution_count": 12,
   "id": "613c717d",
   "metadata": {},
   "outputs": [
    {
     "name": "stdout",
     "output_type": "stream",
     "text": [
      "Prediction for test set: [6.31348361 5.47546721 6.21056089 5.96846012 5.43202418 5.77868015\n",
      " 5.7767804  5.96926195 5.02428486 6.46926169 5.38834268 5.23122821\n",
      " 4.83501064 5.9092189  6.49444341 5.56930249 6.175165   6.7376133\n",
      " 5.9783782  6.03684639]\n"
     ]
    }
   ],
   "source": [
    "#Prediction of test set\n",
    "y_pred_mlr= mlr.predict(x_test)\n",
    "#Predicted values\n",
    "print(\"Prediction for test set: {}\".format(y_pred_mlr))"
   ]
  },
  {
   "cell_type": "code",
   "execution_count": 14,
   "id": "bfc03737",
   "metadata": {},
   "outputs": [
    {
     "data": {
      "text/html": [
       "<div>\n",
       "<style scoped>\n",
       "    .dataframe tbody tr th:only-of-type {\n",
       "        vertical-align: middle;\n",
       "    }\n",
       "\n",
       "    .dataframe tbody tr th {\n",
       "        vertical-align: top;\n",
       "    }\n",
       "\n",
       "    .dataframe thead th {\n",
       "        text-align: right;\n",
       "    }\n",
       "</style>\n",
       "<table border=\"1\" class=\"dataframe\">\n",
       "  <thead>\n",
       "    <tr style=\"text-align: right;\">\n",
       "      <th></th>\n",
       "      <th>Actual value</th>\n",
       "      <th>Predicted value</th>\n",
       "    </tr>\n",
       "  </thead>\n",
       "  <tbody>\n",
       "    <tr>\n",
       "      <th>37</th>\n",
       "      <td>6.5</td>\n",
       "      <td>6.313484</td>\n",
       "    </tr>\n",
       "    <tr>\n",
       "      <th>62</th>\n",
       "      <td>6.2</td>\n",
       "      <td>5.475467</td>\n",
       "    </tr>\n",
       "    <tr>\n",
       "      <th>26</th>\n",
       "      <td>5.0</td>\n",
       "      <td>6.210561</td>\n",
       "    </tr>\n",
       "    <tr>\n",
       "      <th>41</th>\n",
       "      <td>5.3</td>\n",
       "      <td>5.968460</td>\n",
       "    </tr>\n",
       "    <tr>\n",
       "      <th>35</th>\n",
       "      <td>6.0</td>\n",
       "      <td>5.432024</td>\n",
       "    </tr>\n",
       "  </tbody>\n",
       "</table>\n",
       "</div>"
      ],
      "text/plain": [
       "    Actual value  Predicted value\n",
       "37           6.5         6.313484\n",
       "62           6.2         5.475467\n",
       "26           5.0         6.210561\n",
       "41           5.3         5.968460\n",
       "35           6.0         5.432024"
      ]
     },
     "execution_count": 14,
     "metadata": {},
     "output_type": "execute_result"
    }
   ],
   "source": [
    "slr_diff = pd.DataFrame({'Actual value': y_test, 'Predicted value': y_pred_mlr})\n",
    "slr_diff.head()"
   ]
  },
  {
   "cell_type": "code",
   "execution_count": 15,
   "id": "acad69b9",
   "metadata": {},
   "outputs": [
    {
     "name": "stdout",
     "output_type": "stream",
     "text": [
      "R squared: 41.50\n",
      "Mean Absolute Error: 0.6817817926112723\n",
      "Mean Square Error: 0.722708806283965\n",
      "Root Mean Square Error: 0.8501228183527161\n"
     ]
    }
   ],
   "source": [
    "#Model Evaluation\n",
    "from sklearn import metrics\n",
    "meanAbErr = metrics.mean_absolute_error(y_test, y_pred_mlr)\n",
    "meanSqErr = metrics.mean_squared_error(y_test, y_pred_mlr)\n",
    "rootMeanSqErr = np.sqrt(metrics.mean_squared_error(y_test, y_pred_mlr))\n",
    "print('R squared: {:.2f}'.format(mlr.score(x,y)*100))\n",
    "print('Mean Absolute Error:', meanAbErr)\n",
    "print('Mean Square Error:', meanSqErr)\n",
    "print('Root Mean Square Error:', rootMeanSqErr)"
   ]
  }
 ],
 "metadata": {
  "kernelspec": {
   "display_name": "Python 3 (ipykernel)",
   "language": "python",
   "name": "python3"
  },
  "language_info": {
   "codemirror_mode": {
    "name": "ipython",
    "version": 3
   },
   "file_extension": ".py",
   "mimetype": "text/x-python",
   "name": "python",
   "nbconvert_exporter": "python",
   "pygments_lexer": "ipython3",
   "version": "3.9.7"
  }
 },
 "nbformat": 4,
 "nbformat_minor": 5
}
