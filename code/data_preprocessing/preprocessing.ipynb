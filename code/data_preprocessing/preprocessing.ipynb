{
 "cells": [
  {
   "cell_type": "markdown",
   "id": "bff46be0",
   "metadata": {},
   "source": [
    "In the name of Allah"
   ]
  },
  {
   "cell_type": "code",
   "execution_count": 143,
   "id": "cccc2038",
   "metadata": {},
   "outputs": [],
   "source": [
    "import numpy as np\n",
    "import pandas as pd\n",
    "import matplotlib.pyplot as plt"
   ]
  },
  {
   "cell_type": "code",
   "execution_count": 100,
   "id": "0f29968b",
   "metadata": {},
   "outputs": [],
   "source": [
    "class ETL:\n",
    "    def __init__(self, score_base=10):\n",
    "        self.score_base = score_base\n",
    "        \n",
    "    \n",
    "    def read_data_from_csv(self, path_review, path_movie):\n",
    "        reviews = pd.read_csv(path_review)\n",
    "        if path_movie is not None:\n",
    "            movies = pd.read_csv(path_movie)\n",
    "            return reviews, movies\n",
    "        else:\n",
    "            return reviews\n",
    "    \n",
    "\n",
    "    def transform_string_score(self, score: str):\n",
    "\n",
    "        # remove white space\n",
    "        while ' ' in score:\n",
    "            score = score.replace(' ', '')\n",
    "\n",
    "        score = score.upper()\n",
    "\n",
    "        grade = ['A+', 'A', 'A-', \n",
    "                 'B+', 'B', 'B-', \n",
    "                 'C+', 'C', 'C-', \n",
    "                 'D+', 'D', 'D-', \n",
    "                 'E+', 'E', 'E-', \n",
    "                 'F+', 'F', 'F-']\n",
    "\n",
    "        index = grade.index(score)\n",
    "        return ((len(grade) - index)/len(grade))*self.score_base\n",
    "\n",
    "\n",
    "    def transform_number_score(self, score: str):\n",
    "        if '/' in score:\n",
    "            score = score.split('/')\n",
    "            base_number = float(score[1])\n",
    "            if base_number == 0:\n",
    "                return None\n",
    "            score = float(score[0])\n",
    "            return (score/base_number)*self.score_base\n",
    "        else:\n",
    "            return None\n",
    "\n",
    "\n",
    "    def transform_score(self, score: str):\n",
    "        if pd.notna(score):\n",
    "            if score[0].isdigit():\n",
    "                return self.transform_number_score(score)\n",
    "            else:\n",
    "                return self.transform_string_score(score)\n",
    "        else:\n",
    "            return None\n",
    "    \n",
    "    \n",
    "    def transform_data(self, \n",
    "                       data: pd.core.frame.DataFrame, \n",
    "                       sentiment_col_name: str,\n",
    "                       text_col_name: str, \n",
    "                       score_col_name: str):\n",
    "        # extract useful columns\n",
    "        df = None\n",
    "        if score_col_name is not None:\n",
    "            df = data[[sentiment_col_name, score_col_name, text_col_name]]\n",
    "        else:\n",
    "            df = data[[sentiment_col_name, text_col_name]]\n",
    "\n",
    "        # remove NAN text\n",
    "        df = df.where(df[text_col_name].notna()).dropna()\n",
    "\n",
    "        # transform scoring\n",
    "        if score_col_name is not None:\n",
    "            df[score_col_name] = [self.transform_score(score=s) for s in df[score_col_name]]\n",
    "\n",
    "        return df\n",
    "    \n",
    "    \n",
    "    def transform(self, path_review, path_movie, sentiment_col_name, text_col_name, score_col_name):\n",
    "        reviews, movies = self.read_data_from_csv(path_review=path_review, path_movie=path_movie)\n",
    "        reviews = self.transform_data(reviews, \n",
    "                                      sentiment_col_name=sentiment_col_name,\n",
    "                                      text_col_name=text_col_name, \n",
    "                                      score_col_name=score_col_name)\n",
    "        return reviews\n",
    "    "
   ]
  },
  {
   "cell_type": "code",
   "execution_count": 184,
   "id": "9ce38fd0",
   "metadata": {},
   "outputs": [],
   "source": [
    "class EDA:\n",
    "    def __init__(self, \n",
    "                 data, \n",
    "                 text_col_name=\"review_content\", \n",
    "                 sentiment_col_name=\"review_type\", \n",
    "                 score_col_name=\"review_score\"):\n",
    "        \n",
    "        self.data = data\n",
    "        self.text_col_name = text_col_name\n",
    "        self.sentiment_col_name = sentiment_col_name\n",
    "        self.score_col_name = score_col_name\n",
    "        self.all_stat, self.fresh_stat, self.rotten_stat = self.statistics_of_data()\n",
    "    \n",
    "    \n",
    "    def __len__(self):\n",
    "        return len(self.data)\n",
    "    \n",
    "    \n",
    "    def get_scores(self, review_type=None):\n",
    "        scores = None\n",
    "        if review_type is not None:\n",
    "            scores = list(self.data[self.data[self.sentiment_col_name] == review_type][self.score_col_name])\n",
    "        else:\n",
    "            scores = list(self.data[self.score_col_name])\n",
    "        scores = [x for x in scores if x == x]\n",
    "        return np.sort(scores)\n",
    "    \n",
    "    \n",
    "    def number_of_na(self, col):\n",
    "        return self.data[col].isna().sum()\n",
    "    \n",
    "    \n",
    "    def get_col_value(self, col, value):\n",
    "        return self.data[self.data[col] == value]\n",
    "    \n",
    "    \n",
    "    def class_numbers(self, labels=['Fresh', 'Rotten']):\n",
    "        label = {}\n",
    "        label[labels[0]] = len(eda.get_col_value(col=self.sentiment_col_name, value=labels[0]))\n",
    "        label[labels[1]] = len(eda.get_col_value(col=self.sentiment_col_name, value=labels[1]))\n",
    "        return label\n",
    "        \n",
    "    \n",
    "    def get_statistics(self, review_type=None):\n",
    "        scores = self.get_scores(review_type=review_type)\n",
    "        texts = None\n",
    "        if review_type is not None:\n",
    "            texts = list(self.data[self.data[self.sentiment_col_name] == review_type][self.text_col_name])\n",
    "        else:\n",
    "            texts = list(self.data[self.text_col_name])\n",
    "        texts_len = [len(t) for t in texts]\n",
    "        statistics = {\n",
    "            \"len\": len(scores),\n",
    "            \"score_mean\": np.mean(scores),\n",
    "            \"score_median\": np.median(scores),\n",
    "            \"score_std\": np.std(scores),\n",
    "            \"score_min\": np.min(scores),\n",
    "            \"score_max\": np.max(scores),\n",
    "            \"texts_len_mean\": np.mean(texts_len),\n",
    "            \"texts_len_median\": np.median(texts_len),\n",
    "            \"texts_len_std\": np.std(texts_len),\n",
    "            \"texts_len_min\": np.min(texts_len),\n",
    "            \"texts_len_max\": np.max(texts_len),\n",
    "        }\n",
    "        if review_type is None:\n",
    "            label = self.class_numbers()\n",
    "            for l in label:\n",
    "                statistics[f'{l}_number'] = label[l]\n",
    "        return statistics\n",
    "    \n",
    "    \n",
    "    def statistics_of_data(self):\n",
    "        all_data = self.get_statistics()\n",
    "        fresh_data = self.get_statistics(review_type=\"Fresh\")\n",
    "        rotten_data = self.get_statistics(review_type=\"Rotten\")\n",
    "        return all_data, fresh_data, rotten_data\n",
    "    \n",
    "    \n",
    "    def show_hist(self, x, bins=100, title=\"Title\"):\n",
    "        plt.hist(x, bins=bins)\n",
    "        plt.title(title)\n",
    "        plt.show()\n",
    "    "
   ]
  },
  {
   "cell_type": "code",
   "execution_count": 102,
   "id": "16546a8f",
   "metadata": {},
   "outputs": [],
   "source": [
    "etl = ETL(score_base=10)"
   ]
  },
  {
   "cell_type": "code",
   "execution_count": 99,
   "id": "6020c210",
   "metadata": {},
   "outputs": [
    {
     "data": {
      "text/html": [
       "<div>\n",
       "<style scoped>\n",
       "    .dataframe tbody tr th:only-of-type {\n",
       "        vertical-align: middle;\n",
       "    }\n",
       "\n",
       "    .dataframe tbody tr th {\n",
       "        vertical-align: top;\n",
       "    }\n",
       "\n",
       "    .dataframe thead th {\n",
       "        text-align: right;\n",
       "    }\n",
       "</style>\n",
       "<table border=\"1\" class=\"dataframe\">\n",
       "  <thead>\n",
       "    <tr style=\"text-align: right;\">\n",
       "      <th></th>\n",
       "      <th>review_type</th>\n",
       "      <th>review_score</th>\n",
       "      <th>review_content</th>\n",
       "    </tr>\n",
       "  </thead>\n",
       "  <tbody>\n",
       "    <tr>\n",
       "      <th>3</th>\n",
       "      <td>Fresh</td>\n",
       "      <td>7.000000</td>\n",
       "      <td>Whether audiences will get behind The Lightnin...</td>\n",
       "    </tr>\n",
       "    <tr>\n",
       "      <th>6</th>\n",
       "      <td>Rotten</td>\n",
       "      <td>2.500000</td>\n",
       "      <td>Harry Potter knockoffs don't come more transpa...</td>\n",
       "    </tr>\n",
       "    <tr>\n",
       "      <th>7</th>\n",
       "      <td>Fresh</td>\n",
       "      <td>7.000000</td>\n",
       "      <td>Percy Jackson isn't a great movie, but it's a ...</td>\n",
       "    </tr>\n",
       "    <tr>\n",
       "      <th>8</th>\n",
       "      <td>Fresh</td>\n",
       "      <td>7.777778</td>\n",
       "      <td>Fun, brisk and imaginative</td>\n",
       "    </tr>\n",
       "    <tr>\n",
       "      <th>9</th>\n",
       "      <td>Fresh</td>\n",
       "      <td>6.000000</td>\n",
       "      <td>Crammed with dragons, set-destroying fights an...</td>\n",
       "    </tr>\n",
       "    <tr>\n",
       "      <th>...</th>\n",
       "      <td>...</td>\n",
       "      <td>...</td>\n",
       "      <td>...</td>\n",
       "    </tr>\n",
       "    <tr>\n",
       "      <th>1130006</th>\n",
       "      <td>Fresh</td>\n",
       "      <td>8.000000</td>\n",
       "      <td>As a spectacular war film with a powerful mora...</td>\n",
       "    </tr>\n",
       "    <tr>\n",
       "      <th>1130013</th>\n",
       "      <td>Fresh</td>\n",
       "      <td>7.000000</td>\n",
       "      <td>Seen today, it's not only a startling indictme...</td>\n",
       "    </tr>\n",
       "    <tr>\n",
       "      <th>1130014</th>\n",
       "      <td>Fresh</td>\n",
       "      <td>8.333333</td>\n",
       "      <td>A rousing visual spectacle that's a prequel of...</td>\n",
       "    </tr>\n",
       "    <tr>\n",
       "      <th>1130015</th>\n",
       "      <td>Rotten</td>\n",
       "      <td>7.000000</td>\n",
       "      <td>A simple two-act story: Prelude to war, and th...</td>\n",
       "    </tr>\n",
       "    <tr>\n",
       "      <th>1130016</th>\n",
       "      <td>Rotten</td>\n",
       "      <td>6.111111</td>\n",
       "      <td>Rides the line between being a pure artifact o...</td>\n",
       "    </tr>\n",
       "  </tbody>\n",
       "</table>\n",
       "<p>758709 rows × 3 columns</p>\n",
       "</div>"
      ],
      "text/plain": [
       "        review_type  review_score  \\\n",
       "3             Fresh      7.000000   \n",
       "6            Rotten      2.500000   \n",
       "7             Fresh      7.000000   \n",
       "8             Fresh      7.777778   \n",
       "9             Fresh      6.000000   \n",
       "...             ...           ...   \n",
       "1130006       Fresh      8.000000   \n",
       "1130013       Fresh      7.000000   \n",
       "1130014       Fresh      8.333333   \n",
       "1130015      Rotten      7.000000   \n",
       "1130016      Rotten      6.111111   \n",
       "\n",
       "                                            review_content  \n",
       "3        Whether audiences will get behind The Lightnin...  \n",
       "6        Harry Potter knockoffs don't come more transpa...  \n",
       "7        Percy Jackson isn't a great movie, but it's a ...  \n",
       "8                               Fun, brisk and imaginative  \n",
       "9        Crammed with dragons, set-destroying fights an...  \n",
       "...                                                    ...  \n",
       "1130006  As a spectacular war film with a powerful mora...  \n",
       "1130013  Seen today, it's not only a startling indictme...  \n",
       "1130014  A rousing visual spectacle that's a prequel of...  \n",
       "1130015  A simple two-act story: Prelude to war, and th...  \n",
       "1130016  Rides the line between being a pure artifact o...  \n",
       "\n",
       "[758709 rows x 3 columns]"
      ]
     },
     "execution_count": 99,
     "metadata": {},
     "output_type": "execute_result"
    }
   ],
   "source": [
    "reviews = etl.transform(path_review=\"./../../data/rotten_tomatoes_critic_reviews.csv\", \n",
    "                        path_movie=\"./../../data/rotten_tomatoes_movies.csv\", \n",
    "                        sentiment_col_name=\"review_type\", \n",
    "                        text_col_name=\"review_content\", \n",
    "                        score_col_name=\"review_score\")\n",
    "\n",
    "reviews"
   ]
  },
  {
   "cell_type": "code",
   "execution_count": 185,
   "id": "e0e10469",
   "metadata": {},
   "outputs": [],
   "source": [
    "eda = EDA(data=reviews, \n",
    "          text_col_name=\"review_content\", \n",
    "          sentiment_col_name=\"review_type\", \n",
    "          score_col_name=\"review_score\")"
   ]
  },
  {
   "cell_type": "code",
   "execution_count": 163,
   "id": "824ba0ad",
   "metadata": {},
   "outputs": [
    {
     "data": {
      "image/png": "[encoded data removed]",
      "text/plain": [
       "<Figure size 640x480 with 1 Axes>"
      ]
     },
     "metadata": {},
     "output_type": "display_data"
    },
    {
     "data": {
      "text/plain": [
       "array([ 0. ,  0. ,  0. , ..., 87.5, 87.5, 90. ])"
      ]
     },
     "execution_count": 163,
     "metadata": {},
     "output_type": "execute_result"
    }
   ],
   "source": [
    "scores = eda.get_scores()\n",
    "eda.show_hist(scores, bins=100, title=\"review type: All\")\n",
    "scores"
   ]
  },
  {
   "cell_type": "code",
   "execution_count": 164,
   "id": "a2723d09",
   "metadata": {},
   "outputs": [
    {
     "data": {
      "image/png": "[encoded data removed]",
      "text/plain": [
       "<Figure size 640x480 with 1 Axes>"
      ]
     },
     "metadata": {},
     "output_type": "display_data"
    },
    {
     "data": {
      "text/plain": [
       "array([ 0. ,  0. ,  0. , ..., 87.5, 87.5, 90. ])"
      ]
     },
     "execution_count": 164,
     "metadata": {},
     "output_type": "execute_result"
    }
   ],
   "source": [
    "scores = eda.get_scores(review_type=\"Fresh\")\n",
    "eda.show_hist(scores, bins=100, title=\"review type: Fresh\")\n",
    "scores"
   ]
  },
  {
   "cell_type": "code",
   "execution_count": 165,
   "id": "c530f668",
   "metadata": {},
   "outputs": [
    {
     "data": {
      "image/png": "[encoded data removed]",
      "text/plain": [
       "<Figure size 640x480 with 1 Axes>"
      ]
     },
     "metadata": {},
     "output_type": "display_data"
    },
    {
     "data": {
      "text/plain": [
       "array([ 0.,  0.,  0., ..., 18., 76., 76.])"
      ]
     },
     "execution_count": 165,
     "metadata": {},
     "output_type": "execute_result"
    }
   ],
   "source": [
    "scores = eda.get_scores(review_type=\"Rotten\")\n",
    "eda.show_hist(scores, bins=100, title=\"review type: Rotten\")\n",
    "scores"
   ]
  },
  {
   "cell_type": "code",
   "execution_count": 189,
   "id": "8b2b7532",
   "metadata": {},
   "outputs": [
    {
     "name": "stdout",
     "output_type": "stream",
     "text": [
      "Fresh: 484127 (64%)\n",
      "Rotten: 274582 (36%)\n",
      "NA in review score: 0.21%\n",
      "\n",
      "### Statistic of All data ###\n",
      "len:\t757111.000\n",
      "score_mean:\t6.489\n",
      "score_median:\t6.667\n",
      "score_std:\t2.079\n",
      "score_min:\t0.000\n",
      "score_max:\t90.000\n",
      "texts_len_mean:\t126.936\n",
      "texts_len_median:\t126.000\n",
      "texts_len_std:\t55.016\n",
      "texts_len_min:\t1.000\n",
      "texts_len_max:\t258.000\n",
      "Fresh_number:\t484127.000\n",
      "Rotten_number:\t274582.000\n",
      "\n",
      "### Statistic of Fresh data ###\n",
      "len:\t483017.000\n",
      "score_mean:\t7.686\n",
      "score_median:\t7.778\n",
      "score_std:\t1.259\n",
      "score_min:\t0.000\n",
      "score_max:\t90.000\n",
      "texts_len_mean:\t128.561\n",
      "texts_len_median:\t128.000\n",
      "texts_len_std:\t55.174\n",
      "texts_len_min:\t1.000\n",
      "texts_len_max:\t257.000\n",
      "\n",
      "### Statistic of Rotten data ###\n",
      "len:\t274094.000\n",
      "score_mean:\t4.381\n",
      "score_median:\t4.500\n",
      "score_std:\t1.477\n",
      "score_min:\t0.000\n",
      "score_max:\t76.000\n",
      "texts_len_mean:\t124.072\n",
      "texts_len_median:\t122.000\n",
      "texts_len_std:\t54.618\n",
      "texts_len_min:\t1.000\n",
      "texts_len_max:\t258.000\n"
     ]
    }
   ],
   "source": [
    "label = eda.class_numbers(labels=['Fresh', 'Rotten'])\n",
    "for l in label:\n",
    "    print(f\"{l}: {label[l]} ({label[l]/sum(label.values())*100:.0f}%)\")\n",
    "\n",
    "p = eda.number_of_na(col='review_score')/eda.__len__()\n",
    "print(f\"NA in review score: {p*100:.2f}%\")\n",
    "\n",
    "print()\n",
    "print(\"### Statistic of All data ###\")\n",
    "for l in eda.all_stat:\n",
    "    print(f\"{l}:\\t{eda.all_stat[l]:.3f}\")\n",
    "\n",
    "print()\n",
    "print(\"### Statistic of Fresh data ###\")\n",
    "for l in eda.fresh_stat:\n",
    "    print(f\"{l}:\\t{eda.fresh_stat[l]:.3f}\")\n",
    "\n",
    "print()\n",
    "print(\"### Statistic of Rotten data ###\")\n",
    "for l in eda.rotten_stat:\n",
    "    print(f\"{l}:\\t{eda.rotten_stat[l]:.3f}\")"
   ]
  },
  {
   "cell_type": "code",
   "execution_count": 167,
   "id": "8e9ee34c",
   "metadata": {},
   "outputs": [
    {
     "name": "stdout",
     "output_type": "stream",
     "text": [
      "##[Fresh]##\n",
      "Arbitrage is a classy soap opera with a charismatic louse at its center, without Margin Call didactics, or the misplaced empathy of The Company Men.... It's simply good trash. You get the feeling that J.R. Ewing would approve.\n",
      "====================================================================================================\n",
      "##[Fresh]##\n",
      "As well as making a hugely entertaining and funny film, writer and director Jason Reitman gives us plenty to ponder and taps into timeless themes that will hit a resonant chord with most.\n",
      "====================================================================================================\n",
      "##[Fresh]##\n",
      "Come for more F-bombs than a season of \"Deadwood.\" Stay for the aggressive religion bashing!\n",
      "====================================================================================================\n",
      "##[Rotten]##\n",
      "The new film by the writer-director duo behind the 2011 hit The Intouchables is not as formulaic and manipulative but it lacks the single-minded coherence that was so crucial to that film's success.\n",
      "====================================================================================================\n",
      "##[Fresh]##\n",
      "It transcends all other films that focus on human connection. It is raw, powerful, and so passionate that every gesture on-screen feels like a punch to the gut.\n",
      "====================================================================================================\n",
      "##[Fresh]##\n",
      "\"Wildlife\" is the kind of movie whose low-key hush could get lost in all the buzz over the big-name, holiday-season releases. Sometimes, though, it's the quiet ones who make the most noise.\n",
      "====================================================================================================\n",
      "##[Fresh]##\n",
      "The acting is solid across the breadth of the cast, with all the actors fitting nicely into their roles. Mortez is especially good; she brings humanity and believability to Mia.\n",
      "====================================================================================================\n",
      "##[Fresh]##\n",
      "You miss out on this and you miss out on something entirely, amazingly original and jaw-droppingly entertaining. C'est magnifique!\n",
      "====================================================================================================\n",
      "##[Rotten]##\n",
      "Ends up unexpectedly reserved, which keeps the film at least approachable but never remarkable. It's a weird feeling to be yawning during a movie that spotlights a half-gator/half-man menace.\n",
      "====================================================================================================\n",
      "##[Rotten]##\n",
      "You, an adult with free will, should never watch this film. It's very bad.\n",
      "====================================================================================================\n"
     ]
    }
   ],
   "source": [
    "samples = eda.data.sample(10)\n",
    "for c, t in zip(list(samples['review_content']), list(samples['review_type'])):\n",
    "    print(f'##[{t}]##\\n{c}')\n",
    "    print(\"=\"*100)"
   ]
  },
  {
   "cell_type": "code",
   "execution_count": 186,
   "id": "5618d2fd",
   "metadata": {},
   "outputs": [
    {
     "data": {
      "text/plain": [
       "{'len': 757111,\n",
       " 'score_mean': 6.489331318921392,\n",
       " 'score_median': 6.666666666666666,\n",
       " 'score_std': 2.079036067442119,\n",
       " 'score_min': 0.0,\n",
       " 'score_max': 90.0,\n",
       " 'texts_len_mean': 126.9361678851839,\n",
       " 'texts_len_median': 126.0,\n",
       " 'texts_len_std': 55.01596288481473,\n",
       " 'texts_len_min': 1,\n",
       " 'texts_len_max': 258,\n",
       " 'Fresh_number': 484127,\n",
       " 'Rotten_number': 274582}"
      ]
     },
     "execution_count": 186,
     "metadata": {},
     "output_type": "execute_result"
    }
   ],
   "source": []
  },
  {
   "cell_type": "code",
   "execution_count": null,
   "id": "378f52e2",
   "metadata": {},
   "outputs": [],
   "source": []
  }
 ],
 "metadata": {
  "kernelspec": {
   "display_name": "Python 3 (ipykernel)",
   "language": "python",
   "name": "python3"
  },
  "language_info": {
   "codemirror_mode": {
    "name": "ipython",
    "version": 3
   },
   "file_extension": ".py",
   "mimetype": "text/x-python",
   "name": "python",
   "nbconvert_exporter": "python",
   "pygments_lexer": "ipython3",
   "version": "3.10.8"
  }
 },
 "nbformat": 4,
 "nbformat_minor": 5
}
