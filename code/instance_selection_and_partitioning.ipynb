{
 "cells": [
  {
   "cell_type": "markdown",
   "id": "64916f73",
   "metadata": {},
   "source": [
    "In the name of Allah"
   ]
  },
  {
   "cell_type": "code",
   "execution_count": 20,
   "id": "58c572d6",
   "metadata": {},
   "outputs": [],
   "source": [
    "import pandas as pd\n",
    "import numpy as np\n",
    "import matplotlib.pyplot as plt\n",
    "import seaborn as sns\n",
    "from sklearn.model_selection import train_test_split"
   ]
  },
  {
   "cell_type": "code",
   "execution_count": 8,
   "id": "e9268ca3",
   "metadata": {},
   "outputs": [],
   "source": [
    "reviews = pd.read_csv('./../data/normalized_data.csv')\n",
    "reviews = reviews[['review_type', 'review_content']]\n",
    "movies = pd.read_csv('./../data/final_normalized_movie.csv')\n",
    "movies = movies[['movie_title', 'review_type', 'review_content', 'my_score']]"
   ]
  },
  {
   "cell_type": "code",
   "execution_count": 23,
   "id": "96ed32b5",
   "metadata": {},
   "outputs": [],
   "source": [
    "class imbalance_handling:\n",
    "    def __init__(self):\n",
    "        self.sample = 0\n",
    "    \n",
    "    def print_statistic_reviews(self, reviews):\n",
    "        class_dict = {'Fresh': len(reviews[reviews['review_type'] == 'Fresh']), \n",
    "                      'Rotten': len(reviews[reviews['review_type'] == 'Rotten'])}\n",
    "        plt.figure(figsize=(3,3))\n",
    "        sns.barplot(x=list(class_dict.keys()), y=list(class_dict.values()))\n",
    "        plt.title('Label distribution')\n",
    "        plt.show()\n",
    "        print(f\"Fresh: {class_dict['Fresh']} \\\n",
    "        ({int(class_dict['Fresh']/(class_dict['Fresh'] + class_dict['Rotten'])*100)}%)\")\n",
    "        print(f\"Rotten: {class_dict['Rotten']} \\\n",
    "        ({int(class_dict['Rotten']/(class_dict['Fresh'] + class_dict['Rotten'])*100)}%)\")\n",
    "    \n",
    "    \n",
    "    def Upsample_with_aug(self, x, y):\n",
    "        \n",
    "        return x, y\n",
    "    \n",
    "    \n",
    "    def Calculate_weight_for_classes(self, y):\n",
    "        weight = None\n",
    "        return weight"
   ]
  },
  {
   "cell_type": "code",
   "execution_count": 24,
   "id": "bf2d9711",
   "metadata": {},
   "outputs": [
    {
     "data": {
      "image/png": "[encoded data removed]",
      "text/plain": [
       "<Figure size 300x300 with 1 Axes>"
      ]
     },
     "metadata": {},
     "output_type": "display_data"
    },
    {
     "name": "stdout",
     "output_type": "stream",
     "text": [
      "Fresh: 607346         (63%)\n",
      "Rotten: 341835         (36%)\n"
     ]
    }
   ],
   "source": [
    "ih = imbalance_handling()\n",
    "ih.print_statistic(reviews)"
   ]
  },
  {
   "cell_type": "code",
   "execution_count": 9,
   "id": "6f1b7f20",
   "metadata": {},
   "outputs": [],
   "source": [
    "def get_review_of(movie_title, movies):\n",
    "    return movies[movies['movie_title'] == movie_title]"
   ]
  },
  {
   "cell_type": "markdown",
   "id": "5efca391",
   "metadata": {},
   "source": [
    "## Split for first task"
   ]
  },
  {
   "cell_type": "code",
   "execution_count": 15,
   "id": "57109f69",
   "metadata": {},
   "outputs": [
    {
     "name": "stdout",
     "output_type": "stream",
     "text": [
      "Train: 768835 (81%)\n",
      "Val: 85427 (9%)\n",
      "Test: 94919 (10%)\n"
     ]
    }
   ],
   "source": [
    "X_rem, X_test, y_rem, y_test = train_test_split(x_data, y_data, test_size=0.1, random_state=42, stratify=y_data)\n",
    "X_train, X_val, y_train, y_val = train_test_split(X_rem, y_rem, test_size=0.1, random_state=42, stratify=y_rem)\n",
    "print(f\"Train: {len(y_train)} ({(len(y_train)/len(y_data))*100:.0f}%)\")\n",
    "print(f\"Val: {len(y_val)} ({(len(y_val)/len(y_data))*100:.0f}%)\")\n",
    "print(f\"Test: {len(y_test)} ({(len(y_test)/len(y_data))*100:.0f}%)\")"
   ]
  },
  {
   "cell_type": "code",
   "execution_count": null,
   "id": "81af159b",
   "metadata": {},
   "outputs": [],
   "source": [
    "# normalizing my_score for movies in train, test and validation dataset seperately"
   ]
  }
 ],
 "metadata": {
  "kernelspec": {
   "display_name": "Python 3 (ipykernel)",
   "language": "python",
   "name": "python3"
  },
  "language_info": {
   "codemirror_mode": {
    "name": "ipython",
    "version": 3
   },
   "file_extension": ".py",
   "mimetype": "text/x-python",
   "name": "python",
   "nbconvert_exporter": "python",
   "pygments_lexer": "ipython3",
   "version": "3.10.10"
  }
 },
 "nbformat": 4,
 "nbformat_minor": 5
}
