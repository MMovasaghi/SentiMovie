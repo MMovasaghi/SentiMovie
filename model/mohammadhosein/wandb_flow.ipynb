{
  "cells": [
    {
      "cell_type": "code",
      "execution_count": null,
      "metadata": {
        "id": "SBwv54Dwfvmi"
      },
      "outputs": [],
      "source": [
        "!pip install wandb -qU"
      ]
    },
    {
      "cell_type": "code",
      "execution_count": null,
      "metadata": {
        "id": "ag2hbqyhfpdU"
      },
      "outputs": [],
      "source": [
        "import wandb\n",
        "wandb.login(key=\"aec6fef7ba56ee445129472eb583718b8e529934\")"
      ]
    },
    {
      "attachments": {},
      "cell_type": "markdown",
      "metadata": {
        "id": "m-5ltNthTkTD"
      },
      "source": [
        "# Config testing"
      ]
    },
    {
      "cell_type": "code",
      "execution_count": 9,
      "metadata": {
        "id": "fS62bpcuVfUN"
      },
      "outputs": [],
      "source": [
        "import torch\n",
        "import torch.nn as nn\n",
        "import torch.optim as optim\n",
        "from torch.utils.data import Dataset, DataLoader\n",
        "from torchvision.transforms import ToTensor\n",
        "from torch.optim import lr_scheduler\n",
        "import torch.backends.cudnn as cudnn\n",
        "import numpy as np\n",
        "import pandas as pd\n",
        "import torchvision\n",
        "from torchvision import datasets, models, transforms\n",
        "from sklearn.model_selection import train_test_split\n",
        "from sklearn.utils.class_weight import compute_class_weight\n",
        "import matplotlib.pyplot as plt\n",
        "import seaborn as sns\n",
        "import time\n",
        "import random\n",
        "import pickle\n",
        "import os\n",
        "import copy\n",
        "import sys\n",
        "from tqdm import tqdm\n",
        "from sklearn.metrics import f1_score, confusion_matrix, accuracy_score, ConfusionMatrixDisplay, precision_score, recall_score, roc_curve, auc\n",
        "import wandb"
      ]
    },
    {
      "cell_type": "code",
      "execution_count": null,
      "metadata": {
        "id": "1MwgPuZ9TdHt"
      },
      "outputs": [],
      "source": [
        "config = {\n",
        "  \"lr\": 1e-3,\n",
        "  \"weight_decay\": 1e-4,\n",
        "  \"epoch_num\": 100\n",
        "}\n",
        "tags = [\"new_data\", \"10percent\", \"BERT-Pretrained\"]\n",
        "run = wandb.init(entity='sentimovie', project=\"Bert-finetune\", config=config, tags=tags)"
      ]
    },
    {
      "cell_type": "code",
      "execution_count": null,
      "metadata": {
        "id": "LuSYMgOtcNh_"
      },
      "outputs": [],
      "source": [
        "#######################################\n",
        "###           wandb logging         ###\n",
        "#######################################\n",
        "##           Log Some data           ##\n",
        "#######################################\n",
        "tmp = {\n",
        "    \"sample_data\": [\"I think it was an interesting and thought-provoking movie.\", \"It was a silly and silly movie.\"], \n",
        "    \"sample_label\": [\"Fresh\", \"Rotten\"]}\n",
        "wandb.log(tmp)\n",
        "#######################################\n",
        "#######################################"
      ]
    },
    {
      "cell_type": "code",
      "execution_count": null,
      "metadata": {
        "id": "N7F3roZidQMZ"
      },
      "outputs": [],
      "source": [
        "#######################################\n",
        "###           wandb logging         ###\n",
        "#######################################\n",
        "##            Log data size          ##\n",
        "#######################################\n",
        "tmp = {\n",
        "    \"train_size\": len(dataset_sizes['train']),\n",
        "    \"val_size\": len(dataset_sizes['val']),\n",
        "    \"test_size\": len(dataset_sizes['test']),\n",
        "    }\n",
        "wandb.log(tmp)\n",
        "#######################################\n",
        "#######################################"
      ]
    },
    {
      "cell_type": "code",
      "execution_count": 8,
      "metadata": {
        "colab": {
          "base_uri": "https://localhost:8080/"
        },
        "id": "4IdNc5ruV8m-",
        "outputId": "c27d89f7-c562-4e5f-e040-712130db51e1"
      },
      "outputs": [
        {
          "data": {
            "text/plain": [
              "0.001"
            ]
          },
          "execution_count": 8,
          "metadata": {},
          "output_type": "execute_result"
        }
      ],
      "source": [
        "optimizer = optim.Adam(model.parameters(), lr=wandb.config['lr'], weight_decay=wandb.config['weight_decay'])"
      ]
    },
    {
      "cell_type": "code",
      "execution_count": 10,
      "metadata": {
        "id": "HzSzxnt1Xl9s"
      },
      "outputs": [],
      "source": [
        "def deflog(text):\n",
        "    print(f\"[DEF-LOG] {text}\")"
      ]
    },
    {
      "cell_type": "code",
      "execution_count": null,
      "metadata": {
        "id": "5GsIyWcGV_J9"
      },
      "outputs": [],
      "source": [
        "def train_model(model, criterion, optimizer, scheduler, dataloaders, \n",
        "                dataset_sizes, device, config, num_epochs=25):\n",
        "    since = time.time()\n",
        "    history = {'train_loss': [], 'val_loss': [], \n",
        "                    'train_acc': [], 'val_acc': []}\n",
        "    best_model_wts = copy.deepcopy(model.state_dict())\n",
        "    best_acc = 0.0\n",
        "\n",
        "    for epoch in tqdm(range(num_epochs)):\n",
        "        for phase in ['train', 'val']:\n",
        "            if phase == 'train':\n",
        "                model.train()\n",
        "            else:\n",
        "                model.eval()\n",
        "\n",
        "            running_loss = 0.0\n",
        "            running_corrects = 0\n",
        "            for inputs, labels in dataloaders[phase]:\n",
        "                inputs = inputs.to(device)\n",
        "                labels = labels.to(device)\n",
        "                optimizer.zero_grad()\n",
        "                with torch.set_grad_enabled(phase == 'train'):\n",
        "                    outputs = model(inputs)\n",
        "                    _, preds = torch.max(outputs, 1)\n",
        "                    loss = criterion(outputs, labels)\n",
        "                    if phase == 'train':\n",
        "                        loss.backward()\n",
        "                        optimizer.step()\n",
        "\n",
        "                running_loss += loss.item() * inputs.size(0)\n",
        "                running_corrects += torch.sum(preds == labels.data)\n",
        "            if phase == 'train':\n",
        "                scheduler.step()\n",
        "\n",
        "            epoch_loss = running_loss / dataset_sizes[phase]\n",
        "            epoch_acc = running_corrects.double() / dataset_sizes[phase]\n",
        "            history[f'{phase}_loss'].append(epoch_loss)\n",
        "            history[f'{phase}_acc'].append(float(epoch_acc.cpu().numpy()))\n",
        "\n",
        "            # deflog(f'{phase} Loss: {epoch_loss:.4f} Acc: {epoch_acc:.4f}')\n",
        "            \n",
        "            #######################################\n",
        "            ###           wandb logging         ###\n",
        "            #######################################\n",
        "            ##        Log the training flow       ##\n",
        "            #######################################\n",
        "            tmp = {f'{phase}_loss': epoch_loss, \n",
        "                    f'{phase}_acc': epoch_acc,\n",
        "                    'lr': config['lr'],\n",
        "                    'epoch': epoch}\n",
        "            wandb.log(tmp)\n",
        "            #######################################\n",
        "            #######################################\n",
        "\n",
        "            if phase == 'val' and epoch_acc > best_acc:\n",
        "                best_acc = epoch_acc\n",
        "                best_model_wts = copy.deepcopy(model.state_dict())\n",
        "\n",
        "    time_elapsed = time.time() - since\n",
        "    deflog(f'Training complete in {time_elapsed // 60:.0f}m {time_elapsed % 60:.0f}s')\n",
        "    deflog(f'Best val Acc: {best_acc:4f}')\n",
        "\n",
        "    # load best model weights\n",
        "    model.load_state_dict(best_model_wts)\n",
        "    return model, history"
      ]
    },
    {
      "cell_type": "code",
      "execution_count": null,
      "metadata": {
        "id": "t9TKsRpTX7d_"
      },
      "outputs": [],
      "source": [
        "def save_results(model, history, base_path=\"output\"):\n",
        "    history_file_path = f\"{base_path}/history.pkl\"\n",
        "    with open(history_file_path, 'wb') as handle:\n",
        "        pickle.dump(history, handle, protocol=pickle.HIGHEST_PROTOCOL)\n",
        "    deflog(f'history has been saved in \\\"{history_file_path}\\\"')\n",
        "\n",
        "    model_file_path = f\"{base_path}/model.pt\"\n",
        "    torch.save(model.state_dict(), model_file_path)\n",
        "    deflog(f'model has been saved in \\\"{model_file_path}\\\"')"
      ]
    },
    {
      "cell_type": "code",
      "execution_count": null,
      "metadata": {},
      "outputs": [],
      "source": [
        "model, history = train_model(model, criterion, optimizer, scheduler, dataloaders, dataset_sizes, \n",
        "                             device, wandb.config, num_epochs=wandb.config['epoch_num'])"
      ]
    },
    {
      "cell_type": "code",
      "execution_count": null,
      "metadata": {
        "id": "1XBigIU8YMNp"
      },
      "outputs": [],
      "source": [
        "def testing(model, dataloader, device):\n",
        "    y_pred = []\n",
        "    y_true = []\n",
        "    model.eval()\n",
        "    with torch.no_grad():\n",
        "        for inputs, labels in tqdm(dataloader):\n",
        "            inputs = inputs.to(device)\n",
        "            outputs = model(inputs)\n",
        "            _, preds = torch.max(outputs, 1)\n",
        "            y_true.extend(labels.cpu().numpy())\n",
        "            y_pred.extend(preds.cpu().numpy())\n",
        "    return y_pred, y_true"
      ]
    },
    {
      "cell_type": "code",
      "execution_count": null,
      "metadata": {
        "id": "VszGGXMnYq2e"
      },
      "outputs": [],
      "source": [
        "y_pred, y_true = testing(model, dataloaders['test'], device)\n",
        "\n",
        "f1 = f1_score(y_true, y_pred, average='macro')\n",
        "fpr, tpr, thresholds = roc_curve(y_true, y_pred)\n",
        "AUC = auc(fpr, tpr)\n",
        "precision = precision_score(y_true, y_pred, average='macro')\n",
        "recall = recall_score(y_true, y_pred, average='macro')\n",
        "acc = accuracy_score(y_true, y_pred)\n",
        "deflog(\"Metric calculated\")\n",
        "wandb.sklearn.plot_confusion_matrix(y_true, \n",
        "                                    y_pred, \n",
        "                                    ['NORM', 'TUM'])\n",
        "deflog(\"Send confusion matrix\")\n",
        "tmp = {\n",
        "    \"test_acc\": acc, \n",
        "    \"test_f1\": f1, \n",
        "    \"test_auc\": AUC, \n",
        "    \"test_precision\": precision, \n",
        "    \"test_recall\": recall\n",
        "}\n",
        "wandb.log(tmp)\n",
        "deflog(\"Run finished\")"
      ]
    },
    {
      "attachments": {},
      "cell_type": "markdown",
      "metadata": {
        "id": "1ZpfE-H-TeVk"
      },
      "source": [
        "# Hyper-parameter testing"
      ]
    },
    {
      "cell_type": "code",
      "execution_count": null,
      "metadata": {
        "id": "l7GRoXwPfGdN"
      },
      "outputs": [],
      "source": [
        "def run_model(config=None):\n",
        "    with wandb.init(entity='sentimovie', project=\"testing\", config=config):\n",
        "        config_wandb = wandb.config\n",
        "        print(config_wandb.lr)"
      ]
    },
    {
      "cell_type": "code",
      "execution_count": null,
      "metadata": {
        "id": "bYhGSKjdfK-T"
      },
      "outputs": [],
      "source": [
        "sweep_config = {'method': 'random'}\n",
        "# sweep_config = {'method': 'grid'}\n",
        "# sweep_config = {'method': 'bayes'}\n",
        "\n",
        "metric = {'name': 'val_acc', \n",
        "        'goal': 'maximize'}\n",
        "\n",
        "sweep_config['metric'] = metric\n",
        "\n",
        "hyper_parameters = {\n",
        "    'lr': { 'values': [0.1, 0.01, 0.001, 0.0001, 0.00001]\n",
        "    }\n",
        "}\n",
        "sweep_config['parameters'] = hyper_parameters\n",
        "sweep_id = wandb.sweep(sweep_config, project=\"testing\")\n",
        "wandb.agent(sweep_id, run_model, count=6)"
      ]
    },
    {
      "cell_type": "code",
      "execution_count": null,
      "metadata": {
        "colab": {
          "base_uri": "https://localhost:8080/"
        },
        "id": "1r8asqWRgNJl",
        "outputId": "b329aa78-228d-4995-8010-77bf13c31f0a"
      },
      "outputs": [
        {
          "data": {
            "text/plain": [
              "[0.03, 0.003, 0.0003, 3e-05, 3e-06]"
            ]
          },
          "execution_count": 10,
          "metadata": {},
          "output_type": "execute_result"
        }
      ],
      "source": [
        "[float(f\"3e-{i}\") for i in range(2,7)]"
      ]
    },
    {
      "cell_type": "code",
      "execution_count": null,
      "metadata": {
        "colab": {
          "base_uri": "https://localhost:8080/"
        },
        "id": "l2oy6YnUkLBa",
        "outputId": "cd3d1422-d202-4a28-a127-df718552d4bc"
      },
      "outputs": [
        {
          "data": {
            "text/plain": [
              "[0.01, 0.001, 0.0001, 1e-05, 1e-06]"
            ]
          },
          "execution_count": 11,
          "metadata": {},
          "output_type": "execute_result"
        }
      ],
      "source": [
        "[float(f\"1e-{i}\") for i in range(2,7)]"
      ]
    },
    {
      "cell_type": "code",
      "execution_count": null,
      "metadata": {
        "id": "1_QW8KHZkpxG"
      },
      "outputs": [],
      "source": []
    }
  ],
  "metadata": {
    "colab": {
      "provenance": []
    },
    "kernelspec": {
      "display_name": "Python 3",
      "name": "python3"
    },
    "language_info": {
      "name": "python"
    }
  },
  "nbformat": 4,
  "nbformat_minor": 0
}
