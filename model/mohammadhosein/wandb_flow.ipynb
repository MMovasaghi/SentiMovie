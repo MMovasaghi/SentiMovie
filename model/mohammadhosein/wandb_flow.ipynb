{
  "nbformat": 4,
  "nbformat_minor": 0,
  "metadata": {
    "colab": {
      "provenance": []
    },
    "kernelspec": {
      "name": "python3",
      "display_name": "Python 3"
    },
    "language_info": {
      "name": "python"
    }
  },
  "cells": [
    {
      "cell_type": "code",
      "source": [
        "!pip install wandb -qU"
      ],
      "metadata": {
        "id": "SBwv54Dwfvmi"
      },
      "execution_count": null,
      "outputs": []
    },
    {
      "cell_type": "code",
      "source": [
        "import wandb\n",
        "wandb.login(key=\"aec6fef7ba56ee445129472eb583718b8e529934\")"
      ],
      "metadata": {
        "id": "ag2hbqyhfpdU"
      },
      "execution_count": null,
      "outputs": []
    },
    {
      "cell_type": "markdown",
      "source": [
        "# Config testing"
      ],
      "metadata": {
        "id": "m-5ltNthTkTD"
      }
    },
    {
      "cell_type": "code",
      "source": [
        "import torch\n",
        "import torch.nn as nn\n",
        "import torch.optim as optim\n",
        "from torch.utils.data import Dataset, DataLoader\n",
        "from torchvision.transforms import ToTensor\n",
        "from torch.optim import lr_scheduler\n",
        "import torch.backends.cudnn as cudnn\n",
        "import numpy as np\n",
        "import pandas as pd\n",
        "import torchvision\n",
        "from torchvision import datasets, models, transforms\n",
        "from sklearn.model_selection import train_test_split\n",
        "from sklearn.utils.class_weight import compute_class_weight\n",
        "import matplotlib.pyplot as plt\n",
        "import seaborn as sns\n",
        "import time\n",
        "import random\n",
        "import pickle\n",
        "import os\n",
        "import copy\n",
        "import sys\n",
        "from tqdm import tqdm\n",
        "from sklearn.metrics import f1_score, confusion_matrix, accuracy_score, ConfusionMatrixDisplay, precision_score, recall_score, roc_curve, auc\n",
        "import wandb"
      ],
      "metadata": {
        "id": "fS62bpcuVfUN"
      },
      "execution_count": null,
      "outputs": []
    },
    {
      "cell_type": "code",
      "source": [
        "config = {\n",
        "  \"lr\": 1e-3,\n",
        "  \"weight_decay\": 1e-4,\n",
        "  \"epoch\": 100\n",
        "}\n",
        "tags = [\"new_data\", \"10percent\", \"BERT-Pretrained\"]\n",
        "run = wandb.init(entity='sentimovie', project=\"Bert-finetune\", config=config, tags=tags)"
      ],
      "metadata": {
        "id": "1MwgPuZ9TdHt"
      },
      "execution_count": null,
      "outputs": []
    },
    {
      "cell_type": "code",
      "source": [
        "#######################################\n",
        "###           wandb logging         ###\n",
        "#######################################\n",
        "##           Log Some data           ##\n",
        "#######################################\n",
        "tmp = {\n",
        "    \"sample_data\": [\"I think it was an interesting and thought-provoking movie.\", \"It was a silly and silly movie.\"], \n",
        "    \"sample_label\": [\"Fresh\", \"Rotten\"]}\n",
        "wandb.log(tmp)\n",
        "#######################################\n",
        "#######################################"
      ],
      "metadata": {
        "id": "LuSYMgOtcNh_"
      },
      "execution_count": null,
      "outputs": []
    },
    {
      "cell_type": "code",
      "source": [
        "#######################################\n",
        "###           wandb logging         ###\n",
        "#######################################\n",
        "##            Log data size          ##\n",
        "#######################################\n",
        "tmp = {\n",
        "    \"train_size\": len(dataset_sizes['train']),\n",
        "    \"val_size\": len(dataset_sizes['val']),\n",
        "    \"test_size\": len(dataset_sizes['test']),\n",
        "    }\n",
        "wandb.log(tmp)\n",
        "#######################################\n",
        "#######################################"
      ],
      "metadata": {
        "id": "N7F3roZidQMZ"
      },
      "execution_count": null,
      "outputs": []
    },
    {
      "cell_type": "code",
      "source": [
        "wandb.config['lr']"
      ],
      "metadata": {
        "colab": {
          "base_uri": "https://localhost:8080/"
        },
        "id": "4IdNc5ruV8m-",
        "outputId": "c27d89f7-c562-4e5f-e040-712130db51e1"
      },
      "execution_count": null,
      "outputs": [
        {
          "output_type": "execute_result",
          "data": {
            "text/plain": [
              "0.001"
            ]
          },
          "metadata": {},
          "execution_count": 8
        }
      ]
    },
    {
      "cell_type": "code",
      "source": [
        "def deflog(text):\n",
        "    print(f\"[DEF-LOG] {text}\")"
      ],
      "metadata": {
        "id": "HzSzxnt1Xl9s"
      },
      "execution_count": null,
      "outputs": []
    },
    {
      "cell_type": "code",
      "source": [
        "def train_model(model, criterion, optimizer, scheduler, dataloaders, \n",
        "                dataset_sizes, device, config, earlyStopper, num_epochs=25):\n",
        "    since = time.time()\n",
        "    history = {'train_loss': [], 'val_loss': [], \n",
        "                    'train_acc': [], 'val_acc': []}\n",
        "    best_model_wts = copy.deepcopy(model.state_dict())\n",
        "    best_acc = 0.0\n",
        "\n",
        "    for epoch in tqdm(range(num_epochs)):\n",
        "        for phase in ['train', 'val']:\n",
        "            if phase == 'train':\n",
        "                model.train()\n",
        "            else:\n",
        "                model.eval()\n",
        "\n",
        "            running_loss = 0.0\n",
        "            running_corrects = 0\n",
        "            for inputs, labels in dataloaders[phase]:\n",
        "                inputs = inputs.to(device)\n",
        "                labels = labels.to(device)\n",
        "                optimizer.zero_grad()\n",
        "                with torch.set_grad_enabled(phase == 'train'):\n",
        "                    outputs = model(inputs)\n",
        "                    _, preds = torch.max(outputs, 1)\n",
        "                    loss = criterion(outputs, labels)\n",
        "                    if phase == 'train':\n",
        "                        loss.backward()\n",
        "                        optimizer.step()\n",
        "\n",
        "                running_loss += loss.item() * inputs.size(0)\n",
        "                running_corrects += torch.sum(preds == labels.data)\n",
        "            if phase == 'train':\n",
        "                scheduler.step()\n",
        "\n",
        "            epoch_loss = running_loss / dataset_sizes[phase]\n",
        "            epoch_acc = running_corrects.double() / dataset_sizes[phase]\n",
        "            history[f'{phase}_loss'].append(epoch_loss)\n",
        "            history[f'{phase}_acc'].append(float(epoch_acc.cpu().numpy()))\n",
        "\n",
        "            # deflog(f'{phase} Loss: {epoch_loss:.4f} Acc: {epoch_acc:.4f}')\n",
        "            \n",
        "            #######################################\n",
        "            ###           wandb logging         ###\n",
        "            #######################################\n",
        "            ##        Log the training flow       ##\n",
        "            #######################################\n",
        "            tmp = {f'{phase}_loss': epoch_loss, \n",
        "                    f'{phase}_acc': epoch_acc,\n",
        "                    'lr': config['lr'],\n",
        "                    'epoch': epoch}\n",
        "            wandb.log(tmp)\n",
        "            #######################################\n",
        "            #######################################\n",
        "\n",
        "            if phase == 'val' and epoch_acc > best_acc:\n",
        "                best_acc = epoch_acc\n",
        "                best_model_wts = copy.deepcopy(model.state_dict())\n",
        "        \n",
        "        if earlyStopper.early_stop(history['val_loss'][-1]):\n",
        "            deflog(\"Early Stopping\")\n",
        "            break\n",
        "\n",
        "    time_elapsed = time.time() - since\n",
        "    deflog(f'Training complete in {time_elapsed // 60:.0f}m {time_elapsed % 60:.0f}s')\n",
        "    deflog(f'Best val Acc: {best_acc:4f}')\n",
        "\n",
        "    # load best model weights\n",
        "    model.load_state_dict(best_model_wts)\n",
        "    return model, history"
      ],
      "metadata": {
        "id": "5GsIyWcGV_J9"
      },
      "execution_count": null,
      "outputs": []
    },
    {
      "cell_type": "code",
      "source": [
        "def save_results(model, history, base_path=\"output\"):\n",
        "    history_file_path = f\"{base_path}/history.pkl\"\n",
        "    with open(history_file_path, 'wb') as handle:\n",
        "        pickle.dump(history, handle, protocol=pickle.HIGHEST_PROTOCOL)\n",
        "    deflog(f'history has been saved in \\\"{history_file_path}\\\"')\n",
        "\n",
        "    model_file_path = f\"{base_path}/model.pt\"\n",
        "    torch.save(model.state_dict(), model_file_path)\n",
        "    deflog(f'model has been saved in \\\"{model_file_path}\\\"')"
      ],
      "metadata": {
        "id": "t9TKsRpTX7d_"
      },
      "execution_count": null,
      "outputs": []
    },
    {
      "cell_type": "code",
      "source": [
        "def testing(model, dataloader, device):\n",
        "    y_pred = []\n",
        "    y_true = []\n",
        "    model.eval()\n",
        "    with torch.no_grad():\n",
        "        for inputs, labels in tqdm(dataloader):\n",
        "            inputs = inputs.to(device)\n",
        "            outputs = model(inputs)\n",
        "            _, preds = torch.max(outputs, 1)\n",
        "            y_true.extend(labels.cpu().numpy())\n",
        "            y_pred.extend(preds.cpu().numpy())\n",
        "    return y_pred, y_true"
      ],
      "metadata": {
        "id": "1XBigIU8YMNp"
      },
      "execution_count": null,
      "outputs": []
    },
    {
      "cell_type": "code",
      "source": [
        "y_pred, y_true = testing(model, dataloaders['test'], device)\n",
        "\n",
        "f1 = f1_score(y_true, y_pred, average='macro')\n",
        "fpr, tpr, thresholds = roc_curve(y_true, y_pred)\n",
        "AUC = auc(fpr, tpr)\n",
        "precision = precision_score(y_true, y_pred, average='macro')\n",
        "recall = recall_score(y_true, y_pred, average='macro')\n",
        "acc = accuracy_score(y_true, y_pred)\n",
        "deflog(\"Metric calculated\")\n",
        "wandb.sklearn.plot_confusion_matrix(y_true, \n",
        "                                    y_pred, \n",
        "                                    ['NORM', 'TUM'])\n",
        "deflog(\"Send confusion matrix\")\n",
        "tmp = {\n",
        "    \"test_acc\": acc, \n",
        "    \"test_f1\": f1, \n",
        "    \"test_auc\": AUC, \n",
        "    \"test_precision\": precision, \n",
        "    \"test_recall\": recall\n",
        "}\n",
        "wandb.log(tmp)\n",
        "deflog(\"Run finished\")"
      ],
      "metadata": {
        "id": "VszGGXMnYq2e"
      },
      "execution_count": null,
      "outputs": []
    },
    {
      "cell_type": "markdown",
      "source": [
        "# Hyper-parameter testing"
      ],
      "metadata": {
        "id": "1ZpfE-H-TeVk"
      }
    },
    {
      "cell_type": "code",
      "source": [
        "import numpy as np\n",
        "import pandas as pd\n",
        "import pickle\n",
        "\n",
        "\n",
        "class EarlyStopper:\n",
        "    def __init__(self, patience=1, min_delta=0):\n",
        "        self.patience = patience\n",
        "        self.min_delta = min_delta\n",
        "        self.counter = 0\n",
        "        self.min_validation_loss = np.inf\n",
        "\n",
        "    def early_stop(self, validation_loss):\n",
        "        if validation_loss < self.min_validation_loss:\n",
        "            self.min_validation_loss = validation_loss\n",
        "            self.counter = 0\n",
        "        elif validation_loss > (self.min_validation_loss + self.min_delta):\n",
        "            self.counter += 1\n",
        "            if self.counter >= self.patience:\n",
        "                return True\n",
        "        else:\n",
        "            self.counter += 1\n",
        "            if self.counter >= self.patience:\n",
        "                return True\n",
        "        return False\n",
        "\n",
        "\n",
        "class myFC(nn.Module):\n",
        "    def __init__(self, input_dim=1024, hidden_dim=[2048, 2048], class_num=2):\n",
        "        super(myFC, self).__init__()\n",
        "        self.fc1 = torch.nn.Sequential(\n",
        "            nn.Linear(input_dim, hidden_dim[0]),\n",
        "            nn.LeakyReLU(),\n",
        "            nn.Linear(hidden_dim[0], hidden_dim[1]),\n",
        "            nn.LeakyReLU(),\n",
        "            torch.nn.Linear(hidden_dim[1], class_num)\n",
        "        )\n",
        "        self.softmax = torch.nn.Softmax(dim=1)\n",
        "\n",
        "    def forward(self, x):\n",
        "        x = self.fc1(x)\n",
        "        x = self.softmax(x)\n",
        "        return x\n",
        "\n",
        "\n",
        "class MyDataset(Dataset):\n",
        "    def __init__(self, X_data, labels):\n",
        "        self.embeddings = X_data\n",
        "        self.labels = np.unique(labels, return_inverse=True)[1]\n",
        "\n",
        "    def __len__(self):\n",
        "        return len(self.labels)\n",
        "\n",
        "    def __getitem__(self, idx):\n",
        "        embedding_vector = torch.tensor(self.embeddings[idx])\n",
        "        label_onehot = torch.tensor(self.labels[idx])\n",
        "        return embedding_vector, label_onehot\n",
        "\n",
        "\n",
        "\n",
        "def read_data_movies(input_path):\n",
        "    train_movie_path = f\"{input_path}/train.csv\"\n",
        "    val_movie_path = f\"{input_path}/val.csv\"\n",
        "    test_movie_path = f\"{input_path}/test.csv\"\n",
        "\n",
        "    def read_movie(path):\n",
        "        d = pd.read_csv(path)\n",
        "        return d[['movie_title', 'review_type', 'review_content', 'my_score']]\n",
        "\n",
        "    movies_raw_data = {\"train\": None, \"val\": None, \"test\": None}\n",
        "    movies_raw_data['train'] = read_movie(train_movie_path)\n",
        "    movies_raw_data['val'] = read_movie(train_movie_path)\n",
        "    movies_raw_data['test'] = read_movie(train_movie_path)\n",
        "    return movies_raw_data\n",
        "\n",
        "\n",
        "def read_data_reviews(input_path, load_augmented_train_set):\n",
        "    train_review_path = f\"{input_path}/train.pkl\"\n",
        "    train_aug_review_path = f\"{input_path}/train_aug.pkl\"\n",
        "    val_review_path = f\"{input_path}/val.pkl\"\n",
        "    test_review_path = f\"{input_path}/test.pkl\"\n",
        "\n",
        "    if load_augmented_train_set:\n",
        "        train_review_path = train_aug_review_path\n",
        "\n",
        "    reviews_raw_data = {\"train\": None, \"val\": None, \"test\": None}\n",
        "    with open(train_review_path, 'rb') as f:\n",
        "        reviews_raw_data['train'] = pickle.load(f)\n",
        "    with open(val_review_path, 'rb') as f:\n",
        "        reviews_raw_data['val'] = pickle.load(f)\n",
        "    with open(test_review_path, 'rb') as f:\n",
        "        reviews_raw_data['test'] = pickle.load(f)\n",
        "    return reviews_raw_data\n",
        "\n",
        "\n",
        "def dataset_loader(data, config):\n",
        "    dataset = {'train': MyDataset(data['train']['x'], data['train']['y']),\n",
        "              'val': MyDataset(data['val']['x'], data['val']['y']),\n",
        "              'test': MyDataset(data['test']['x'], data['test']['y'])}\n",
        "    deflog(\"Datasets created\")\n",
        "\n",
        "    dataloaders = {x: DataLoader(dataset[x], batch_size=config['batch_size_l'], \n",
        "                                 num_workers=2) for x in ['train', 'val', 'test']}\n",
        "    deflog(\"Dataloaders created\")\n",
        "    dataset_sizes = {x: len(dataset[x]) for x in ['train', 'val', 'test']}\n",
        "    deflog(\"Dataset_sizes created\")\n",
        "    return dataloaders, dataset, dataset_sizes\n",
        "\n",
        "\n",
        "\n",
        "def run_model(config=None):\n",
        "    global ex_num, total_ex_num, proj_name, tags\n",
        "    with wandb.init(entity='sentimovie', project=proj_name, config=config, tags=tags):\n",
        "        \n",
        "        print(\"=\"*10)\n",
        "        ex_num += 1\n",
        "        deflog(f\"[Ex. {ex_num}/{total_ex_num}]\")\n",
        "        print(\"=\"*10)\n",
        "        \n",
        "        # read data\n",
        "        data = read_data_reviews(wandb.config['input_path'], \n",
        "                                 wandb.config['load_augmented_train_set'])\n",
        "        # dataset and dataloader\n",
        "        dataloaders, dataset, dataset_sizes = dataset_loader(data, config)\n",
        "\n",
        "        # model\n",
        "        model = myFC(class_num=2)\n",
        "        device = torch.device(\"cuda:0\" if torch.cuda.is_available() else \"cpu\")\n",
        "        model.to(device)\n",
        "        deflog(f\"ML model defined (device: {device})\")\n",
        "\n",
        "        earlyStopper = EarlyStopper(patience=10, min_delta=1e-2)\n",
        "        deflog(\"EarlyStopper defined\")\n",
        "\n",
        "        class_weights = compute_class_weight('balanced', \n",
        "                                            classes=np.unique(data['train']['y']), \n",
        "                                            y=np.array(data['train']['y']))\n",
        "        class_weights = torch.tensor(class_weights, dtype=torch.float).to(device)\n",
        "        criterion = nn.CrossEntropyLoss(weight=class_weights)\n",
        "        deflog(\"Define loss class_weights\")\n",
        "\n",
        "        optimizer = optim.Adam(model.parameters(), lr=wandb.config['lr'], weight_decay=wandb.config['weight_decay'])\n",
        "        deflog(\"Optimizer (Adam) defined\")\n",
        "\n",
        "        cosin_lr_scheduler = lr_scheduler.CosineAnnealingLR(optimizer, \n",
        "                                                            T_max=wandb.config['epoch_num'], \n",
        "                                                            eta_min=5e-6)\n",
        "        deflog(\"Scheduler (cosin_lr_scheduler) defined\")\n",
        "\n",
        "        model, history = train_model(model, criterion, optimizer, cosin_lr_scheduler, \n",
        "                                     dataloaders, dataset_sizes, device, wandb.config,\n",
        "                                     earlyStopper, wandb.config['epoch_num'])\n",
        "        \n",
        "        save_results(model, history, base_path=f\"{wandb.config['output_path']}\")\n",
        "\n",
        "\n",
        "def main(input_path, output_path):\n",
        "    global ex_num, total_ex_num, proj_name\n",
        "    print(\"Main method running ...\")\n",
        "    \n",
        "    sweep_config = {'method': 'random'}\n",
        "    # sweep_config = {'method': 'grid'}\n",
        "    # sweep_config = {'method': 'bayes'}\n",
        "\n",
        "    metric = {'name': 'val_acc', \n",
        "            'goal': 'maximize'}\n",
        "\n",
        "    sweep_config['metric'] = metric\n",
        "\n",
        "    hyper_parameters = {\n",
        "        'lr': { 'values': [float(f\"1e-{i}\") for i in range(2,7)]},\n",
        "        'weight_decay': { 'values': [float(f\"1e-{i}\") for i in range(2,7)]},\n",
        "        'load_augmented_train_set': {'value': True},\n",
        "        'epoch_num': {'value': 60},\n",
        "        'input_path': {'value': input_path},\n",
        "        'output_path': {'value': output_path}\n",
        "    }\n",
        "    sweep_config['parameters'] = hyper_parameters\n",
        "    sweep_id = wandb.sweep(sweep_config, project=proj_name, )\n",
        "    wandb.agent(sweep_id, run_model, count=total_ex_num)\n",
        "\n",
        "\n",
        "ex_num = 0\n",
        "total_ex_num = 30\n",
        "hp_num = 0\n",
        "proj_name = \"BERT\"\n",
        "tags = [\"Sample1\", \"Sample2\"]\n",
        "\n",
        "if __name__ == \"__main__\":\n",
        "    os.chdir(f\"{sys.argv[1]}\")\n",
        "    main(sys.argv[2], sys.argv[3])"
      ],
      "metadata": {
        "id": "bYhGSKjdfK-T"
      },
      "execution_count": null,
      "outputs": []
    },
    {
      "cell_type": "code",
      "source": [],
      "metadata": {
        "id": "1_QW8KHZkpxG"
      },
      "execution_count": null,
      "outputs": []
    }
  ]
}