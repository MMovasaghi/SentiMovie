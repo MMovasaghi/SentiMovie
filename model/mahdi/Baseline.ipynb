{
  "cells": [
    {
      "cell_type": "code",
      "execution_count": null,
      "id": "zWdV3mVzTLng",
      "metadata": {
        "colab": {
          "base_uri": "https://localhost:8080/"
        },
        "id": "zWdV3mVzTLng",
        "outputId": "a34fb9a9-88db-4289-d693-b008355e2fb3"
      },
      "outputs": [],
      "source": [
        "!pip install wandb -qU"
      ]
    },
    {
      "cell_type": "code",
      "execution_count": 1,
      "id": "01a630df",
      "metadata": {
        "id": "01a630df"
      },
      "outputs": [],
      "source": [
        "import pickle\n",
        "import pandas as pd\n",
        "import random\n",
        "import json\n",
        "import wandb\n",
        "import collections\n",
        "from sklearn.feature_extraction.text import TfidfVectorizer\n",
        "from sklearn.metrics import classification_report\n",
        "from sklearn.svm import LinearSVC\n",
        "from sklearn.linear_model import LogisticRegression\n",
        "from sklearn.ensemble import RandomForestClassifier\n",
        "from sklearn.svm import SVC\n",
        "from sklearn.ensemble import GradientBoostingClassifier\n",
        "\n",
        "wandb.login(key=\"aec6fef7ba56ee445129472eb583718b8e529934\")"
      ]
    },
    {
      "cell_type": "code",
      "execution_count": 2,
      "id": "fc1fa812",
      "metadata": {
        "id": "fc1fa812"
      },
      "outputs": [],
      "source": [
        "with open('../../data/dataset/reviews/train.pkl', 'rb') as f:\n",
        "    train_set = pickle.load(f)\n",
        "    \n",
        "with open('../../data/dataset/reviews/val.pkl', 'rb') as f:\n",
        "    val_set = pickle.load(f)"
      ]
    },
    {
      "cell_type": "code",
      "execution_count": 3,
      "id": "04791f6a",
      "metadata": {
        "id": "04791f6a"
      },
      "outputs": [],
      "source": [
        "train = pd.DataFrame.from_dict(train_set)\n",
        "val =  pd.DataFrame.from_dict(val_set)\n",
        "\n",
        "train = train.dropna()\n",
        "val = val.dropna()\n",
        "\n",
        "X_train = train[\"x\"]\n",
        "X_val = val[\"x\"]\n",
        "Y_train = train[\"y\"]\n",
        "Y_val = val[\"y\"]"
      ]
    },
    {
      "attachments": {},
      "cell_type": "markdown",
      "id": "7c676322",
      "metadata": {
        "id": "7c676322"
      },
      "source": [
        "# Feature Extraction\n",
        "__TF-IDF__: It is a method of extracting the features from the text data. TF stands for Term Frequency and IDF stands for Inverse Document Frequency.\n",
        "\n",
        "__Term Frequency__: Number of times word occurs in a review. For an example consider 2 reviews where w1,w2.. represents the words in both reviews and table defines the frequency of words in the particular review.\n",
        "\n",
        "IDF is computed as :\n",
        "\n",
        "    idf(t) = log [ n / df(t) ] + 1\n",
        "         = log [ number of documents / number of documents containing the term]+1\n",
        "         \n",
        "         \n",
        "If smooth_idf=True.\n",
        "        Smooth-IDF = log [ n / df(t) +1 ] + 1         \n",
        "\n",
        "\n",
        "TF-IDF is implemented using sklearn : [link](https://scikit-learn.org/stable/modules/generated/sklearn.feature_extraction.text.TfidfVectorizer.html)\n",
        "\n",
        "\n"
      ]
    },
    {
      "cell_type": "code",
      "execution_count": 8,
      "id": "d4bc347d",
      "metadata": {
        "colab": {
          "base_uri": "https://localhost:8080/"
        },
        "id": "d4bc347d",
        "outputId": "b17ffef1-7479-466e-d8f2-72f059637146"
      },
      "outputs": [
        {
          "name": "stdout",
          "output_type": "stream",
          "text": [
            "TFIDF Vectorizer……\n"
          ]
        }
      ],
      "source": [
        "print(\"TFIDF Vectorizer\")\n",
        "vectorizer = TfidfVectorizer()\n",
        "tf_x_train = vectorizer.fit_transform(X_train)\n",
        "tf_x_val = vectorizer.transform(X_val)"
      ]
    },
    {
      "attachments": {},
      "cell_type": "markdown",
      "id": "360d67a9",
      "metadata": {
        "id": "360d67a9"
      },
      "source": [
        "# Random"
      ]
    },
    {
      "attachments": {},
      "cell_type": "markdown",
      "id": "9c38409f",
      "metadata": {},
      "source": [
        "## Simple Random"
      ]
    },
    {
      "cell_type": "code",
      "execution_count": null,
      "id": "43649833",
      "metadata": {
        "id": "43649833"
      },
      "outputs": [],
      "source": [
        "run = wandb.init(project=\"Base-Lines\", name=\"Simple-Random\")\n",
        "\n",
        "label = [\"Fresh\",\"Rotten\"]\n",
        "y_pred = []\n",
        "for i in range(len(Y_val)):\n",
        "    y_pred.append(random.choice(label))\n",
        "\n",
        "metrics = classification_report(Y_val, y_pred, output_dict=True)\n",
        "\n",
        "performance = {\"accuracy\": metrics[\"accuracy\"],\n",
        "               \"precision\": metrics[\"weighted avg\"]['precision'],\n",
        "               \"recall\": metrics[\"weighted avg\"]['recall'],\n",
        "               \"f1\": metrics[\"weighted avg\"]['f1-score']}\n",
        "print (json.dumps(performance, indent=2))\n",
        "\n",
        "wandb.log(performance)"
      ]
    },
    {
      "attachments": {},
      "cell_type": "markdown",
      "id": "dd4eea54",
      "metadata": {
        "id": "dd4eea54"
      },
      "source": [
        "## Weighted Random\n",
        "\n",
        "We made the assumption that there is an equal probability for every class. Let's use the train split to figure out what the true probability is."
      ]
    },
    {
      "cell_type": "code",
      "execution_count": null,
      "id": "a90a825b",
      "metadata": {
        "colab": {
          "base_uri": "https://localhost:8080/"
        },
        "id": "a90a825b",
        "outputId": "4360ebca-f3d3-4c56-ed27-9ee044d7b64a"
      },
      "outputs": [
        {
          "data": {
            "text/plain": [
              "Counter({'Fresh': 60733, 'Rotten': 34179})"
            ]
          },
          "execution_count": 13,
          "metadata": {},
          "output_type": "execute_result"
        }
      ],
      "source": [
        "run = wandb.init(project=\"Base-Lines\", name=\"Weighted-Random\")\n",
        "\n",
        "p=[]\n",
        "for i in label:\n",
        "     p.append(collections.Counter(Y_val)[i]/len(Y_val))\n",
        "\n",
        "y_pred = []\n",
        "for i in range(len(Y_val)):\n",
        "    y_pred.append(random.choices(label, weights=p ,k=1))\n",
        "\n",
        "metrics = classification_report(Y_val, y_pred, output_dict=True)\n",
        "\n",
        "performance_weighted_random = {\"accuracy\": metrics[\"accuracy\"],\n",
        "               \"precision\": metrics[\"weighted avg\"]['precision'],\n",
        "               \"recall\": metrics[\"weighted avg\"]['recall'],\n",
        "               \"f1\": metrics[\"weighted avg\"]['f1-score']}\n",
        "print (json.dumps(performance_weighted_random, indent=2))\n",
        "\n",
        "wandb.log(performance)"
      ]
    },
    {
      "attachments": {},
      "cell_type": "markdown",
      "id": "9e54406f",
      "metadata": {
        "id": "9e54406f"
      },
      "source": [
        "# SVM"
      ]
    },
    {
      "attachments": {},
      "cell_type": "markdown",
      "id": "55006830",
      "metadata": {},
      "source": [
        "## Linear SVM"
      ]
    },
    {
      "cell_type": "code",
      "execution_count": 19,
      "id": "6642a5d5",
      "metadata": {},
      "outputs": [],
      "source": [
        "run = wandb.init(project=\"Base-Lines\", name=\"Linear-SVM\")\n",
        "\n",
        "clf = LinearSVC(random_state=42, tol=1e-5, verbose=1, C=5.0)\n",
        "clf.fit(tf_x_train, Y_train)\n",
        "y_pred = clf.predict(tf_x_val)\n",
        "\n",
        "metrics_SVM = classification_report(Y_val, y_pred, output_dict=True)\n",
        "\n",
        "performance_SVM = {\"accuracy\": metrics_SVM[\"accuracy\"],\n",
        "               \"precision\": metrics_SVM[\"weighted avg\"]['precision'],\n",
        "               \"recall\": metrics_SVM[\"weighted avg\"]['recall'],\n",
        "               \"f1\": metrics_SVM[\"weighted avg\"]['f1-score']}\n",
        "print(json.dumps(performance_SVM, indent=2))\n",
        "\n",
        "wandb.log(performance)"
      ]
    },
    {
      "attachments": {},
      "cell_type": "markdown",
      "id": "1cc836f3",
      "metadata": {},
      "source": [
        "## RBF SVM"
      ]
    },
    {
      "cell_type": "code",
      "execution_count": null,
      "id": "71006d87",
      "metadata": {},
      "outputs": [],
      "source": [
        "run = wandb.init(project=\"Base-Lines\", name=\"RBF-SVM\")\n",
        "\n",
        "clf = SVC(C=5.0, kernel='rbf', random_state=42, max_iter=1000, verbose=1)\n",
        "clf.fit(tf_x_train, train['y'])\n",
        "y_pred = clf.predict(tf_x_val)\n",
        "\n",
        "metrics_SVM = classification_report(Y_val, y_pred, output_dict=True)\n",
        "\n",
        "performance_SVM = {\"accuracy\": metrics_SVM[\"accuracy\"],\n",
        "               \"precision\": metrics_SVM[\"weighted avg\"]['precision'],\n",
        "               \"recall\": metrics_SVM[\"weighted avg\"]['recall'],\n",
        "               \"f1\": metrics_SVM[\"weighted avg\"]['f1-score']}\n",
        "print(json.dumps(performance_SVM, indent=2))\n",
        "\n",
        "wandb.log(performance)"
      ]
    },
    {
      "attachments": {},
      "cell_type": "markdown",
      "id": "e93074cd",
      "metadata": {},
      "source": [
        "## Poly SVM"
      ]
    },
    {
      "cell_type": "code",
      "execution_count": null,
      "id": "ef332678",
      "metadata": {},
      "outputs": [],
      "source": [
        "run = wandb.init(project=\"Base-Lines\", name=\"Poly-SVM\")\n",
        "\n",
        "clf = SVC(C=5.0, kernel='poly', degree=5, random_state=42, max_iter=1000, verbose=1)\n",
        "clf.fit(tf_x_train, train['y'])\n",
        "y_pred = clf.predict(tf_x_val)\n",
        "\n",
        "metrics_SVM = classification_report(Y_val, y_pred, output_dict=True)\n",
        "\n",
        "performance_SVM = {\"accuracy\": metrics_SVM[\"accuracy\"],\n",
        "               \"precision\": metrics_SVM[\"weighted avg\"]['precision'],\n",
        "               \"recall\": metrics_SVM[\"weighted avg\"]['recall'],\n",
        "               \"f1\": metrics_SVM[\"weighted avg\"]['f1-score']}\n",
        "print(json.dumps(performance_SVM, indent=2))\n",
        "\n",
        "wandb.log(performance)"
      ]
    },
    {
      "attachments": {},
      "cell_type": "markdown",
      "id": "9c346e3e",
      "metadata": {},
      "source": [
        "# Logistic Regression"
      ]
    },
    {
      "cell_type": "code",
      "execution_count": 14,
      "id": "1f43e3d5",
      "metadata": {
        "id": "1f43e3d5"
      },
      "outputs": [],
      "source": [
        "\n",
        "clf = LogisticRegression(max_iter=1000,solver=\"saga\")\n",
        "clf.fit(tf_x_train,Y_train)\n",
        "y_pred = clf.predict(tf_x_val)\n",
        "\n",
        "metrics_SVM = classification_report(Y_val, y_pred, output_dict=True)\n",
        "\n",
        "performance_SVM = {\"accuracy\": metrics_SVM[\"accuracy\"],\n",
        "               \"precision\": metrics_SVM[\"weighted avg\"]['precision'],\n",
        "               \"recall\": metrics_SVM[\"weighted avg\"]['recall'],\n",
        "               \"f1\": metrics_SVM[\"weighted avg\"]['f1-score']}\n",
        "print(json.dumps(performance_SVM, indent=2))\n",
        "\n",
        "wandb.log(performance)"
      ]
    },
    {
      "attachments": {},
      "cell_type": "markdown",
      "id": "4f0ae099",
      "metadata": {},
      "source": [
        "# Random Forest"
      ]
    },
    {
      "cell_type": "code",
      "execution_count": null,
      "id": "5dec7392",
      "metadata": {},
      "outputs": [],
      "source": [
        "run = wandb.init(project=\"Base-Lines\", name=\"RandomForest\")\n",
        "\n",
        "clf = RandomForestClassifier(n_estimators=10, random_state=42)\n",
        "clf.fit(tf_x_train, train['y'])\n",
        "y_pred = clf.predict(tf_x_val)\n",
        "\n",
        "metrics_SVM = classification_report(Y_val, y_pred, output_dict=True)\n",
        "\n",
        "performance_SVM = {\"accuracy\": metrics_SVM[\"accuracy\"],\n",
        "               \"precision\": metrics_SVM[\"weighted avg\"]['precision'],\n",
        "               \"recall\": metrics_SVM[\"weighted avg\"]['recall'],\n",
        "               \"f1\": metrics_SVM[\"weighted avg\"]['f1-score']}\n",
        "print(json.dumps(performance_SVM, indent=2))\n",
        "\n",
        "wandb.log(performance)"
      ]
    },
    {
      "attachments": {},
      "cell_type": "markdown",
      "id": "f4dc0c43",
      "metadata": {},
      "source": [
        "# xgboost"
      ]
    },
    {
      "cell_type": "code",
      "execution_count": null,
      "id": "61aab094",
      "metadata": {},
      "outputs": [],
      "source": [
        "run = wandb.init(project=\"Base-Lines\", name=\"xgboost\")\n",
        "\n",
        "clf = GradientBoostingClassifier(n_estimators=100, learning_rate=1.0, max_depth=1, random_state=42)\n",
        "clf.fit(tf_x_train, train['y'])\n",
        "y_pred = clf.predict(tf_x_val)\n",
        "\n",
        "metrics_SVM = classification_report(Y_val, y_pred, output_dict=True)\n",
        "\n",
        "performance_SVM = {\"accuracy\": metrics_SVM[\"accuracy\"],\n",
        "               \"precision\": metrics_SVM[\"weighted avg\"]['precision'],\n",
        "               \"recall\": metrics_SVM[\"weighted avg\"]['recall'],\n",
        "               \"f1\": metrics_SVM[\"weighted avg\"]['f1-score']}\n",
        "print(json.dumps(performance_SVM, indent=2))\n",
        "\n",
        "wandb.log(performance)"
      ]
    }
  ],
  "metadata": {
    "colab": {
      "provenance": []
    },
    "gpuClass": "standard",
    "kernelspec": {
      "display_name": "Python 3 (ipykernel)",
      "language": "python",
      "name": "python3"
    },
    "language_info": {
      "codemirror_mode": {
        "name": "ipython",
        "version": 3
      },
      "file_extension": ".py",
      "mimetype": "text/x-python",
      "name": "python",
      "nbconvert_exporter": "python",
      "pygments_lexer": "ipython3",
      "version": "3.10.10"
    }
  },
  "nbformat": 4,
  "nbformat_minor": 5
}
