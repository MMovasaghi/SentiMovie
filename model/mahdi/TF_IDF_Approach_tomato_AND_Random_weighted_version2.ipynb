{
  "cells": [
    {
      "cell_type": "markdown",
      "id": "79e203f3",
      "metadata": {
        "id": "79e203f3"
      },
      "source": [
        " ___Sentiment Analysis on tomato Reviews using Random and TF-IDF Approach.___\n",
        "\n",
        "__Feature Extraction__: TF-IDF (term frequency-inverse document frequency)\n",
        "\n",
        "__Classification__: SVM, Logistic Regression \n",
        "\n",
        "In this notebook, Sentiment Analysis is performed on dataset."
      ]
    },
    {
      "cell_type": "markdown",
      "id": "198bff8e",
      "metadata": {
        "id": "198bff8e"
      },
      "source": [
        "Import the Required Packages:"
      ]
    },
    {
      "cell_type": "code",
      "source": [
        "!pip install wandb -qU"
      ],
      "metadata": {
        "id": "zWdV3mVzTLng",
        "colab": {
          "base_uri": "https://localhost:8080/"
        },
        "outputId": "a34fb9a9-88db-4289-d693-b008355e2fb3"
      },
      "id": "zWdV3mVzTLng",
      "execution_count": null,
      "outputs": [
        {
          "output_type": "stream",
          "name": "stdout",
          "text": [
            "\u001b[2K     \u001b[90m━━━━━━━━━━━━━━━━━━━━━━━━━━━━━━━━━━━━━━━━\u001b[0m \u001b[32m2.0/2.0 MB\u001b[0m \u001b[31m25.5 MB/s\u001b[0m eta \u001b[36m0:00:00\u001b[0m\n",
            "\u001b[2K     \u001b[90m━━━━━━━━━━━━━━━━━━━━━━━━━━━━━━━━━━━━━━\u001b[0m \u001b[32m184.3/184.3 kB\u001b[0m \u001b[31m10.0 MB/s\u001b[0m eta \u001b[36m0:00:00\u001b[0m\n",
            "\u001b[2K     \u001b[90m━━━━━━━━━━━━━━━━━━━━━━━━━━━━━━━━━━━━━━\u001b[0m \u001b[32m205.1/205.1 kB\u001b[0m \u001b[31m15.3 MB/s\u001b[0m eta \u001b[36m0:00:00\u001b[0m\n",
            "\u001b[?25h  Preparing metadata (setup.py) ... \u001b[?25l\u001b[?25hdone\n",
            "\u001b[2K     \u001b[90m━━━━━━━━━━━━━━━━━━━━━━━━━━━━━━━━━━━━━━━━\u001b[0m \u001b[32m62.7/62.7 kB\u001b[0m \u001b[31m4.2 MB/s\u001b[0m eta \u001b[36m0:00:00\u001b[0m\n",
            "\u001b[?25h  Building wheel for pathtools (setup.py) ... \u001b[?25l\u001b[?25hdone\n"
          ]
        }
      ]
    },
    {
      "cell_type": "code",
      "source": [
        "import wandb\n",
        "wandb.login(key=\"aec6fef7ba56ee445129472eb583718b8e529934\")"
      ],
      "metadata": {
        "colab": {
          "base_uri": "https://localhost:8080/"
        },
        "id": "3r9JCxY30Z2w",
        "outputId": "086094d0-a2a3-49ba-f89f-ef5d510847f6"
      },
      "id": "3r9JCxY30Z2w",
      "execution_count": null,
      "outputs": [
        {
          "output_type": "stream",
          "name": "stderr",
          "text": [
            "\u001b[34m\u001b[1mwandb\u001b[0m: W&B API key is configured. Use \u001b[1m`wandb login --relogin`\u001b[0m to force relogin\n",
            "\u001b[34m\u001b[1mwandb\u001b[0m: \u001b[33mWARNING\u001b[0m If you're specifying your api key in code, ensure this code is not shared publicly.\n",
            "\u001b[34m\u001b[1mwandb\u001b[0m: \u001b[33mWARNING\u001b[0m Consider setting the WANDB_API_KEY environment variable, or running `wandb login` from the command line.\n",
            "\u001b[34m\u001b[1mwandb\u001b[0m: Appending key for api.wandb.ai to your netrc file: /root/.netrc\n"
          ]
        },
        {
          "output_type": "execute_result",
          "data": {
            "text/plain": [
              "True"
            ]
          },
          "metadata": {},
          "execution_count": 2
        }
      ]
    },
    {
      "cell_type": "code",
      "execution_count": null,
      "id": "01a630df",
      "metadata": {
        "id": "01a630df"
      },
      "outputs": [],
      "source": [
        "import gzip\n",
        "import pickle\n",
        "import pandas as pd\n",
        "import numpy as np\n",
        "import nltk\n",
        "import re\n",
        "import random\n",
        "from tqdm import tqdm\n",
        "import json\n",
        "import wandb\n",
        "from sklearn.metrics import classification_report"
      ]
    },
    {
      "cell_type": "code",
      "source": [
        "from google.colab import drive\n",
        "drive.mount('/content/drive')"
      ],
      "metadata": {
        "colab": {
          "base_uri": "https://localhost:8080/"
        },
        "id": "qIkaKGeIfGnU",
        "outputId": "3c185cc0-09f4-4050-8870-7e82e5bcf537"
      },
      "id": "qIkaKGeIfGnU",
      "execution_count": null,
      "outputs": [
        {
          "output_type": "stream",
          "name": "stdout",
          "text": [
            "Mounted at /content/drive\n"
          ]
        }
      ]
    },
    {
      "cell_type": "code",
      "source": [
        "%cd /content/drive/MyDrive/mlops/mlops_part_2_progect/reviews"
      ],
      "metadata": {
        "colab": {
          "base_uri": "https://localhost:8080/"
        },
        "id": "fRn7fmQVgbvZ",
        "outputId": "d6ce4b01-fb90-41f0-c45c-d9c25d70cfe0"
      },
      "id": "fRn7fmQVgbvZ",
      "execution_count": null,
      "outputs": [
        {
          "output_type": "stream",
          "name": "stdout",
          "text": [
            "/content/drive/MyDrive/mlops/mlops_part_2_progect/reviews\n"
          ]
        }
      ]
    },
    {
      "cell_type": "code",
      "execution_count": null,
      "id": "fc1fa812",
      "metadata": {
        "id": "fc1fa812"
      },
      "outputs": [],
      "source": [
        "\n",
        "with open('train.pkl', 'rb') as f:\n",
        "    train_set = pickle.load(f)\n",
        "    \n",
        "with open('test.pkl', 'rb') as f:\n",
        "    test_set = pickle.load(f)\n",
        "        \n",
        " "
      ]
    },
    {
      "cell_type": "code",
      "execution_count": null,
      "id": "04791f6a",
      "metadata": {
        "id": "04791f6a"
      },
      "outputs": [],
      "source": [
        "train = pd.DataFrame.from_dict(train_set)\n",
        "test =  pd.DataFrame.from_dict(test_set)"
      ]
    },
    {
      "cell_type": "code",
      "execution_count": null,
      "id": "8617b4dc",
      "metadata": {
        "id": "8617b4dc"
      },
      "outputs": [],
      "source": [
        "train = train.dropna()\n",
        "test = test.dropna()"
      ]
    },
    {
      "cell_type": "code",
      "execution_count": null,
      "id": "977f039c",
      "metadata": {
        "id": "977f039c"
      },
      "outputs": [],
      "source": [
        "X_train = train[\"x\"]\n",
        "X_test = test[\"x\"]\n",
        "Y_train = train[\"y\"]\n",
        "Y_test = test[\"y\"]\n"
      ]
    },
    {
      "cell_type": "markdown",
      "id": "360d67a9",
      "metadata": {
        "id": "360d67a9"
      },
      "source": [
        "# Random\n",
        " <u><i>motivation</i></u>: We want to know what random (chance) performance looks like. All of our efforts should be well above this baseline."
      ]
    },
    {
      "cell_type": "code",
      "execution_count": null,
      "id": "43649833",
      "metadata": {
        "id": "43649833"
      },
      "outputs": [],
      "source": [
        "# Generate random predictions\n",
        "\n",
        "label = [\"Fresh\",\"Rotten\"]\n",
        "y_pred = []\n",
        "for i in range(len(Y_test)):\n",
        "    y_pred.append(random.choice(label))\n",
        "\n",
        "from sklearn.metrics import classification_report\n",
        "metrics=classification_report(Y_test, y_pred,output_dict=True)\n"
      ]
    },
    {
      "cell_type": "code",
      "source": [
        "from sklearn.metrics import classification_report\n",
        "metrics_random=classification_report(Y_test, y_pred,output_dict=True)\n",
        "performance = {\"accuracy\": metrics_random[\"accuracy\"],\n",
        "               \"precision\": metrics_random[\"weighted avg\"]['precision'],\n",
        "               \"recall\": metrics_random[\"weighted avg\"]['recall'],\n",
        "               \"f1\": metrics_random[\"weighted avg\"]['f1-score']}"
      ],
      "metadata": {
        "id": "v43arxS8M_kl"
      },
      "id": "v43arxS8M_kl",
      "execution_count": null,
      "outputs": []
    },
    {
      "cell_type": "code",
      "execution_count": null,
      "id": "c778ed3d",
      "metadata": {
        "colab": {
          "base_uri": "https://localhost:8080/"
        },
        "id": "c778ed3d",
        "outputId": "8b68b5d2-143a-441f-9511-225cf47b334c"
      },
      "outputs": [
        {
          "output_type": "stream",
          "name": "stdout",
          "text": [
            "{\n",
            "  \"accuracy\": 0.49913604180714766,\n",
            "  \"precision\": 0.5385056279670113,\n",
            "  \"recall\": 0.49913604180714766,\n",
            "  \"f1\": 0.5091301023977443\n",
            "}\n"
          ]
        }
      ],
      "source": [
        "print (json.dumps(performance, indent=2))"
      ]
    },
    {
      "cell_type": "markdown",
      "id": "8ccbee78",
      "metadata": {
        "id": "8ccbee78"
      },
      "source": [
        "By Using the __random__ classifier we got an accuracy of 49.91%"
      ]
    },
    {
      "cell_type": "markdown",
      "id": "dd4eea54",
      "metadata": {
        "id": "dd4eea54"
      },
      "source": [
        "__weighted random__\n",
        "\n",
        "We made the assumption that there is an equal probability for every class. Let's use the train split to figure out what the true probability is."
      ]
    },
    {
      "cell_type": "code",
      "execution_count": null,
      "id": "a90a825b",
      "metadata": {
        "colab": {
          "base_uri": "https://localhost:8080/"
        },
        "id": "a90a825b",
        "outputId": "4360ebca-f3d3-4c56-ed27-9ee044d7b64a"
      },
      "outputs": [
        {
          "output_type": "execute_result",
          "data": {
            "text/plain": [
              "Counter({'Fresh': 60733, 'Rotten': 34179})"
            ]
          },
          "metadata": {},
          "execution_count": 13
        }
      ],
      "source": [
        "# Class frequencies\n",
        "import collections\n",
        "collections.Counter(Y_test)"
      ]
    },
    {
      "cell_type": "code",
      "execution_count": null,
      "id": "089794ac",
      "metadata": {
        "id": "089794ac"
      },
      "outputs": [],
      "source": [
        "p=[]\n",
        "for i in label:\n",
        "     p.append(collections.Counter(Y_test)[i]/len(Y_test))"
      ]
    },
    {
      "cell_type": "code",
      "execution_count": null,
      "id": "cd5584c9",
      "metadata": {
        "id": "cd5584c9"
      },
      "outputs": [],
      "source": [
        "y_pred = []\n",
        "for i in range(len(Y_test)):\n",
        "    y_pred.append(random.choices(label, weights=p ,k=1) )"
      ]
    },
    {
      "cell_type": "code",
      "execution_count": null,
      "id": "b0aca972",
      "metadata": {
        "colab": {
          "base_uri": "https://localhost:8080/"
        },
        "id": "b0aca972",
        "outputId": "0909509d-41be-4dfc-a3c8-b72bf1977a1f"
      },
      "outputs": [
        {
          "output_type": "stream",
          "name": "stdout",
          "text": [
            "{\n",
            "  \"accuracy\": 0.5405322825354012,\n",
            "  \"precision\": 0.5410753536142617,\n",
            "  \"recall\": 0.5405322825354012,\n",
            "  \"f1\": 0.5408019102394513\n",
            "}\n"
          ]
        }
      ],
      "source": [
        "metrics_weighted_random = classification_report(Y_test, y_pred,output_dict=True)\n",
        "performance_weighted_random = {\"accuracy\": metrics_weighted_random[\"accuracy\"],\n",
        "               \"precision\": metrics_weighted_random[\"weighted avg\"]['precision'],\n",
        "               \"recall\": metrics_weighted_random[\"weighted avg\"]['recall'],\n",
        "               \"f1\": metrics_weighted_random[\"weighted avg\"]['f1-score']}\n",
        "print (json.dumps(performance_weighted_random, indent=2))\n"
      ]
    },
    {
      "cell_type": "markdown",
      "id": "24372bc1",
      "metadata": {
        "id": "24372bc1"
      },
      "source": [
        "By Using the __weighted random__ classifier we got an accuracy of 54.05%"
      ]
    },
    {
      "cell_type": "markdown",
      "id": "7c676322",
      "metadata": {
        "id": "7c676322"
      },
      "source": [
        "# Feature Extraction\n",
        "__TF-IDF__: It is a method of extracting the features from the text data. TF stands for Term Frequency and IDF stands for Inverse Document Frequency.\n",
        "\n",
        "__Term Frequency__: Number of times word occurs in a review. For an example consider 2 reviews where w1,w2.. represents the words in both reviews and table defines the frequency of words in the particular review.\n",
        "\n",
        "IDF is computed as :\n",
        "\n",
        "    idf(t) = log [ n / df(t) ] + 1\n",
        "         = log [ number of documents / number of documents containing the term]+1\n",
        "         \n",
        "         \n",
        "If smooth_idf=True.\n",
        "        Smooth-IDF = log [ n / df(t) +1 ] + 1         \n",
        "\n",
        "\n",
        "TF-IDF is implemented using sklearn : [link](https://scikit-learn.org/stable/modules/generated/sklearn.feature_extraction.text.TfidfVectorizer.html)\n",
        "\n",
        "\n"
      ]
    },
    {
      "cell_type": "markdown",
      "id": "e38df059",
      "metadata": {
        "id": "e38df059"
      },
      "source": [
        "__Using TF*IDF Vectorizer__"
      ]
    },
    {
      "cell_type": "code",
      "execution_count": null,
      "id": "d4bc347d",
      "metadata": {
        "colab": {
          "base_uri": "https://localhost:8080/"
        },
        "id": "d4bc347d",
        "outputId": "b17ffef1-7479-466e-d8f2-72f059637146"
      },
      "outputs": [
        {
          "output_type": "stream",
          "name": "stdout",
          "text": [
            "TFIDF Vectorizer……\n"
          ]
        }
      ],
      "source": [
        "print(\"TFIDF Vectorizer……\")\n",
        "from sklearn.feature_extraction.text import TfidfVectorizer\n",
        "vectorizer= TfidfVectorizer()\n",
        "tf_x_train = vectorizer.fit_transform(X_train)\n",
        "tf_x_test = vectorizer.transform(X_test)"
      ]
    },
    {
      "cell_type": "markdown",
      "id": "9e54406f",
      "metadata": {
        "id": "9e54406f"
      },
      "source": [
        "__SVM__\n",
        "\n",
        "Implementing SVM with sklearn for classification"
      ]
    },
    {
      "cell_type": "code",
      "execution_count": null,
      "id": "18afcc18",
      "metadata": {
        "id": "18afcc18"
      },
      "outputs": [],
      "source": [
        "from sklearn.svm import LinearSVC\n",
        "clf = LinearSVC(random_state=0,verbose=True)"
      ]
    },
    {
      "cell_type": "code",
      "execution_count": null,
      "id": "4748e323",
      "metadata": {
        "colab": {
          "base_uri": "https://localhost:8080/",
          "height": 93
        },
        "id": "4748e323",
        "outputId": "2ec0b0fc-5714-453b-deda-5a692563bf07"
      },
      "outputs": [
        {
          "output_type": "stream",
          "name": "stdout",
          "text": [
            "[LibLinear]"
          ]
        },
        {
          "output_type": "execute_result",
          "data": {
            "text/plain": [
              "LinearSVC(random_state=0, verbose=True)"
            ],
            "text/html": [
              "<style>#sk-container-id-1 {color: black;background-color: white;}#sk-container-id-1 pre{padding: 0;}#sk-container-id-1 div.sk-toggleable {background-color: white;}#sk-container-id-1 label.sk-toggleable__label {cursor: pointer;display: block;width: 100%;margin-bottom: 0;padding: 0.3em;box-sizing: border-box;text-align: center;}#sk-container-id-1 label.sk-toggleable__label-arrow:before {content: \"▸\";float: left;margin-right: 0.25em;color: #696969;}#sk-container-id-1 label.sk-toggleable__label-arrow:hover:before {color: black;}#sk-container-id-1 div.sk-estimator:hover label.sk-toggleable__label-arrow:before {color: black;}#sk-container-id-1 div.sk-toggleable__content {max-height: 0;max-width: 0;overflow: hidden;text-align: left;background-color: #f0f8ff;}#sk-container-id-1 div.sk-toggleable__content pre {margin: 0.2em;color: black;border-radius: 0.25em;background-color: #f0f8ff;}#sk-container-id-1 input.sk-toggleable__control:checked~div.sk-toggleable__content {max-height: 200px;max-width: 100%;overflow: auto;}#sk-container-id-1 input.sk-toggleable__control:checked~label.sk-toggleable__label-arrow:before {content: \"▾\";}#sk-container-id-1 div.sk-estimator input.sk-toggleable__control:checked~label.sk-toggleable__label {background-color: #d4ebff;}#sk-container-id-1 div.sk-label input.sk-toggleable__control:checked~label.sk-toggleable__label {background-color: #d4ebff;}#sk-container-id-1 input.sk-hidden--visually {border: 0;clip: rect(1px 1px 1px 1px);clip: rect(1px, 1px, 1px, 1px);height: 1px;margin: -1px;overflow: hidden;padding: 0;position: absolute;width: 1px;}#sk-container-id-1 div.sk-estimator {font-family: monospace;background-color: #f0f8ff;border: 1px dotted black;border-radius: 0.25em;box-sizing: border-box;margin-bottom: 0.5em;}#sk-container-id-1 div.sk-estimator:hover {background-color: #d4ebff;}#sk-container-id-1 div.sk-parallel-item::after {content: \"\";width: 100%;border-bottom: 1px solid gray;flex-grow: 1;}#sk-container-id-1 div.sk-label:hover label.sk-toggleable__label {background-color: #d4ebff;}#sk-container-id-1 div.sk-serial::before {content: \"\";position: absolute;border-left: 1px solid gray;box-sizing: border-box;top: 0;bottom: 0;left: 50%;z-index: 0;}#sk-container-id-1 div.sk-serial {display: flex;flex-direction: column;align-items: center;background-color: white;padding-right: 0.2em;padding-left: 0.2em;position: relative;}#sk-container-id-1 div.sk-item {position: relative;z-index: 1;}#sk-container-id-1 div.sk-parallel {display: flex;align-items: stretch;justify-content: center;background-color: white;position: relative;}#sk-container-id-1 div.sk-item::before, #sk-container-id-1 div.sk-parallel-item::before {content: \"\";position: absolute;border-left: 1px solid gray;box-sizing: border-box;top: 0;bottom: 0;left: 50%;z-index: -1;}#sk-container-id-1 div.sk-parallel-item {display: flex;flex-direction: column;z-index: 1;position: relative;background-color: white;}#sk-container-id-1 div.sk-parallel-item:first-child::after {align-self: flex-end;width: 50%;}#sk-container-id-1 div.sk-parallel-item:last-child::after {align-self: flex-start;width: 50%;}#sk-container-id-1 div.sk-parallel-item:only-child::after {width: 0;}#sk-container-id-1 div.sk-dashed-wrapped {border: 1px dashed gray;margin: 0 0.4em 0.5em 0.4em;box-sizing: border-box;padding-bottom: 0.4em;background-color: white;}#sk-container-id-1 div.sk-label label {font-family: monospace;font-weight: bold;display: inline-block;line-height: 1.2em;}#sk-container-id-1 div.sk-label-container {text-align: center;}#sk-container-id-1 div.sk-container {/* jupyter's `normalize.less` sets `[hidden] { display: none; }` but bootstrap.min.css set `[hidden] { display: none !important; }` so we also need the `!important` here to be able to override the default hidden behavior on the sphinx rendered scikit-learn.org. See: https://github.com/scikit-learn/scikit-learn/issues/21755 */display: inline-block !important;position: relative;}#sk-container-id-1 div.sk-text-repr-fallback {display: none;}</style><div id=\"sk-container-id-1\" class=\"sk-top-container\"><div class=\"sk-text-repr-fallback\"><pre>LinearSVC(random_state=0, verbose=True)</pre><b>In a Jupyter environment, please rerun this cell to show the HTML representation or trust the notebook. <br />On GitHub, the HTML representation is unable to render, please try loading this page with nbviewer.org.</b></div><div class=\"sk-container\" hidden><div class=\"sk-item\"><div class=\"sk-estimator sk-toggleable\"><input class=\"sk-toggleable__control sk-hidden--visually\" id=\"sk-estimator-id-1\" type=\"checkbox\" checked><label for=\"sk-estimator-id-1\" class=\"sk-toggleable__label sk-toggleable__label-arrow\">LinearSVC</label><div class=\"sk-toggleable__content\"><pre>LinearSVC(random_state=0, verbose=True)</pre></div></div></div></div></div>"
            ]
          },
          "metadata": {},
          "execution_count": 19
        }
      ],
      "source": [
        "clf.fit(tf_x_train,Y_train)"
      ]
    },
    {
      "cell_type": "markdown",
      "id": "3aa3ed61",
      "metadata": {
        "id": "3aa3ed61"
      },
      "source": [
        "Predicting the Test data"
      ]
    },
    {
      "cell_type": "code",
      "execution_count": null,
      "id": "aad074a2",
      "metadata": {
        "id": "aad074a2"
      },
      "outputs": [],
      "source": [
        "y_test_pred=clf.predict(tf_x_test)"
      ]
    },
    {
      "cell_type": "code",
      "execution_count": null,
      "id": "43453fb0",
      "metadata": {
        "id": "43453fb0"
      },
      "outputs": [],
      "source": [
        "metrics_SVM=classification_report(Y_test, y_test_pred,output_dict=True)"
      ]
    },
    {
      "cell_type": "code",
      "execution_count": null,
      "id": "4781c1fd",
      "metadata": {
        "colab": {
          "base_uri": "https://localhost:8080/"
        },
        "id": "4781c1fd",
        "outputId": "ce59cb86-cddb-41aa-8034-00bcf9b16e22"
      },
      "outputs": [
        {
          "output_type": "stream",
          "name": "stdout",
          "text": [
            "{\n",
            "  \"accuracy\": 0.808780765340526,\n",
            "  \"precision\": 0.8062256099340317,\n",
            "  \"recall\": 0.808780765340526,\n",
            "  \"f1\": 0.8064078913039544\n",
            "}\n"
          ]
        }
      ],
      "source": [
        "performance_SVM = {\"accuracy\": metrics_SVM[\"accuracy\"],\n",
        "               \"precision\": metrics_SVM[\"weighted avg\"]['precision'],\n",
        "               \"recall\": metrics_SVM[\"weighted avg\"]['recall'],\n",
        "               \"f1\": metrics_SVM[\"weighted avg\"]['f1-score']}\n",
        "print (json.dumps(performance_SVM, indent=2))"
      ]
    },
    {
      "cell_type": "markdown",
      "id": "a8fec0bc",
      "metadata": {
        "id": "a8fec0bc"
      },
      "source": [
        "__By Using the SVM classifier we got an accuracy of 80.87%__\n",
        "\n",
        "\n",
        "\n"
      ]
    },
    {
      "cell_type": "markdown",
      "id": "0542beac",
      "metadata": {
        "id": "0542beac"
      },
      "source": [
        "\n",
        "\n",
        "\n",
        "\n",
        "\n",
        "\n",
        "\n",
        "\n",
        "\n",
        "\n",
        "\n"
      ]
    },
    {
      "cell_type": "markdown",
      "id": "e53549d4",
      "metadata": {
        "id": "e53549d4"
      },
      "source": [
        "\n",
        "\n",
        "\n",
        "\n",
        "__Logistic Regression__\n",
        "\n",
        "Logistic regression is implemented using sklearn\n"
      ]
    },
    {
      "cell_type": "code",
      "execution_count": null,
      "id": "1f43e3d5",
      "metadata": {
        "id": "1f43e3d5"
      },
      "outputs": [],
      "source": [
        "from sklearn.linear_model import LogisticRegression\n",
        "clf = LogisticRegression(max_iter=1000,solver=\"saga\")"
      ]
    },
    {
      "cell_type": "markdown",
      "id": "5306aa0a",
      "metadata": {
        "id": "5306aa0a"
      },
      "source": [
        "Fit the Training data to the model"
      ]
    },
    {
      "cell_type": "code",
      "execution_count": null,
      "id": "2c117a5d",
      "metadata": {
        "colab": {
          "base_uri": "https://localhost:8080/",
          "height": 75
        },
        "id": "2c117a5d",
        "outputId": "0be286c4-8fda-46db-d407-a59d978bab0a"
      },
      "outputs": [
        {
          "output_type": "execute_result",
          "data": {
            "text/plain": [
              "LogisticRegression(max_iter=1000, solver='saga')"
            ],
            "text/html": [
              "<style>#sk-container-id-2 {color: black;background-color: white;}#sk-container-id-2 pre{padding: 0;}#sk-container-id-2 div.sk-toggleable {background-color: white;}#sk-container-id-2 label.sk-toggleable__label {cursor: pointer;display: block;width: 100%;margin-bottom: 0;padding: 0.3em;box-sizing: border-box;text-align: center;}#sk-container-id-2 label.sk-toggleable__label-arrow:before {content: \"▸\";float: left;margin-right: 0.25em;color: #696969;}#sk-container-id-2 label.sk-toggleable__label-arrow:hover:before {color: black;}#sk-container-id-2 div.sk-estimator:hover label.sk-toggleable__label-arrow:before {color: black;}#sk-container-id-2 div.sk-toggleable__content {max-height: 0;max-width: 0;overflow: hidden;text-align: left;background-color: #f0f8ff;}#sk-container-id-2 div.sk-toggleable__content pre {margin: 0.2em;color: black;border-radius: 0.25em;background-color: #f0f8ff;}#sk-container-id-2 input.sk-toggleable__control:checked~div.sk-toggleable__content {max-height: 200px;max-width: 100%;overflow: auto;}#sk-container-id-2 input.sk-toggleable__control:checked~label.sk-toggleable__label-arrow:before {content: \"▾\";}#sk-container-id-2 div.sk-estimator input.sk-toggleable__control:checked~label.sk-toggleable__label {background-color: #d4ebff;}#sk-container-id-2 div.sk-label input.sk-toggleable__control:checked~label.sk-toggleable__label {background-color: #d4ebff;}#sk-container-id-2 input.sk-hidden--visually {border: 0;clip: rect(1px 1px 1px 1px);clip: rect(1px, 1px, 1px, 1px);height: 1px;margin: -1px;overflow: hidden;padding: 0;position: absolute;width: 1px;}#sk-container-id-2 div.sk-estimator {font-family: monospace;background-color: #f0f8ff;border: 1px dotted black;border-radius: 0.25em;box-sizing: border-box;margin-bottom: 0.5em;}#sk-container-id-2 div.sk-estimator:hover {background-color: #d4ebff;}#sk-container-id-2 div.sk-parallel-item::after {content: \"\";width: 100%;border-bottom: 1px solid gray;flex-grow: 1;}#sk-container-id-2 div.sk-label:hover label.sk-toggleable__label {background-color: #d4ebff;}#sk-container-id-2 div.sk-serial::before {content: \"\";position: absolute;border-left: 1px solid gray;box-sizing: border-box;top: 0;bottom: 0;left: 50%;z-index: 0;}#sk-container-id-2 div.sk-serial {display: flex;flex-direction: column;align-items: center;background-color: white;padding-right: 0.2em;padding-left: 0.2em;position: relative;}#sk-container-id-2 div.sk-item {position: relative;z-index: 1;}#sk-container-id-2 div.sk-parallel {display: flex;align-items: stretch;justify-content: center;background-color: white;position: relative;}#sk-container-id-2 div.sk-item::before, #sk-container-id-2 div.sk-parallel-item::before {content: \"\";position: absolute;border-left: 1px solid gray;box-sizing: border-box;top: 0;bottom: 0;left: 50%;z-index: -1;}#sk-container-id-2 div.sk-parallel-item {display: flex;flex-direction: column;z-index: 1;position: relative;background-color: white;}#sk-container-id-2 div.sk-parallel-item:first-child::after {align-self: flex-end;width: 50%;}#sk-container-id-2 div.sk-parallel-item:last-child::after {align-self: flex-start;width: 50%;}#sk-container-id-2 div.sk-parallel-item:only-child::after {width: 0;}#sk-container-id-2 div.sk-dashed-wrapped {border: 1px dashed gray;margin: 0 0.4em 0.5em 0.4em;box-sizing: border-box;padding-bottom: 0.4em;background-color: white;}#sk-container-id-2 div.sk-label label {font-family: monospace;font-weight: bold;display: inline-block;line-height: 1.2em;}#sk-container-id-2 div.sk-label-container {text-align: center;}#sk-container-id-2 div.sk-container {/* jupyter's `normalize.less` sets `[hidden] { display: none; }` but bootstrap.min.css set `[hidden] { display: none !important; }` so we also need the `!important` here to be able to override the default hidden behavior on the sphinx rendered scikit-learn.org. See: https://github.com/scikit-learn/scikit-learn/issues/21755 */display: inline-block !important;position: relative;}#sk-container-id-2 div.sk-text-repr-fallback {display: none;}</style><div id=\"sk-container-id-2\" class=\"sk-top-container\"><div class=\"sk-text-repr-fallback\"><pre>LogisticRegression(max_iter=1000, solver=&#x27;saga&#x27;)</pre><b>In a Jupyter environment, please rerun this cell to show the HTML representation or trust the notebook. <br />On GitHub, the HTML representation is unable to render, please try loading this page with nbviewer.org.</b></div><div class=\"sk-container\" hidden><div class=\"sk-item\"><div class=\"sk-estimator sk-toggleable\"><input class=\"sk-toggleable__control sk-hidden--visually\" id=\"sk-estimator-id-2\" type=\"checkbox\" checked><label for=\"sk-estimator-id-2\" class=\"sk-toggleable__label sk-toggleable__label-arrow\">LogisticRegression</label><div class=\"sk-toggleable__content\"><pre>LogisticRegression(max_iter=1000, solver=&#x27;saga&#x27;)</pre></div></div></div></div></div>"
            ]
          },
          "metadata": {},
          "execution_count": 24
        }
      ],
      "source": [
        "clf.fit(tf_x_train,Y_train)"
      ]
    },
    {
      "cell_type": "markdown",
      "id": "ff5390f6",
      "metadata": {
        "id": "ff5390f6"
      },
      "source": [
        "Predicting the test data"
      ]
    },
    {
      "cell_type": "code",
      "execution_count": null,
      "id": "8f8b6766",
      "metadata": {
        "id": "8f8b6766"
      },
      "outputs": [],
      "source": [
        "y_test_pred_Logistic_Regression=clf.predict(tf_x_test)"
      ]
    },
    {
      "cell_type": "markdown",
      "id": "8c3dbfba",
      "metadata": {
        "id": "8c3dbfba"
      },
      "source": [
        "Analyzing the Report"
      ]
    },
    {
      "cell_type": "code",
      "execution_count": null,
      "id": "9ea19a9e",
      "metadata": {
        "id": "9ea19a9e"
      },
      "outputs": [],
      "source": [
        "metrics_Logistic_Regression = classification_report(Y_test, y_test_pred_Logistic_Regression,output_dict=True)"
      ]
    },
    {
      "cell_type": "code",
      "execution_count": null,
      "id": "f8bd6d20",
      "metadata": {
        "colab": {
          "base_uri": "https://localhost:8080/"
        },
        "id": "f8bd6d20",
        "outputId": "b0e7f88f-14dd-4784-bac1-5a869d0f8c33"
      },
      "outputs": [
        {
          "output_type": "stream",
          "name": "stdout",
          "text": [
            "{\n",
            "  \"accuracy\": 0.8127528658125421,\n",
            "  \"precision\": 0.8102321318158092,\n",
            "  \"recall\": 0.8127528658125421,\n",
            "  \"f1\": 0.809611957399829\n",
            "}\n"
          ]
        }
      ],
      "source": [
        "performance_Logistic_Regression = {\"accuracy\": metrics_Logistic_Regression[\"accuracy\"],\n",
        "               \"precision\": metrics_Logistic_Regression[\"weighted avg\"]['precision'],\n",
        "               \"recall\": metrics_Logistic_Regression[\"weighted avg\"]['recall'],\n",
        "               \"f1\": metrics_Logistic_Regression[\"weighted avg\"]['f1-score']}\n",
        "print (json.dumps(performance_Logistic_Regression, indent=2))"
      ]
    },
    {
      "cell_type": "markdown",
      "id": "e9362a57",
      "metadata": {
        "id": "e9362a57"
      },
      "source": [
        "__By Using the LR classifier we got an accuracy of 81.27%__"
      ]
    },
    {
      "cell_type": "code",
      "source": [
        "# Initialize wandb project\n",
        "wandb.init(project=\"svm-project\")\n",
        "\n",
        "\n",
        "\n",
        "# Log the metrics and models to wandb\n",
        "wandb.log({\n",
        "\n",
        "            \"accuracy_weighted_random\": metrics_weighted_random[\"accuracy\"],\n",
        "           \"precision_weighted_random\": metrics_weighted_random[\"weighted avg\"]['precision'],\n",
        "           \"recall_weighted_random\": metrics_weighted_random[\"weighted avg\"]['recall'],\n",
        "           \"f1_weighted_random\": metrics_weighted_random[\"weighted avg\"]['f1-score']\n",
        "            ,\n",
        "\n",
        "           \"accuracy_svm\": metrics_SVM[\"accuracy\"],\n",
        "           \"precision_svm\": metrics_SVM[\"weighted avg\"]['precision'],\n",
        "           \"recall_svm\": metrics_SVM[\"weighted avg\"]['recall'],\n",
        "           \"f1_svm\": metrics_SVM[\"weighted avg\"]['f1-score']\n",
        "           ,\n",
        "   \n",
        "           \"accuracy_Logistic_Regression\": metrics_Logistic_Regression[\"accuracy\"],\n",
        "           \"precision_Logistic_Regression\": metrics_Logistic_Regression[\"weighted avg\"]['precision'],\n",
        "           \"recall_Logistic_Regression\": metrics_Logistic_Regression[\"weighted avg\"]['recall'],\n",
        "           \"f1_Logistic_Regression\": metrics_Logistic_Regression[\"weighted avg\"]['f1-score']\n",
        "           })\n",
        "\n",
        "wandb.sklearn.plot_confusion_matrix(Y_test, y_test_pred, label)\n",
        "\n",
        "wandb.sklearn.plot_confusion_matrix(Y_test, y_test_pred_Logistic_Regression, label)"
      ],
      "metadata": {
        "colab": {
          "base_uri": "https://localhost:8080/",
          "height": 121
        },
        "id": "nvmSKzk2d9N6",
        "outputId": "52cbb49d-ad24-4b66-c53c-56918270c0a0"
      },
      "id": "nvmSKzk2d9N6",
      "execution_count": null,
      "outputs": [
        {
          "output_type": "stream",
          "name": "stderr",
          "text": [
            "\u001b[34m\u001b[1mwandb\u001b[0m: Currently logged in as: \u001b[33msentimovie\u001b[0m. Use \u001b[1m`wandb login --relogin`\u001b[0m to force relogin\n"
          ]
        },
        {
          "output_type": "display_data",
          "data": {
            "text/plain": [
              "<IPython.core.display.HTML object>"
            ],
            "text/html": [
              "Tracking run with wandb version 0.15.3"
            ]
          },
          "metadata": {}
        },
        {
          "output_type": "display_data",
          "data": {
            "text/plain": [
              "<IPython.core.display.HTML object>"
            ],
            "text/html": [
              "Run data is saved locally in <code>/content/drive/MyDrive/mlops/mlops_part_2_progect/reviews/wandb/run-20230520_233504-b728526f</code>"
            ]
          },
          "metadata": {}
        },
        {
          "output_type": "display_data",
          "data": {
            "text/plain": [
              "<IPython.core.display.HTML object>"
            ],
            "text/html": [
              "Syncing run <strong><a href='https://wandb.ai/sentimovie/svm-project/runs/b728526f' target=\"_blank\">fancy-bee-1</a></strong> to <a href='https://wandb.ai/sentimovie/svm-project' target=\"_blank\">Weights & Biases</a> (<a href='https://wandb.me/run' target=\"_blank\">docs</a>)<br/>"
            ]
          },
          "metadata": {}
        },
        {
          "output_type": "display_data",
          "data": {
            "text/plain": [
              "<IPython.core.display.HTML object>"
            ],
            "text/html": [
              " View project at <a href='https://wandb.ai/sentimovie/svm-project' target=\"_blank\">https://wandb.ai/sentimovie/svm-project</a>"
            ]
          },
          "metadata": {}
        },
        {
          "output_type": "display_data",
          "data": {
            "text/plain": [
              "<IPython.core.display.HTML object>"
            ],
            "text/html": [
              " View run at <a href='https://wandb.ai/sentimovie/svm-project/runs/b728526f' target=\"_blank\">https://wandb.ai/sentimovie/svm-project/runs/b728526f</a>"
            ]
          },
          "metadata": {}
        }
      ]
    }
  ],
  "metadata": {
    "kernelspec": {
      "display_name": "Python 3 (ipykernel)",
      "language": "python",
      "name": "python3"
    },
    "language_info": {
      "codemirror_mode": {
        "name": "ipython",
        "version": 3
      },
      "file_extension": ".py",
      "mimetype": "text/x-python",
      "name": "python",
      "nbconvert_exporter": "python",
      "pygments_lexer": "ipython3",
      "version": "3.9.7"
    },
    "colab": {
      "provenance": []
    },
    "gpuClass": "standard"
  },
  "nbformat": 4,
  "nbformat_minor": 5
}