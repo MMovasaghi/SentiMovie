{
  "cells": [
    {
      "cell_type": "markdown",
      "id": "79e203f3",
      "metadata": {
        "id": "79e203f3"
      },
      "source": [
        " ___Sentiment Analysis on tomato Reviews using Random and TF-IDF Approach.___\n",
        "\n",
        "__Feature Extraction__: TF-IDF (term frequency-inverse document frequency)\n",
        "\n",
        "__Classification__: SVM, Logistic Regression \n",
        "\n",
        "In this notebook, Sentiment Analysis is performed on dataset."
      ]
    },
    {
      "cell_type": "markdown",
      "id": "198bff8e",
      "metadata": {
        "id": "198bff8e"
      },
      "source": [
        "Import the Required Packages:"
      ]
    },
    {
      "cell_type": "code",
      "source": [
        "!pip install wandb -qU"
      ],
      "metadata": {
        "id": "zWdV3mVzTLng"
      },
      "id": "zWdV3mVzTLng",
      "execution_count": 41,
      "outputs": []
    },
    {
      "cell_type": "code",
      "source": [
        "import wandb\n",
        "wandb.login(key=\"aec6fef7ba56ee445129472eb583718b8e529934\")"
      ],
      "metadata": {
        "colab": {
          "base_uri": "https://localhost:8080/"
        },
        "id": "3r9JCxY30Z2w",
        "outputId": "d5c2566b-43ba-48cc-be78-232c83831f0a"
      },
      "id": "3r9JCxY30Z2w",
      "execution_count": 42,
      "outputs": [
        {
          "output_type": "stream",
          "name": "stderr",
          "text": [
            "\u001b[34m\u001b[1mwandb\u001b[0m: \u001b[33mWARNING\u001b[0m Calling wandb.login() after wandb.init() has no effect.\n"
          ]
        },
        {
          "output_type": "execute_result",
          "data": {
            "text/plain": [
              "True"
            ]
          },
          "metadata": {},
          "execution_count": 42
        }
      ]
    },
    {
      "cell_type": "code",
      "execution_count": 43,
      "id": "01a630df",
      "metadata": {
        "id": "01a630df"
      },
      "outputs": [],
      "source": [
        "import gzip\n",
        "import pickle\n",
        "import pandas as pd\n",
        "import numpy as np\n",
        "import nltk\n",
        "import re\n",
        "import random\n",
        "from tqdm import tqdm\n",
        "import json\n",
        "import wandb\n",
        "from sklearn.metrics import classification_report"
      ]
    },
    {
      "cell_type": "code",
      "source": [
        "from google.colab import drive\n",
        "drive.mount('/content/drive')"
      ],
      "metadata": {
        "colab": {
          "base_uri": "https://localhost:8080/"
        },
        "id": "qIkaKGeIfGnU",
        "outputId": "92342702-96a9-4c37-8118-7f573ba49adc"
      },
      "id": "qIkaKGeIfGnU",
      "execution_count": 44,
      "outputs": [
        {
          "output_type": "stream",
          "name": "stdout",
          "text": [
            "Drive already mounted at /content/drive; to attempt to forcibly remount, call drive.mount(\"/content/drive\", force_remount=True).\n"
          ]
        }
      ]
    },
    {
      "cell_type": "code",
      "source": [
        "%cd /content/drive/MyDrive/mlops/mlops_part_2_progect/reviews"
      ],
      "metadata": {
        "colab": {
          "base_uri": "https://localhost:8080/"
        },
        "id": "fRn7fmQVgbvZ",
        "outputId": "56e3572b-1d20-48d8-9216-83ef485eb35a"
      },
      "id": "fRn7fmQVgbvZ",
      "execution_count": 45,
      "outputs": [
        {
          "output_type": "stream",
          "name": "stdout",
          "text": [
            "/content/drive/MyDrive/mlops/mlops_part_2_progect/reviews\n"
          ]
        }
      ]
    },
    {
      "cell_type": "code",
      "execution_count": 46,
      "id": "fc1fa812",
      "metadata": {
        "id": "fc1fa812"
      },
      "outputs": [],
      "source": [
        "\n",
        "with open('train.pkl', 'rb') as f:\n",
        "    train_set = pickle.load(f)\n",
        "    \n",
        "with open('test.pkl', 'rb') as f:\n",
        "    test_set = pickle.load(f)\n",
        "        \n",
        " "
      ]
    },
    {
      "cell_type": "code",
      "execution_count": 47,
      "id": "04791f6a",
      "metadata": {
        "id": "04791f6a"
      },
      "outputs": [],
      "source": [
        "train = pd.DataFrame.from_dict(train_set)\n",
        "test =  pd.DataFrame.from_dict(test_set)"
      ]
    },
    {
      "cell_type": "code",
      "execution_count": 48,
      "id": "8617b4dc",
      "metadata": {
        "id": "8617b4dc"
      },
      "outputs": [],
      "source": [
        "train = train.dropna()\n",
        "test = test.dropna()"
      ]
    },
    {
      "cell_type": "code",
      "execution_count": 49,
      "id": "977f039c",
      "metadata": {
        "id": "977f039c"
      },
      "outputs": [],
      "source": [
        "X_train = train[\"x\"]\n",
        "X_test = test[\"x\"]\n",
        "Y_train = train[\"y\"]\n",
        "Y_test = test[\"y\"]\n"
      ]
    },
    {
      "cell_type": "markdown",
      "id": "360d67a9",
      "metadata": {
        "id": "360d67a9"
      },
      "source": [
        "# Random\n",
        " <u><i>motivation</i></u>: We want to know what random (chance) performance looks like. All of our efforts should be well above this baseline."
      ]
    },
    {
      "cell_type": "code",
      "execution_count": 50,
      "id": "43649833",
      "metadata": {
        "id": "43649833"
      },
      "outputs": [],
      "source": [
        "# Generate random predictions\n",
        "\n",
        "label = [\"Fresh\",\"Rotten\"]\n",
        "y_pred = []\n",
        "for i in range(len(Y_test)):\n",
        "    y_pred.append(random.choice(label))\n",
        "\n",
        "from sklearn.metrics import classification_report\n",
        "metrics=classification_report(Y_test, y_pred,output_dict=True)\n"
      ]
    },
    {
      "cell_type": "code",
      "source": [
        "from sklearn.metrics import classification_report\n",
        "metrics=classification_report(Y_test, y_pred,output_dict=True)\n",
        "performance = {\"accuracy\": metrics[\"accuracy\"],\n",
        "               \"precision\": metrics[\"weighted avg\"]['precision'],\n",
        "               \"recall\": metrics[\"weighted avg\"]['recall'],\n",
        "               \"f1\": metrics[\"weighted avg\"]['f1-score']}"
      ],
      "metadata": {
        "id": "v43arxS8M_kl"
      },
      "id": "v43arxS8M_kl",
      "execution_count": 51,
      "outputs": []
    },
    {
      "cell_type": "code",
      "execution_count": 52,
      "id": "c72b1eb9",
      "metadata": {
        "id": "c72b1eb9"
      },
      "outputs": [],
      "source": [
        "performance = {\"accuracy\": metrics[\"accuracy\"],\n",
        "               \"precision\": metrics[\"weighted avg\"]['precision'],\n",
        "               \"recall\": metrics[\"weighted avg\"]['recall'],\n",
        "               \"f1\": metrics[\"weighted avg\"]['f1-score']}"
      ]
    },
    {
      "cell_type": "code",
      "execution_count": 53,
      "id": "c778ed3d",
      "metadata": {
        "colab": {
          "base_uri": "https://localhost:8080/"
        },
        "id": "c778ed3d",
        "outputId": "ed9938fb-438f-4b2f-a722-70dd7799b21e"
      },
      "outputs": [
        {
          "output_type": "stream",
          "name": "stdout",
          "text": [
            "{\n",
            "  \"accuracy\": 0.4995996291301416,\n",
            "  \"precision\": 0.5388102853049039,\n",
            "  \"recall\": 0.4995996291301416,\n",
            "  \"f1\": 0.5095863722381182\n",
            "}\n"
          ]
        }
      ],
      "source": [
        "print (json.dumps(performance, indent=2))"
      ]
    },
    {
      "cell_type": "markdown",
      "id": "8ccbee78",
      "metadata": {
        "id": "8ccbee78"
      },
      "source": [
        "By Using the __random__ classifier we got an accuracy of 50.03%"
      ]
    },
    {
      "cell_type": "markdown",
      "id": "dd4eea54",
      "metadata": {
        "id": "dd4eea54"
      },
      "source": [
        "__weighted random__\n",
        "\n",
        "We made the assumption that there is an equal probability for every class. Let's use the train split to figure out what the true probability is."
      ]
    },
    {
      "cell_type": "code",
      "execution_count": 54,
      "id": "a90a825b",
      "metadata": {
        "colab": {
          "base_uri": "https://localhost:8080/"
        },
        "id": "a90a825b",
        "outputId": "3d970059-01d8-48c4-8270-c287fd5b9da7"
      },
      "outputs": [
        {
          "output_type": "execute_result",
          "data": {
            "text/plain": [
              "Counter({'Fresh': 60733, 'Rotten': 34179})"
            ]
          },
          "metadata": {},
          "execution_count": 54
        }
      ],
      "source": [
        "# Class frequencies\n",
        "import collections\n",
        "collections.Counter(Y_test)"
      ]
    },
    {
      "cell_type": "code",
      "execution_count": 55,
      "id": "089794ac",
      "metadata": {
        "id": "089794ac"
      },
      "outputs": [],
      "source": [
        "p=[]\n",
        "for i in label:\n",
        "     p.append(collections.Counter(Y_test)[i]/len(Y_test))"
      ]
    },
    {
      "cell_type": "code",
      "execution_count": 56,
      "id": "cd5584c9",
      "metadata": {
        "id": "cd5584c9"
      },
      "outputs": [],
      "source": [
        "y_pred = []\n",
        "for i in range(len(Y_test)):\n",
        "    y_pred.append(random.choices(label, weights=p ,k=1) )"
      ]
    },
    {
      "cell_type": "code",
      "execution_count": 57,
      "id": "b0aca972",
      "metadata": {
        "colab": {
          "base_uri": "https://localhost:8080/"
        },
        "id": "b0aca972",
        "outputId": "c7efb365-c81c-47fa-8c48-1dce8a355ec9"
      },
      "outputs": [
        {
          "output_type": "stream",
          "name": "stdout",
          "text": [
            "{\n",
            "  \"accuracy\": 0.4995996291301416,\n",
            "  \"precision\": 0.5388102853049039,\n",
            "  \"recall\": 0.4995996291301416,\n",
            "  \"f1\": 0.5095863722381182\n",
            "}\n"
          ]
        }
      ],
      "source": [
        "metrics_weighted_random = classification_report(Y_test, y_pred,output_dict=True)\n",
        "performance_weighted_random = {\"accuracy\": metrics[\"accuracy\"],\n",
        "               \"precision\": metrics[\"weighted avg\"]['precision'],\n",
        "               \"recall\": metrics[\"weighted avg\"]['recall'],\n",
        "               \"f1\": metrics[\"weighted avg\"]['f1-score']}\n",
        "print (json.dumps(performance, indent=2))\n"
      ]
    },
    {
      "cell_type": "markdown",
      "id": "24372bc1",
      "metadata": {
        "id": "24372bc1"
      },
      "source": [
        "By Using the __weighted random__ classifier we got an accuracy of 53.93%"
      ]
    },
    {
      "cell_type": "markdown",
      "id": "7c676322",
      "metadata": {
        "id": "7c676322"
      },
      "source": [
        "# Feature Extraction\n",
        "__TF-IDF__: It is a method of extracting the features from the text data. TF stands for Term Frequency and IDF stands for Inverse Document Frequency.\n",
        "\n",
        "__Term Frequency__: Number of times word occurs in a review. For an example consider 2 reviews where w1,w2.. represents the words in both reviews and table defines the frequency of words in the particular review.\n",
        "\n",
        "IDF is computed as :\n",
        "\n",
        "    idf(t) = log [ n / df(t) ] + 1\n",
        "         = log [ number of documents / number of documents containing the term]+1\n",
        "         \n",
        "         \n",
        "If smooth_idf=True.\n",
        "        Smooth-IDF = log [ n / df(t) +1 ] + 1         \n",
        "\n",
        "\n",
        "TF-IDF is implemented using sklearn : [link](https://scikit-learn.org/stable/modules/generated/sklearn.feature_extraction.text.TfidfVectorizer.html)\n",
        "\n",
        "\n"
      ]
    },
    {
      "cell_type": "markdown",
      "id": "e38df059",
      "metadata": {
        "id": "e38df059"
      },
      "source": [
        "__Using TF*IDF Vectorizer__"
      ]
    },
    {
      "cell_type": "code",
      "execution_count": 58,
      "id": "d4bc347d",
      "metadata": {
        "colab": {
          "base_uri": "https://localhost:8080/"
        },
        "id": "d4bc347d",
        "outputId": "cc907cb3-ff33-490e-d850-5ba87236b3cb"
      },
      "outputs": [
        {
          "output_type": "stream",
          "name": "stdout",
          "text": [
            "TFIDF Vectorizer……\n"
          ]
        }
      ],
      "source": [
        "print(\"TFIDF Vectorizer……\")\n",
        "from sklearn.feature_extraction.text import TfidfVectorizer\n",
        "vectorizer= TfidfVectorizer()\n",
        "tf_x_train = vectorizer.fit_transform(X_train)\n",
        "tf_x_test = vectorizer.transform(X_test)"
      ]
    },
    {
      "cell_type": "markdown",
      "id": "9e54406f",
      "metadata": {
        "id": "9e54406f"
      },
      "source": [
        "__SVM__\n",
        "\n",
        "Implementing SVM with sklearn for classification"
      ]
    },
    {
      "cell_type": "code",
      "execution_count": 59,
      "id": "18afcc18",
      "metadata": {
        "id": "18afcc18"
      },
      "outputs": [],
      "source": [
        "from sklearn.svm import LinearSVC\n",
        "clf = LinearSVC(random_state=0,verbose=True)"
      ]
    },
    {
      "cell_type": "code",
      "execution_count": 60,
      "id": "4748e323",
      "metadata": {
        "colab": {
          "base_uri": "https://localhost:8080/",
          "height": 93
        },
        "id": "4748e323",
        "outputId": "4e1806f7-17d8-4009-871b-a7f3e503381a"
      },
      "outputs": [
        {
          "output_type": "stream",
          "name": "stdout",
          "text": [
            "[LibLinear]"
          ]
        },
        {
          "output_type": "execute_result",
          "data": {
            "text/plain": [
              "LinearSVC(random_state=0, verbose=True)"
            ],
            "text/html": [
              "<style>#sk-container-id-3 {color: black;background-color: white;}#sk-container-id-3 pre{padding: 0;}#sk-container-id-3 div.sk-toggleable {background-color: white;}#sk-container-id-3 label.sk-toggleable__label {cursor: pointer;display: block;width: 100%;margin-bottom: 0;padding: 0.3em;box-sizing: border-box;text-align: center;}#sk-container-id-3 label.sk-toggleable__label-arrow:before {content: \"▸\";float: left;margin-right: 0.25em;color: #696969;}#sk-container-id-3 label.sk-toggleable__label-arrow:hover:before {color: black;}#sk-container-id-3 div.sk-estimator:hover label.sk-toggleable__label-arrow:before {color: black;}#sk-container-id-3 div.sk-toggleable__content {max-height: 0;max-width: 0;overflow: hidden;text-align: left;background-color: #f0f8ff;}#sk-container-id-3 div.sk-toggleable__content pre {margin: 0.2em;color: black;border-radius: 0.25em;background-color: #f0f8ff;}#sk-container-id-3 input.sk-toggleable__control:checked~div.sk-toggleable__content {max-height: 200px;max-width: 100%;overflow: auto;}#sk-container-id-3 input.sk-toggleable__control:checked~label.sk-toggleable__label-arrow:before {content: \"▾\";}#sk-container-id-3 div.sk-estimator input.sk-toggleable__control:checked~label.sk-toggleable__label {background-color: #d4ebff;}#sk-container-id-3 div.sk-label input.sk-toggleable__control:checked~label.sk-toggleable__label {background-color: #d4ebff;}#sk-container-id-3 input.sk-hidden--visually {border: 0;clip: rect(1px 1px 1px 1px);clip: rect(1px, 1px, 1px, 1px);height: 1px;margin: -1px;overflow: hidden;padding: 0;position: absolute;width: 1px;}#sk-container-id-3 div.sk-estimator {font-family: monospace;background-color: #f0f8ff;border: 1px dotted black;border-radius: 0.25em;box-sizing: border-box;margin-bottom: 0.5em;}#sk-container-id-3 div.sk-estimator:hover {background-color: #d4ebff;}#sk-container-id-3 div.sk-parallel-item::after {content: \"\";width: 100%;border-bottom: 1px solid gray;flex-grow: 1;}#sk-container-id-3 div.sk-label:hover label.sk-toggleable__label {background-color: #d4ebff;}#sk-container-id-3 div.sk-serial::before {content: \"\";position: absolute;border-left: 1px solid gray;box-sizing: border-box;top: 0;bottom: 0;left: 50%;z-index: 0;}#sk-container-id-3 div.sk-serial {display: flex;flex-direction: column;align-items: center;background-color: white;padding-right: 0.2em;padding-left: 0.2em;position: relative;}#sk-container-id-3 div.sk-item {position: relative;z-index: 1;}#sk-container-id-3 div.sk-parallel {display: flex;align-items: stretch;justify-content: center;background-color: white;position: relative;}#sk-container-id-3 div.sk-item::before, #sk-container-id-3 div.sk-parallel-item::before {content: \"\";position: absolute;border-left: 1px solid gray;box-sizing: border-box;top: 0;bottom: 0;left: 50%;z-index: -1;}#sk-container-id-3 div.sk-parallel-item {display: flex;flex-direction: column;z-index: 1;position: relative;background-color: white;}#sk-container-id-3 div.sk-parallel-item:first-child::after {align-self: flex-end;width: 50%;}#sk-container-id-3 div.sk-parallel-item:last-child::after {align-self: flex-start;width: 50%;}#sk-container-id-3 div.sk-parallel-item:only-child::after {width: 0;}#sk-container-id-3 div.sk-dashed-wrapped {border: 1px dashed gray;margin: 0 0.4em 0.5em 0.4em;box-sizing: border-box;padding-bottom: 0.4em;background-color: white;}#sk-container-id-3 div.sk-label label {font-family: monospace;font-weight: bold;display: inline-block;line-height: 1.2em;}#sk-container-id-3 div.sk-label-container {text-align: center;}#sk-container-id-3 div.sk-container {/* jupyter's `normalize.less` sets `[hidden] { display: none; }` but bootstrap.min.css set `[hidden] { display: none !important; }` so we also need the `!important` here to be able to override the default hidden behavior on the sphinx rendered scikit-learn.org. See: https://github.com/scikit-learn/scikit-learn/issues/21755 */display: inline-block !important;position: relative;}#sk-container-id-3 div.sk-text-repr-fallback {display: none;}</style><div id=\"sk-container-id-3\" class=\"sk-top-container\"><div class=\"sk-text-repr-fallback\"><pre>LinearSVC(random_state=0, verbose=True)</pre><b>In a Jupyter environment, please rerun this cell to show the HTML representation or trust the notebook. <br />On GitHub, the HTML representation is unable to render, please try loading this page with nbviewer.org.</b></div><div class=\"sk-container\" hidden><div class=\"sk-item\"><div class=\"sk-estimator sk-toggleable\"><input class=\"sk-toggleable__control sk-hidden--visually\" id=\"sk-estimator-id-3\" type=\"checkbox\" checked><label for=\"sk-estimator-id-3\" class=\"sk-toggleable__label sk-toggleable__label-arrow\">LinearSVC</label><div class=\"sk-toggleable__content\"><pre>LinearSVC(random_state=0, verbose=True)</pre></div></div></div></div></div>"
            ]
          },
          "metadata": {},
          "execution_count": 60
        }
      ],
      "source": [
        "clf.fit(tf_x_train,Y_train)"
      ]
    },
    {
      "cell_type": "markdown",
      "id": "3aa3ed61",
      "metadata": {
        "id": "3aa3ed61"
      },
      "source": [
        "Predicting the Test data"
      ]
    },
    {
      "cell_type": "code",
      "execution_count": 61,
      "id": "aad074a2",
      "metadata": {
        "id": "aad074a2"
      },
      "outputs": [],
      "source": [
        "y_test_pred=clf.predict(tf_x_test)"
      ]
    },
    {
      "cell_type": "code",
      "execution_count": 62,
      "id": "43453fb0",
      "metadata": {
        "id": "43453fb0"
      },
      "outputs": [],
      "source": [
        "metrics_SVM=classification_report(Y_test, y_test_pred,output_dict=True)"
      ]
    },
    {
      "cell_type": "code",
      "execution_count": 63,
      "id": "4781c1fd",
      "metadata": {
        "colab": {
          "base_uri": "https://localhost:8080/"
        },
        "id": "4781c1fd",
        "outputId": "f1d44c2f-3563-4cd2-f287-0004b13ac062"
      },
      "outputs": [
        {
          "output_type": "stream",
          "name": "stdout",
          "text": [
            "{\n",
            "  \"accuracy\": 0.4995996291301416,\n",
            "  \"precision\": 0.5388102853049039,\n",
            "  \"recall\": 0.4995996291301416,\n",
            "  \"f1\": 0.5095863722381182\n",
            "}\n"
          ]
        }
      ],
      "source": [
        "performance_SVM = {\"accuracy\": metrics[\"accuracy\"],\n",
        "               \"precision\": metrics[\"weighted avg\"]['precision'],\n",
        "               \"recall\": metrics[\"weighted avg\"]['recall'],\n",
        "               \"f1\": metrics[\"weighted avg\"]['f1-score']}\n",
        "print (json.dumps(performance, indent=2))"
      ]
    },
    {
      "cell_type": "markdown",
      "id": "a8fec0bc",
      "metadata": {
        "id": "a8fec0bc"
      },
      "source": [
        "__By Using the SVM classifier we got an accuracy of 80.87%__\n",
        "\n",
        "\n",
        "\n"
      ]
    },
    {
      "cell_type": "markdown",
      "id": "0542beac",
      "metadata": {
        "id": "0542beac"
      },
      "source": [
        "\n",
        "\n",
        "\n",
        "\n",
        "\n",
        "\n",
        "\n",
        "\n",
        "\n",
        "\n",
        "\n"
      ]
    },
    {
      "cell_type": "markdown",
      "id": "e53549d4",
      "metadata": {
        "id": "e53549d4"
      },
      "source": [
        "\n",
        "\n",
        "\n",
        "\n",
        "__Logistic Regression__\n",
        "\n",
        "Logistic regression is implemented using sklearn\n"
      ]
    },
    {
      "cell_type": "code",
      "execution_count": 64,
      "id": "1f43e3d5",
      "metadata": {
        "id": "1f43e3d5"
      },
      "outputs": [],
      "source": [
        "from sklearn.linear_model import LogisticRegression\n",
        "clf = LogisticRegression(max_iter=1000,solver=\"saga\")"
      ]
    },
    {
      "cell_type": "markdown",
      "id": "5306aa0a",
      "metadata": {
        "id": "5306aa0a"
      },
      "source": [
        "Fit the Training data to the model"
      ]
    },
    {
      "cell_type": "code",
      "execution_count": 65,
      "id": "2c117a5d",
      "metadata": {
        "colab": {
          "base_uri": "https://localhost:8080/",
          "height": 75
        },
        "id": "2c117a5d",
        "outputId": "045ccf2b-5e52-4719-cc95-e0b81402ca9f"
      },
      "outputs": [
        {
          "output_type": "execute_result",
          "data": {
            "text/plain": [
              "LogisticRegression(max_iter=1000, solver='saga')"
            ],
            "text/html": [
              "<style>#sk-container-id-4 {color: black;background-color: white;}#sk-container-id-4 pre{padding: 0;}#sk-container-id-4 div.sk-toggleable {background-color: white;}#sk-container-id-4 label.sk-toggleable__label {cursor: pointer;display: block;width: 100%;margin-bottom: 0;padding: 0.3em;box-sizing: border-box;text-align: center;}#sk-container-id-4 label.sk-toggleable__label-arrow:before {content: \"▸\";float: left;margin-right: 0.25em;color: #696969;}#sk-container-id-4 label.sk-toggleable__label-arrow:hover:before {color: black;}#sk-container-id-4 div.sk-estimator:hover label.sk-toggleable__label-arrow:before {color: black;}#sk-container-id-4 div.sk-toggleable__content {max-height: 0;max-width: 0;overflow: hidden;text-align: left;background-color: #f0f8ff;}#sk-container-id-4 div.sk-toggleable__content pre {margin: 0.2em;color: black;border-radius: 0.25em;background-color: #f0f8ff;}#sk-container-id-4 input.sk-toggleable__control:checked~div.sk-toggleable__content {max-height: 200px;max-width: 100%;overflow: auto;}#sk-container-id-4 input.sk-toggleable__control:checked~label.sk-toggleable__label-arrow:before {content: \"▾\";}#sk-container-id-4 div.sk-estimator input.sk-toggleable__control:checked~label.sk-toggleable__label {background-color: #d4ebff;}#sk-container-id-4 div.sk-label input.sk-toggleable__control:checked~label.sk-toggleable__label {background-color: #d4ebff;}#sk-container-id-4 input.sk-hidden--visually {border: 0;clip: rect(1px 1px 1px 1px);clip: rect(1px, 1px, 1px, 1px);height: 1px;margin: -1px;overflow: hidden;padding: 0;position: absolute;width: 1px;}#sk-container-id-4 div.sk-estimator {font-family: monospace;background-color: #f0f8ff;border: 1px dotted black;border-radius: 0.25em;box-sizing: border-box;margin-bottom: 0.5em;}#sk-container-id-4 div.sk-estimator:hover {background-color: #d4ebff;}#sk-container-id-4 div.sk-parallel-item::after {content: \"\";width: 100%;border-bottom: 1px solid gray;flex-grow: 1;}#sk-container-id-4 div.sk-label:hover label.sk-toggleable__label {background-color: #d4ebff;}#sk-container-id-4 div.sk-serial::before {content: \"\";position: absolute;border-left: 1px solid gray;box-sizing: border-box;top: 0;bottom: 0;left: 50%;z-index: 0;}#sk-container-id-4 div.sk-serial {display: flex;flex-direction: column;align-items: center;background-color: white;padding-right: 0.2em;padding-left: 0.2em;position: relative;}#sk-container-id-4 div.sk-item {position: relative;z-index: 1;}#sk-container-id-4 div.sk-parallel {display: flex;align-items: stretch;justify-content: center;background-color: white;position: relative;}#sk-container-id-4 div.sk-item::before, #sk-container-id-4 div.sk-parallel-item::before {content: \"\";position: absolute;border-left: 1px solid gray;box-sizing: border-box;top: 0;bottom: 0;left: 50%;z-index: -1;}#sk-container-id-4 div.sk-parallel-item {display: flex;flex-direction: column;z-index: 1;position: relative;background-color: white;}#sk-container-id-4 div.sk-parallel-item:first-child::after {align-self: flex-end;width: 50%;}#sk-container-id-4 div.sk-parallel-item:last-child::after {align-self: flex-start;width: 50%;}#sk-container-id-4 div.sk-parallel-item:only-child::after {width: 0;}#sk-container-id-4 div.sk-dashed-wrapped {border: 1px dashed gray;margin: 0 0.4em 0.5em 0.4em;box-sizing: border-box;padding-bottom: 0.4em;background-color: white;}#sk-container-id-4 div.sk-label label {font-family: monospace;font-weight: bold;display: inline-block;line-height: 1.2em;}#sk-container-id-4 div.sk-label-container {text-align: center;}#sk-container-id-4 div.sk-container {/* jupyter's `normalize.less` sets `[hidden] { display: none; }` but bootstrap.min.css set `[hidden] { display: none !important; }` so we also need the `!important` here to be able to override the default hidden behavior on the sphinx rendered scikit-learn.org. See: https://github.com/scikit-learn/scikit-learn/issues/21755 */display: inline-block !important;position: relative;}#sk-container-id-4 div.sk-text-repr-fallback {display: none;}</style><div id=\"sk-container-id-4\" class=\"sk-top-container\"><div class=\"sk-text-repr-fallback\"><pre>LogisticRegression(max_iter=1000, solver=&#x27;saga&#x27;)</pre><b>In a Jupyter environment, please rerun this cell to show the HTML representation or trust the notebook. <br />On GitHub, the HTML representation is unable to render, please try loading this page with nbviewer.org.</b></div><div class=\"sk-container\" hidden><div class=\"sk-item\"><div class=\"sk-estimator sk-toggleable\"><input class=\"sk-toggleable__control sk-hidden--visually\" id=\"sk-estimator-id-4\" type=\"checkbox\" checked><label for=\"sk-estimator-id-4\" class=\"sk-toggleable__label sk-toggleable__label-arrow\">LogisticRegression</label><div class=\"sk-toggleable__content\"><pre>LogisticRegression(max_iter=1000, solver=&#x27;saga&#x27;)</pre></div></div></div></div></div>"
            ]
          },
          "metadata": {},
          "execution_count": 65
        }
      ],
      "source": [
        "clf.fit(tf_x_train,Y_train)"
      ]
    },
    {
      "cell_type": "markdown",
      "id": "ff5390f6",
      "metadata": {
        "id": "ff5390f6"
      },
      "source": [
        "Predicting the test data"
      ]
    },
    {
      "cell_type": "code",
      "execution_count": 66,
      "id": "8f8b6766",
      "metadata": {
        "id": "8f8b6766"
      },
      "outputs": [],
      "source": [
        "y_test_pred_Logistic_Regression=clf.predict(tf_x_test)"
      ]
    },
    {
      "cell_type": "markdown",
      "id": "8c3dbfba",
      "metadata": {
        "id": "8c3dbfba"
      },
      "source": [
        "Analyzing the Report"
      ]
    },
    {
      "cell_type": "code",
      "execution_count": 67,
      "id": "9ea19a9e",
      "metadata": {
        "id": "9ea19a9e"
      },
      "outputs": [],
      "source": [
        "metrics_Logistic_Regression = classification_report(Y_test, y_test_pred,output_dict=True)"
      ]
    },
    {
      "cell_type": "code",
      "execution_count": 68,
      "id": "f8bd6d20",
      "metadata": {
        "colab": {
          "base_uri": "https://localhost:8080/"
        },
        "id": "f8bd6d20",
        "outputId": "4e883e8f-db26-405c-bbce-737abe657410"
      },
      "outputs": [
        {
          "output_type": "stream",
          "name": "stdout",
          "text": [
            "{\n",
            "  \"accuracy\": 0.4995996291301416,\n",
            "  \"precision\": 0.5388102853049039,\n",
            "  \"recall\": 0.4995996291301416,\n",
            "  \"f1\": 0.5095863722381182\n",
            "}\n"
          ]
        }
      ],
      "source": [
        "performance_Logistic_Regression = {\"accuracy\": metrics[\"accuracy\"],\n",
        "               \"precision\": metrics[\"weighted avg\"]['precision'],\n",
        "               \"recall\": metrics[\"weighted avg\"]['recall'],\n",
        "               \"f1\": metrics[\"weighted avg\"]['f1-score']}\n",
        "print (json.dumps(performance, indent=2))"
      ]
    },
    {
      "cell_type": "markdown",
      "id": "e9362a57",
      "metadata": {
        "id": "e9362a57"
      },
      "source": [
        "__By Using the LR classifier we got an accuracy of 81.27%__"
      ]
    },
    {
      "cell_type": "code",
      "source": [
        "# Initialize wandb project\n",
        "wandb.init(project=\"svm-project\")\n",
        "\n",
        "\n",
        "\n",
        "# Log the metrics and models to wandb\n",
        "wandb.log({\n",
        "\n",
        "            \"accuracy_weighted_random\": metrics_weighted_random[\"accuracy\"],\n",
        "           \"precision_weighted_random\": metrics_weighted_random[\"weighted avg\"]['precision'],\n",
        "           \"recall_weighted_random\": metrics_weighted_random[\"weighted avg\"]['recall'],\n",
        "           \"f1_weighted_random\": metrics_weighted_random[\"weighted avg\"]['f1-score']\n",
        "            ,\n",
        "\n",
        "           \"accuracy_svm\": metrics_SVM[\"accuracy\"],\n",
        "           \"precision_svm\": metrics_SVM[\"weighted avg\"]['precision'],\n",
        "           \"recall_svm\": metrics_SVM[\"weighted avg\"]['recall'],\n",
        "           \"f1_svm\": metrics_SVM[\"weighted avg\"]['f1-score']\n",
        "           ,\n",
        "   \n",
        "           \"accuracy_Logistic_Regression\": metrics_Logistic_Regression[\"accuracy\"],\n",
        "           \"precision_Logistic_Regression\": metrics_Logistic_Regression[\"weighted avg\"]['precision'],\n",
        "           \"recall_Logistic_Regression\": metrics_Logistic_Regression[\"weighted avg\"]['recall'],\n",
        "           \"f1_Logistic_Regression\": metrics_Logistic_Regression[\"weighted avg\"]['f1-score']\n",
        "           })\n",
        "\n",
        "wandb.sklearn.plot_confusion_matrix(Y_test, y_test_pred, label)\n",
        "\n",
        "wandb.sklearn.plot_confusion_matrix(Y_test, y_test_pred_Logistic_Regression, label)"
      ],
      "metadata": {
        "colab": {
          "base_uri": "https://localhost:8080/",
          "height": 616,
          "referenced_widgets": [
            "f86b4385322e401b84fac10427c9bdf9",
            "5ccf9055289146cabf26465f9c06d692",
            "83611b21d56d4676b49259bcf9275d1f",
            "22a193fb45db479b8b415aa0b3ae8362",
            "86c504d5683849518ebb8edf21bbec49",
            "0fbd1fbb0be5450db923953e54aa08c0",
            "2950a01094a24a32a4bd5cb07a142e56",
            "a136bca4d4f5450d999acac51eeda4de"
          ]
        },
        "id": "nvmSKzk2d9N6",
        "outputId": "c5cd8874-7021-486b-9483-e247335bd572"
      },
      "id": "nvmSKzk2d9N6",
      "execution_count": 69,
      "outputs": [
        {
          "output_type": "display_data",
          "data": {
            "text/plain": [
              "<IPython.core.display.HTML object>"
            ],
            "text/html": [
              "Finishing last run (ID:l6g1j7mp) before initializing another..."
            ]
          },
          "metadata": {}
        },
        {
          "output_type": "display_data",
          "data": {
            "text/plain": [
              "<IPython.core.display.HTML object>"
            ],
            "text/html": [
              "Waiting for W&B process to finish... <strong style=\"color:green\">(success).</strong>"
            ]
          },
          "metadata": {}
        },
        {
          "output_type": "display_data",
          "data": {
            "text/plain": [
              "VBox(children=(Label(value='0.003 MB of 0.003 MB uploaded (0.000 MB deduped)\\r'), FloatProgress(value=1.0, max…"
            ],
            "application/vnd.jupyter.widget-view+json": {
              "version_major": 2,
              "version_minor": 0,
              "model_id": "f86b4385322e401b84fac10427c9bdf9"
            }
          },
          "metadata": {}
        },
        {
          "output_type": "display_data",
          "data": {
            "text/plain": [
              "<IPython.core.display.HTML object>"
            ],
            "text/html": [
              "<style>\n",
              "    table.wandb td:nth-child(1) { padding: 0 10px; text-align: left ; width: auto;} td:nth-child(2) {text-align: left ; width: 100%}\n",
              "    .wandb-row { display: flex; flex-direction: row; flex-wrap: wrap; justify-content: flex-start; width: 100% }\n",
              "    .wandb-col { display: flex; flex-direction: column; flex-basis: 100%; flex: 1; padding: 10px; }\n",
              "    </style>\n",
              "<div class=\"wandb-row\"><div class=\"wandb-col\"><h3>Run history:</h3><br/><table class=\"wandb\"><tr><td>accuracy_Logistic_Regression</td><td>▁</td></tr><tr><td>accuracy_svm</td><td>▁</td></tr><tr><td>accuracy_weighted_random</td><td>▁</td></tr><tr><td>f1_Logistic_Regression</td><td>▁</td></tr><tr><td>f1_svm</td><td>▁</td></tr><tr><td>f1_weighted_random</td><td>▁</td></tr><tr><td>precision_Logistic_Regression</td><td>▁</td></tr><tr><td>precision_svm</td><td>▁</td></tr><tr><td>precision_weighted_random</td><td>▁</td></tr><tr><td>recall_Logistic_Regression</td><td>▁</td></tr><tr><td>recall_svm</td><td>▁</td></tr><tr><td>recall_weighted_random</td><td>▁</td></tr></table><br/></div><div class=\"wandb-col\"><h3>Run summary:</h3><br/><table class=\"wandb\"><tr><td>accuracy_Logistic_Regression</td><td>0.80878</td></tr><tr><td>accuracy_svm</td><td>0.80878</td></tr><tr><td>accuracy_weighted_random</td><td>0.53819</td></tr><tr><td>f1_Logistic_Regression</td><td>0.80641</td></tr><tr><td>f1_svm</td><td>0.80641</td></tr><tr><td>f1_weighted_random</td><td>0.53857</td></tr><tr><td>precision_Logistic_Regression</td><td>0.80623</td></tr><tr><td>precision_svm</td><td>0.80623</td></tr><tr><td>precision_weighted_random</td><td>0.53895</td></tr><tr><td>recall_Logistic_Regression</td><td>0.80878</td></tr><tr><td>recall_svm</td><td>0.80878</td></tr><tr><td>recall_weighted_random</td><td>0.53819</td></tr></table><br/></div></div>"
            ]
          },
          "metadata": {}
        },
        {
          "output_type": "display_data",
          "data": {
            "text/plain": [
              "<IPython.core.display.HTML object>"
            ],
            "text/html": [
              " View run <strong style=\"color:#cdcd00\">spring-sky-7</strong> at: <a href='https://wandb.ai/sharif_mlops/svm-project/runs/l6g1j7mp' target=\"_blank\">https://wandb.ai/sharif_mlops/svm-project/runs/l6g1j7mp</a><br/>Synced 5 W&B file(s), 2 media file(s), 2 artifact file(s) and 0 other file(s)"
            ]
          },
          "metadata": {}
        },
        {
          "output_type": "display_data",
          "data": {
            "text/plain": [
              "<IPython.core.display.HTML object>"
            ],
            "text/html": [
              "Find logs at: <code>./wandb/run-20230519_011701-l6g1j7mp/logs</code>"
            ]
          },
          "metadata": {}
        },
        {
          "output_type": "display_data",
          "data": {
            "text/plain": [
              "<IPython.core.display.HTML object>"
            ],
            "text/html": [
              "Successfully finished last run (ID:l6g1j7mp). Initializing new run:<br/>"
            ]
          },
          "metadata": {}
        },
        {
          "output_type": "display_data",
          "data": {
            "text/plain": [
              "<IPython.core.display.HTML object>"
            ],
            "text/html": [
              "Tracking run with wandb version 0.15.3"
            ]
          },
          "metadata": {}
        },
        {
          "output_type": "display_data",
          "data": {
            "text/plain": [
              "<IPython.core.display.HTML object>"
            ],
            "text/html": [
              "Run data is saved locally in <code>/content/drive/MyDrive/mlops/mlops_part_2_progect/reviews/wandb/run-20230519_012008-8bsk3r5t</code>"
            ]
          },
          "metadata": {}
        },
        {
          "output_type": "display_data",
          "data": {
            "text/plain": [
              "<IPython.core.display.HTML object>"
            ],
            "text/html": [
              "Syncing run <strong><a href='https://wandb.ai/sharif_mlops/svm-project/runs/8bsk3r5t' target=\"_blank\">fresh-haze-8</a></strong> to <a href='https://wandb.ai/sharif_mlops/svm-project' target=\"_blank\">Weights & Biases</a> (<a href='https://wandb.me/run' target=\"_blank\">docs</a>)<br/>"
            ]
          },
          "metadata": {}
        },
        {
          "output_type": "display_data",
          "data": {
            "text/plain": [
              "<IPython.core.display.HTML object>"
            ],
            "text/html": [
              " View project at <a href='https://wandb.ai/sharif_mlops/svm-project' target=\"_blank\">https://wandb.ai/sharif_mlops/svm-project</a>"
            ]
          },
          "metadata": {}
        },
        {
          "output_type": "display_data",
          "data": {
            "text/plain": [
              "<IPython.core.display.HTML object>"
            ],
            "text/html": [
              " View run at <a href='https://wandb.ai/sharif_mlops/svm-project/runs/8bsk3r5t' target=\"_blank\">https://wandb.ai/sharif_mlops/svm-project/runs/8bsk3r5t</a>"
            ]
          },
          "metadata": {}
        }
      ]
    }
  ],
  "metadata": {
    "kernelspec": {
      "display_name": "Python 3 (ipykernel)",
      "language": "python",
      "name": "python3"
    },
    "language_info": {
      "codemirror_mode": {
        "name": "ipython",
        "version": 3
      },
      "file_extension": ".py",
      "mimetype": "text/x-python",
      "name": "python",
      "nbconvert_exporter": "python",
      "pygments_lexer": "ipython3",
      "version": "3.9.7"
    },
    "colab": {
      "provenance": []
    },
    "gpuClass": "standard",
    "widgets": {
      "application/vnd.jupyter.widget-state+json": {
        "f86b4385322e401b84fac10427c9bdf9": {
          "model_module": "@jupyter-widgets/controls",
          "model_name": "VBoxModel",
          "model_module_version": "1.5.0",
          "state": {
            "_dom_classes": [],
            "_model_module": "@jupyter-widgets/controls",
            "_model_module_version": "1.5.0",
            "_model_name": "VBoxModel",
            "_view_count": null,
            "_view_module": "@jupyter-widgets/controls",
            "_view_module_version": "1.5.0",
            "_view_name": "VBoxView",
            "box_style": "",
            "children": [
              "IPY_MODEL_5ccf9055289146cabf26465f9c06d692",
              "IPY_MODEL_83611b21d56d4676b49259bcf9275d1f"
            ],
            "layout": "IPY_MODEL_22a193fb45db479b8b415aa0b3ae8362"
          }
        },
        "5ccf9055289146cabf26465f9c06d692": {
          "model_module": "@jupyter-widgets/controls",
          "model_name": "LabelModel",
          "model_module_version": "1.5.0",
          "state": {
            "_dom_classes": [],
            "_model_module": "@jupyter-widgets/controls",
            "_model_module_version": "1.5.0",
            "_model_name": "LabelModel",
            "_view_count": null,
            "_view_module": "@jupyter-widgets/controls",
            "_view_module_version": "1.5.0",
            "_view_name": "LabelView",
            "description": "",
            "description_tooltip": null,
            "layout": "IPY_MODEL_86c504d5683849518ebb8edf21bbec49",
            "placeholder": "​",
            "style": "IPY_MODEL_0fbd1fbb0be5450db923953e54aa08c0",
            "value": "0.003 MB of 0.012 MB uploaded (0.000 MB deduped)\r"
          }
        },
        "83611b21d56d4676b49259bcf9275d1f": {
          "model_module": "@jupyter-widgets/controls",
          "model_name": "FloatProgressModel",
          "model_module_version": "1.5.0",
          "state": {
            "_dom_classes": [],
            "_model_module": "@jupyter-widgets/controls",
            "_model_module_version": "1.5.0",
            "_model_name": "FloatProgressModel",
            "_view_count": null,
            "_view_module": "@jupyter-widgets/controls",
            "_view_module_version": "1.5.0",
            "_view_name": "ProgressView",
            "bar_style": "",
            "description": "",
            "description_tooltip": null,
            "layout": "IPY_MODEL_2950a01094a24a32a4bd5cb07a142e56",
            "max": 1,
            "min": 0,
            "orientation": "horizontal",
            "style": "IPY_MODEL_a136bca4d4f5450d999acac51eeda4de",
            "value": 0.20752408625172045
          }
        },
        "22a193fb45db479b8b415aa0b3ae8362": {
          "model_module": "@jupyter-widgets/base",
          "model_name": "LayoutModel",
          "model_module_version": "1.2.0",
          "state": {
            "_model_module": "@jupyter-widgets/base",
            "_model_module_version": "1.2.0",
            "_model_name": "LayoutModel",
            "_view_count": null,
            "_view_module": "@jupyter-widgets/base",
            "_view_module_version": "1.2.0",
            "_view_name": "LayoutView",
            "align_content": null,
            "align_items": null,
            "align_self": null,
            "border": null,
            "bottom": null,
            "display": null,
            "flex": null,
            "flex_flow": null,
            "grid_area": null,
            "grid_auto_columns": null,
            "grid_auto_flow": null,
            "grid_auto_rows": null,
            "grid_column": null,
            "grid_gap": null,
            "grid_row": null,
            "grid_template_areas": null,
            "grid_template_columns": null,
            "grid_template_rows": null,
            "height": null,
            "justify_content": null,
            "justify_items": null,
            "left": null,
            "margin": null,
            "max_height": null,
            "max_width": null,
            "min_height": null,
            "min_width": null,
            "object_fit": null,
            "object_position": null,
            "order": null,
            "overflow": null,
            "overflow_x": null,
            "overflow_y": null,
            "padding": null,
            "right": null,
            "top": null,
            "visibility": null,
            "width": null
          }
        },
        "86c504d5683849518ebb8edf21bbec49": {
          "model_module": "@jupyter-widgets/base",
          "model_name": "LayoutModel",
          "model_module_version": "1.2.0",
          "state": {
            "_model_module": "@jupyter-widgets/base",
            "_model_module_version": "1.2.0",
            "_model_name": "LayoutModel",
            "_view_count": null,
            "_view_module": "@jupyter-widgets/base",
            "_view_module_version": "1.2.0",
            "_view_name": "LayoutView",
            "align_content": null,
            "align_items": null,
            "align_self": null,
            "border": null,
            "bottom": null,
            "display": null,
            "flex": null,
            "flex_flow": null,
            "grid_area": null,
            "grid_auto_columns": null,
            "grid_auto_flow": null,
            "grid_auto_rows": null,
            "grid_column": null,
            "grid_gap": null,
            "grid_row": null,
            "grid_template_areas": null,
            "grid_template_columns": null,
            "grid_template_rows": null,
            "height": null,
            "justify_content": null,
            "justify_items": null,
            "left": null,
            "margin": null,
            "max_height": null,
            "max_width": null,
            "min_height": null,
            "min_width": null,
            "object_fit": null,
            "object_position": null,
            "order": null,
            "overflow": null,
            "overflow_x": null,
            "overflow_y": null,
            "padding": null,
            "right": null,
            "top": null,
            "visibility": null,
            "width": null
          }
        },
        "0fbd1fbb0be5450db923953e54aa08c0": {
          "model_module": "@jupyter-widgets/controls",
          "model_name": "DescriptionStyleModel",
          "model_module_version": "1.5.0",
          "state": {
            "_model_module": "@jupyter-widgets/controls",
            "_model_module_version": "1.5.0",
            "_model_name": "DescriptionStyleModel",
            "_view_count": null,
            "_view_module": "@jupyter-widgets/base",
            "_view_module_version": "1.2.0",
            "_view_name": "StyleView",
            "description_width": ""
          }
        },
        "2950a01094a24a32a4bd5cb07a142e56": {
          "model_module": "@jupyter-widgets/base",
          "model_name": "LayoutModel",
          "model_module_version": "1.2.0",
          "state": {
            "_model_module": "@jupyter-widgets/base",
            "_model_module_version": "1.2.0",
            "_model_name": "LayoutModel",
            "_view_count": null,
            "_view_module": "@jupyter-widgets/base",
            "_view_module_version": "1.2.0",
            "_view_name": "LayoutView",
            "align_content": null,
            "align_items": null,
            "align_self": null,
            "border": null,
            "bottom": null,
            "display": null,
            "flex": null,
            "flex_flow": null,
            "grid_area": null,
            "grid_auto_columns": null,
            "grid_auto_flow": null,
            "grid_auto_rows": null,
            "grid_column": null,
            "grid_gap": null,
            "grid_row": null,
            "grid_template_areas": null,
            "grid_template_columns": null,
            "grid_template_rows": null,
            "height": null,
            "justify_content": null,
            "justify_items": null,
            "left": null,
            "margin": null,
            "max_height": null,
            "max_width": null,
            "min_height": null,
            "min_width": null,
            "object_fit": null,
            "object_position": null,
            "order": null,
            "overflow": null,
            "overflow_x": null,
            "overflow_y": null,
            "padding": null,
            "right": null,
            "top": null,
            "visibility": null,
            "width": null
          }
        },
        "a136bca4d4f5450d999acac51eeda4de": {
          "model_module": "@jupyter-widgets/controls",
          "model_name": "ProgressStyleModel",
          "model_module_version": "1.5.0",
          "state": {
            "_model_module": "@jupyter-widgets/controls",
            "_model_module_version": "1.5.0",
            "_model_name": "ProgressStyleModel",
            "_view_count": null,
            "_view_module": "@jupyter-widgets/base",
            "_view_module_version": "1.2.0",
            "_view_name": "StyleView",
            "bar_color": null,
            "description_width": ""
          }
        }
      }
    }
  },
  "nbformat": 4,
  "nbformat_minor": 5
}