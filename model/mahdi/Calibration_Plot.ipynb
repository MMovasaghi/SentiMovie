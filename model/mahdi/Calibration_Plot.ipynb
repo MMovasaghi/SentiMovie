{
  "nbformat": 4,
  "nbformat_minor": 0,
  "metadata": {
    "colab": {
      "provenance": []
    },
    "kernelspec": {
      "name": "python3",
      "display_name": "Python 3"
    },
    "language_info": {
      "name": "python"
    }
  },
  "cells": [
    {
      "cell_type": "code",
      "execution_count": 37,
      "metadata": {
        "id": "ohjmI1LKV7fe"
      },
      "outputs": [],
      "source": [
        "\n",
        "import pickle\n",
        "import pandas as pd\n",
        "from sklearn.calibration import calibration_curve\n",
        "%matplotlib inline\n",
        "import matplotlib.pyplot as plt\n",
        "import matplotlib.lines as mlines\n",
        "import matplotlib.transforms as mtransforms"
      ]
    },
    {
      "cell_type": "code",
      "source": [
        "\n",
        "\n",
        "from google.colab import drive\n",
        "drive.mount('/content/drive')\n",
        "\n"
      ],
      "metadata": {
        "colab": {
          "base_uri": "https://localhost:8080/"
        },
        "id": "l6mmzYUGW1t7",
        "outputId": "9504ddc9-7047-4b53-f1dd-d9cf7cff8ea5"
      },
      "execution_count": 9,
      "outputs": [
        {
          "output_type": "stream",
          "name": "stdout",
          "text": [
            "Mounted at /content/drive\n"
          ]
        }
      ]
    },
    {
      "cell_type": "code",
      "source": [
        "\n",
        "\n",
        "%cd /content/drive/MyDrive/mlops/mlops_part_2_progect/error_analyse\n",
        "\n"
      ],
      "metadata": {
        "colab": {
          "base_uri": "https://localhost:8080/"
        },
        "id": "qwAMz1bJW3gc",
        "outputId": "20ac760b-0c0b-4518-d286-47369f05bb64"
      },
      "execution_count": 10,
      "outputs": [
        {
          "output_type": "stream",
          "name": "stdout",
          "text": [
            "/content/drive/MyDrive/mlops/mlops_part_2_progect/error_analyse\n"
          ]
        }
      ]
    },
    {
      "cell_type": "code",
      "source": [
        "data = pd.read_pickle('evaluate_validation.pkl')\n",
        "data = pd.DataFrame(data)\n",
        "data"
      ],
      "metadata": {
        "colab": {
          "base_uri": "https://localhost:8080/",
          "height": 424
        },
        "id": "x06KlQNaXHn7",
        "outputId": "7ee7f7ce-bfb1-4c25-acad-e1b306a7a7e3"
      },
      "execution_count": 38,
      "outputs": [
        {
          "output_type": "execute_result",
          "data": {
            "text/plain": [
              "       preds  labels                       probs  \\\n",
              "0          1       1    [0.011193472, 0.9888065]   \n",
              "1          1       1    [0.002089133, 0.9979108]   \n",
              "2          1       1   [0.0020111306, 0.9979888]   \n",
              "3          1       1   [0.0057218196, 0.9942782]   \n",
              "4          1       1  [0.0002624987, 0.99973744]   \n",
              "...      ...     ...                         ...   \n",
              "85422      1       1    [0.10492974, 0.89507025]   \n",
              "85423      1       1   [0.039955977, 0.96004397]   \n",
              "85424      0       0   [0.9919584, 0.0080415895]   \n",
              "85425      1       1   [0.0042088795, 0.9957911]   \n",
              "85426      1       1   [0.003102018, 0.99689794]   \n",
              "\n",
              "                                                       x  \n",
              "0      If the goings-on occasionally become slim or p...  \n",
              "1      Likely to be one of the most shocking and edif...  \n",
              "2      On its simplest and most satisfying level, Lon...  \n",
              "3      I never saw it as the black comedy Kim [Ki-duh...  \n",
              "4      This is a wonderfully baroque, gleeful subvers...  \n",
              "...                                                  ...  \n",
              "85422  Lohan has star power in spades, and enough goi...  \n",
              "85423  So begins the dance for Patrice Leconte's film...  \n",
              "85424  It all goes on and on, and becomes excessively...  \n",
              "85425         [A] watchable fly-on-the-wall documentary.  \n",
              "85426  Almodvar moves the story along at a fair clip ...  \n",
              "\n",
              "[85427 rows x 4 columns]"
            ],
            "text/html": [
              "\n",
              "  <div id=\"df-a75ee674-ca59-44be-9e60-e3f298e8ebae\">\n",
              "    <div class=\"colab-df-container\">\n",
              "      <div>\n",
              "<style scoped>\n",
              "    .dataframe tbody tr th:only-of-type {\n",
              "        vertical-align: middle;\n",
              "    }\n",
              "\n",
              "    .dataframe tbody tr th {\n",
              "        vertical-align: top;\n",
              "    }\n",
              "\n",
              "    .dataframe thead th {\n",
              "        text-align: right;\n",
              "    }\n",
              "</style>\n",
              "<table border=\"1\" class=\"dataframe\">\n",
              "  <thead>\n",
              "    <tr style=\"text-align: right;\">\n",
              "      <th></th>\n",
              "      <th>preds</th>\n",
              "      <th>labels</th>\n",
              "      <th>probs</th>\n",
              "      <th>x</th>\n",
              "    </tr>\n",
              "  </thead>\n",
              "  <tbody>\n",
              "    <tr>\n",
              "      <th>0</th>\n",
              "      <td>1</td>\n",
              "      <td>1</td>\n",
              "      <td>[0.011193472, 0.9888065]</td>\n",
              "      <td>If the goings-on occasionally become slim or p...</td>\n",
              "    </tr>\n",
              "    <tr>\n",
              "      <th>1</th>\n",
              "      <td>1</td>\n",
              "      <td>1</td>\n",
              "      <td>[0.002089133, 0.9979108]</td>\n",
              "      <td>Likely to be one of the most shocking and edif...</td>\n",
              "    </tr>\n",
              "    <tr>\n",
              "      <th>2</th>\n",
              "      <td>1</td>\n",
              "      <td>1</td>\n",
              "      <td>[0.0020111306, 0.9979888]</td>\n",
              "      <td>On its simplest and most satisfying level, Lon...</td>\n",
              "    </tr>\n",
              "    <tr>\n",
              "      <th>3</th>\n",
              "      <td>1</td>\n",
              "      <td>1</td>\n",
              "      <td>[0.0057218196, 0.9942782]</td>\n",
              "      <td>I never saw it as the black comedy Kim [Ki-duh...</td>\n",
              "    </tr>\n",
              "    <tr>\n",
              "      <th>4</th>\n",
              "      <td>1</td>\n",
              "      <td>1</td>\n",
              "      <td>[0.0002624987, 0.99973744]</td>\n",
              "      <td>This is a wonderfully baroque, gleeful subvers...</td>\n",
              "    </tr>\n",
              "    <tr>\n",
              "      <th>...</th>\n",
              "      <td>...</td>\n",
              "      <td>...</td>\n",
              "      <td>...</td>\n",
              "      <td>...</td>\n",
              "    </tr>\n",
              "    <tr>\n",
              "      <th>85422</th>\n",
              "      <td>1</td>\n",
              "      <td>1</td>\n",
              "      <td>[0.10492974, 0.89507025]</td>\n",
              "      <td>Lohan has star power in spades, and enough goi...</td>\n",
              "    </tr>\n",
              "    <tr>\n",
              "      <th>85423</th>\n",
              "      <td>1</td>\n",
              "      <td>1</td>\n",
              "      <td>[0.039955977, 0.96004397]</td>\n",
              "      <td>So begins the dance for Patrice Leconte's film...</td>\n",
              "    </tr>\n",
              "    <tr>\n",
              "      <th>85424</th>\n",
              "      <td>0</td>\n",
              "      <td>0</td>\n",
              "      <td>[0.9919584, 0.0080415895]</td>\n",
              "      <td>It all goes on and on, and becomes excessively...</td>\n",
              "    </tr>\n",
              "    <tr>\n",
              "      <th>85425</th>\n",
              "      <td>1</td>\n",
              "      <td>1</td>\n",
              "      <td>[0.0042088795, 0.9957911]</td>\n",
              "      <td>[A] watchable fly-on-the-wall documentary.</td>\n",
              "    </tr>\n",
              "    <tr>\n",
              "      <th>85426</th>\n",
              "      <td>1</td>\n",
              "      <td>1</td>\n",
              "      <td>[0.003102018, 0.99689794]</td>\n",
              "      <td>Almodvar moves the story along at a fair clip ...</td>\n",
              "    </tr>\n",
              "  </tbody>\n",
              "</table>\n",
              "<p>85427 rows × 4 columns</p>\n",
              "</div>\n",
              "      <button class=\"colab-df-convert\" onclick=\"convertToInteractive('df-a75ee674-ca59-44be-9e60-e3f298e8ebae')\"\n",
              "              title=\"Convert this dataframe to an interactive table.\"\n",
              "              style=\"display:none;\">\n",
              "        \n",
              "  <svg xmlns=\"http://www.w3.org/2000/svg\" height=\"24px\"viewBox=\"0 0 24 24\"\n",
              "       width=\"24px\">\n",
              "    <path d=\"M0 0h24v24H0V0z\" fill=\"none\"/>\n",
              "    <path d=\"M18.56 5.44l.94 2.06.94-2.06 2.06-.94-2.06-.94-.94-2.06-.94 2.06-2.06.94zm-11 1L8.5 8.5l.94-2.06 2.06-.94-2.06-.94L8.5 2.5l-.94 2.06-2.06.94zm10 10l.94 2.06.94-2.06 2.06-.94-2.06-.94-.94-2.06-.94 2.06-2.06.94z\"/><path d=\"M17.41 7.96l-1.37-1.37c-.4-.4-.92-.59-1.43-.59-.52 0-1.04.2-1.43.59L10.3 9.45l-7.72 7.72c-.78.78-.78 2.05 0 2.83L4 21.41c.39.39.9.59 1.41.59.51 0 1.02-.2 1.41-.59l7.78-7.78 2.81-2.81c.8-.78.8-2.07 0-2.86zM5.41 20L4 18.59l7.72-7.72 1.47 1.35L5.41 20z\"/>\n",
              "  </svg>\n",
              "      </button>\n",
              "      \n",
              "  <style>\n",
              "    .colab-df-container {\n",
              "      display:flex;\n",
              "      flex-wrap:wrap;\n",
              "      gap: 12px;\n",
              "    }\n",
              "\n",
              "    .colab-df-convert {\n",
              "      background-color: #E8F0FE;\n",
              "      border: none;\n",
              "      border-radius: 50%;\n",
              "      cursor: pointer;\n",
              "      display: none;\n",
              "      fill: #1967D2;\n",
              "      height: 32px;\n",
              "      padding: 0 0 0 0;\n",
              "      width: 32px;\n",
              "    }\n",
              "\n",
              "    .colab-df-convert:hover {\n",
              "      background-color: #E2EBFA;\n",
              "      box-shadow: 0px 1px 2px rgba(60, 64, 67, 0.3), 0px 1px 3px 1px rgba(60, 64, 67, 0.15);\n",
              "      fill: #174EA6;\n",
              "    }\n",
              "\n",
              "    [theme=dark] .colab-df-convert {\n",
              "      background-color: #3B4455;\n",
              "      fill: #D2E3FC;\n",
              "    }\n",
              "\n",
              "    [theme=dark] .colab-df-convert:hover {\n",
              "      background-color: #434B5C;\n",
              "      box-shadow: 0px 1px 3px 1px rgba(0, 0, 0, 0.15);\n",
              "      filter: drop-shadow(0px 1px 2px rgba(0, 0, 0, 0.3));\n",
              "      fill: #FFFFFF;\n",
              "    }\n",
              "  </style>\n",
              "\n",
              "      <script>\n",
              "        const buttonEl =\n",
              "          document.querySelector('#df-a75ee674-ca59-44be-9e60-e3f298e8ebae button.colab-df-convert');\n",
              "        buttonEl.style.display =\n",
              "          google.colab.kernel.accessAllowed ? 'block' : 'none';\n",
              "\n",
              "        async function convertToInteractive(key) {\n",
              "          const element = document.querySelector('#df-a75ee674-ca59-44be-9e60-e3f298e8ebae');\n",
              "          const dataTable =\n",
              "            await google.colab.kernel.invokeFunction('convertToInteractive',\n",
              "                                                     [key], {});\n",
              "          if (!dataTable) return;\n",
              "\n",
              "          const docLinkHtml = 'Like what you see? Visit the ' +\n",
              "            '<a target=\"_blank\" href=https://colab.research.google.com/notebooks/data_table.ipynb>data table notebook</a>'\n",
              "            + ' to learn more about interactive tables.';\n",
              "          element.innerHTML = '';\n",
              "          dataTable['output_type'] = 'display_data';\n",
              "          await google.colab.output.renderOutput(dataTable, element);\n",
              "          const docLink = document.createElement('div');\n",
              "          docLink.innerHTML = docLinkHtml;\n",
              "          element.appendChild(docLink);\n",
              "        }\n",
              "      </script>\n",
              "    </div>\n",
              "  </div>\n",
              "  "
            ]
          },
          "metadata": {},
          "execution_count": 38
        }
      ]
    },
    {
      "cell_type": "code",
      "source": [
        "prediction_ = data[\"probs\"]. tolist()\n",
        "prediction=[]"
      ],
      "metadata": {
        "id": "g-_Sn9AKc7nV"
      },
      "execution_count": 39,
      "outputs": []
    },
    {
      "cell_type": "code",
      "source": [
        "for i in range(len(prediction_)):\n",
        "  prediction.append(prediction_[i][1])\n"
      ],
      "metadata": {
        "id": "IFPYKgrTeSk6"
      },
      "execution_count": 40,
      "outputs": []
    },
    {
      "cell_type": "code",
      "source": [
        "\n",
        "y, x = calibration_curve(data[\"labels\"]. tolist(), prediction, n_bins=10)"
      ],
      "metadata": {
        "id": "OORXDUlKc8VT"
      },
      "execution_count": 41,
      "outputs": []
    },
    {
      "cell_type": "code",
      "source": [
        "\n",
        "fig, ax = plt.subplots()\n",
        "# only these two lines are calibration curves\n",
        "plt.plot(x,y, marker='o', linewidth=1, label='model')\n",
        "\n",
        "# reference line, legends, and axis labels\n",
        "line = mlines.Line2D([0, 1], [0, 1], color='black')\n",
        "transform = ax.transAxes\n",
        "line.set_transform(transform)\n",
        "ax.add_line(line)\n",
        "fig.suptitle('Calibration plot for data')\n",
        "ax.set_xlabel('Predicted probability')\n",
        "ax.set_ylabel('True probability in each bin')\n",
        "plt.legend()\n",
        "plt.show()"
      ],
      "metadata": {
        "colab": {
          "base_uri": "https://localhost:8080/",
          "height": 497
        },
        "id": "olzfoaKvc8dI",
        "outputId": "c5ebc1b4-dad5-449e-d368-51530995a557"
      },
      "execution_count": 45,
      "outputs": [
        {
          "output_type": "display_data",
          "data": {
            "text/plain": [
              "<Figure size 640x480 with 1 Axes>"
            ],
            "image/png": "[encoded data removed]"
          },
          "metadata": {}
        }
      ]
    }
  ]
}